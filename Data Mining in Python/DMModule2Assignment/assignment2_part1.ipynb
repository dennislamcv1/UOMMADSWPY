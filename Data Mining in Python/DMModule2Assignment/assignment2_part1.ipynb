{
 "cells": [
  {
   "cell_type": "markdown",
   "metadata": {
    "deletable": false,
    "editable": false,
    "nbgrader": {
     "cell_type": "markdown",
     "checksum": "9e76b2c689b11ada2168e4743b520e85",
     "grade": false,
     "grade_id": "cell-774f5be038ebb6ff",
     "locked": true,
     "schema_version": 3,
     "solution": false,
     "task": false
    }
   },
   "source": [
    "# Assignment 2: Mining Itemsets (Part I)\n",
    "\n",
    "\n",
    "Starting from this week, you will get your hands wet by playing with real-world data with your freshly learned data mining techniques.  To test your understanding of the concepts, you will be asked to implement some of these techniques by your own, for which you can only call from a restricted set of APIs.  In your own projects, of course, you are encouraged to use as many packages and APIs as you may. \n",
    "\n",
    "For this assignment, **we collected 10,000 orders from Instacart, a grocery ordering and delivery app**. You will represent this dataset as a collection of itemsets and practice what we learned in class -- mining and evaluating frequent itemsets, and calculating the similarity of itemsets. \n",
    "\n",
    "**Disclaimer**: The data are collected from the real world. As you step into the *wild*, things might not always be nice and clean. Although we, the instructing team, have tried our best effort to filter out data containing poisonous vocabularies and etc. It is still possible that you will encouter offensive contents. \n",
    "\n",
    "In this assignment, you will:\n",
    "\n",
    "- Represent the dataset as a collection of itemsets and mine frequent patterns from it.\n",
    "- Get familiar with a set of metrics for measuring the importance of patterns (support, frequency, lift, chi-square, mutual information).\n",
    "- Calculate Jaccard similarity and find the top $k$ similar itemsets to a given itemset.\n",
    "- Understand Apriori and implement a part of the algorithm.\n",
    "\n",
    "Have fun and cheers!🍻"
   ]
  },
  {
   "cell_type": "markdown",
   "metadata": {
    "deletable": false,
    "editable": false,
    "nbgrader": {
     "cell_type": "markdown",
     "checksum": "3a9ee033c8b6f6b9e9b5350a003821e3",
     "grade": false,
     "grade_id": "cell-fdd109a29f2f502e",
     "locked": true,
     "schema_version": 3,
     "solution": false
    }
   },
   "source": [
    "Now Part I begins. We will represent the dataset as a collection of itemsets and conduct some descriptive analysis. The purpose is to get you familiar with the data. You do not need to change any of the code blocks, but just execute all of them and examine the output. Please read through the text descriptions and the code blocks carefully. After you are done, feel free to further explore the dataset in your own ways. \n",
    "\n",
    "First, let's import the packages and dependencies that will be used later."
   ]
  },
  {
   "cell_type": "code",
   "execution_count": null,
   "metadata": {
    "deletable": false,
    "editable": false,
    "nbgrader": {
     "cell_type": "code",
     "checksum": "7935c645954fc849aec972a3325832f0",
     "grade": false,
     "grade_id": "cell-ad7ca1cfd9d5ddd7",
     "locked": true,
     "schema_version": 3,
     "solution": false,
     "task": false
    }
   },
   "outputs": [],
   "source": [
    "import pandas as pd\n",
    "import matplotlib.pyplot as plt\n",
    "from sklearn.preprocessing import MultiLabelBinarizer"
   ]
  },
  {
   "cell_type": "markdown",
   "metadata": {
    "deletable": false,
    "editable": false,
    "nbgrader": {
     "cell_type": "markdown",
     "checksum": "fd6507038712bec34d0fea67a8d76d76",
     "grade": false,
     "grade_id": "cell-7ae4ffde4e2c8edc",
     "locked": true,
     "schema_version": 3,
     "solution": false,
     "task": false
    }
   },
   "source": [
    "## 1. Data Preprocessing\n",
    "\n",
    "Let's start by loading the dataset and preview its first few lines. In this assignment, we will load two data files:\n",
    "1. `orders.csv.zip`: This file contains the order information, whose columns are order ID and product ID.\n",
    "2. `products.csv.zip`: This file contains the product information, which maps from product ID to its name."
   ]
  },
  {
   "cell_type": "code",
   "execution_count": null,
   "metadata": {
    "deletable": false,
    "editable": false,
    "nbgrader": {
     "cell_type": "code",
     "checksum": "82c74d628940ede3325b0e7e771a51e0",
     "grade": false,
     "grade_id": "cell-12ca3e7839700532",
     "locked": true,
     "schema_version": 3,
     "solution": false,
     "task": false
    }
   },
   "outputs": [],
   "source": [
    "orders = pd.read_csv(\"assets/orders.csv.zip\")\n",
    "products = pd.read_csv(\"assets/products.csv.zip\")"
   ]
  },
  {
   "cell_type": "code",
   "execution_count": null,
   "metadata": {
    "deletable": false,
    "editable": false,
    "nbgrader": {
     "cell_type": "code",
     "checksum": "cad310fd0a045ea409cfa9135d650869",
     "grade": false,
     "grade_id": "cell-d2a500e11493e99e",
     "locked": true,
     "schema_version": 3,
     "solution": false,
     "task": false
    }
   },
   "outputs": [],
   "source": [
    "orders = orders[[\"order_id\", \"product_id\"]]\n",
    "orders.head()"
   ]
  },
  {
   "cell_type": "markdown",
   "metadata": {
    "deletable": false,
    "editable": false,
    "nbgrader": {
     "cell_type": "markdown",
     "checksum": "4b7be1c05093a096693bc346e5c069c4",
     "grade": false,
     "grade_id": "cell-73ae869f5233aa8d",
     "locked": true,
     "schema_version": 3,
     "solution": false,
     "task": false
    }
   },
   "source": [
    "You should find each line of the data is a specific product but the product name is missing. And, obviously, an order may contain multiple products. Now, let's define a dictionary to map product ID to its name so that we can check what products do users buy."
   ]
  },
  {
   "cell_type": "code",
   "execution_count": null,
   "metadata": {
    "deletable": false,
    "editable": false,
    "nbgrader": {
     "cell_type": "code",
     "checksum": "edabb9fd6c98c86dcbbf318766b9408b",
     "grade": false,
     "grade_id": "cell-c4e06e5aad82707a",
     "locked": true,
     "schema_version": 3,
     "solution": false,
     "task": false
    }
   },
   "outputs": [],
   "source": [
    "products = products[[\"product_id\", \"product_name\"]]\n",
    "products.head()"
   ]
  },
  {
   "cell_type": "code",
   "execution_count": null,
   "metadata": {
    "deletable": false,
    "editable": false,
    "nbgrader": {
     "cell_type": "code",
     "checksum": "0f9a4f1b811178e9b87c3de72cad75d1",
     "grade": false,
     "grade_id": "cell-39911762ef774361",
     "locked": true,
     "schema_version": 3,
     "solution": false,
     "task": false
    }
   },
   "outputs": [],
   "source": [
    "product_name_map = dict(zip(products[\"product_id\"], products[\"product_name\"]))"
   ]
  },
  {
   "cell_type": "markdown",
   "metadata": {
    "deletable": false,
    "editable": false,
    "nbgrader": {
     "cell_type": "markdown",
     "checksum": "f6556baac4ee10e2d6c53c4c18538de8",
     "grade": false,
     "grade_id": "cell-6bd0cebad2951ec2",
     "locked": true,
     "schema_version": 3,
     "solution": false,
     "task": false
    }
   },
   "source": [
    "Now, we have all the information we need: the orders data and the products data. We can merge the products in the same order into a list."
   ]
  },
  {
   "cell_type": "code",
   "execution_count": null,
   "metadata": {
    "deletable": false,
    "editable": false,
    "nbgrader": {
     "cell_type": "code",
     "checksum": "3dfb2756f99b5a27165ac1e47f48ac51",
     "grade": false,
     "grade_id": "cell-fa6ccc74b7a52ee3",
     "locked": true,
     "schema_version": 3,
     "solution": false,
     "task": false
    }
   },
   "outputs": [],
   "source": [
    "# Group orders by order id and merge them into a list.\n",
    "order_baskets = orders.groupby(\"order_id\")[\"product_id\"].apply(list)\n",
    "\n",
    "# Convert the above pandas Series to a pandas DataFrame.\n",
    "order_baskets = order_baskets.to_frame(name=\"products_id\")\n",
    "\n",
    "# Create a new column called size that denotes the order sizes.\n",
    "order_baskets[\"size\"] = order_baskets[\"products_id\"].apply(len)\n",
    "\n",
    "# Let's have a look at our processed data!\n",
    "order_baskets.head()"
   ]
  },
  {
   "cell_type": "markdown",
   "metadata": {
    "deletable": false,
    "editable": false,
    "nbgrader": {
     "cell_type": "markdown",
     "checksum": "efbf6fad9629e9249e8711af69d08c84",
     "grade": false,
     "grade_id": "cell-85189184058ebe39",
     "locked": true,
     "schema_version": 3,
     "solution": false,
     "task": false
    }
   },
   "source": [
    "We can use the `product_name_map` we created just now to figure out what products any given order contain. For example, order 42."
   ]
  },
  {
   "cell_type": "code",
   "execution_count": null,
   "metadata": {
    "deletable": false,
    "editable": false,
    "nbgrader": {
     "cell_type": "code",
     "checksum": "0ebacc3589d90b4570ec7b2eecd86183",
     "grade": false,
     "grade_id": "cell-e273fafe3be27a74",
     "locked": true,
     "schema_version": 3,
     "solution": false,
     "task": false
    }
   },
   "outputs": [],
   "source": [
    "order_42 = order_baskets.loc[42][\"products_id\"]\n",
    "for product_id in order_42:\n",
    "    print(product_name_map[product_id])"
   ]
  },
  {
   "cell_type": "markdown",
   "metadata": {
    "deletable": false,
    "editable": false,
    "nbgrader": {
     "cell_type": "markdown",
     "checksum": "7cd16086f5973720bd70435d605a1de5",
     "grade": false,
     "grade_id": "cell-682d7cbb56775be7",
     "locked": true,
     "schema_version": 3,
     "solution": false,
     "task": false
    }
   },
   "source": [
    "## 2. Summary Statistics\n",
    "\n",
    "Before we jump into analyzing a dataset, it is always wise to take a look at some summary statistics first. \n",
    "\n",
    "Let's examine how many products are added in an order(`order_baskets.size`). We can plot its distribution."
   ]
  },
  {
   "cell_type": "code",
   "execution_count": null,
   "metadata": {
    "deletable": false,
    "editable": false,
    "nbgrader": {
     "cell_type": "code",
     "checksum": "ba6b1e17e143d2d053f6b43e096561b9",
     "grade": false,
     "grade_id": "cell-40dad51677ccd5fa",
     "locked": true,
     "schema_version": 3,
     "solution": false,
     "task": false
    }
   },
   "outputs": [],
   "source": [
    "fig, ax = plt.subplots(figsize=(10,5))\n",
    "ax.set_xlabel(\"Number of Items in Baskets\")\n",
    "ax.set_ylabel(\"Frequency\")\n",
    "ax.set_title(\"Distribution of Order Size\")\n",
    "ax.hist(order_baskets[\"size\"], bins=200, range=(0,100), width=1, edgecolor=\"black\")\n",
    "plt.show()"
   ]
  },
  {
   "cell_type": "markdown",
   "metadata": {
    "deletable": false,
    "editable": false,
    "nbgrader": {
     "cell_type": "markdown",
     "checksum": "135f25169ed79defcee13d15edf9bd31",
     "grade": false,
     "grade_id": "cell-44f5d595b67f725c",
     "locked": true,
     "schema_version": 3,
     "solution": false,
     "task": false
    }
   },
   "source": [
    "The length of orders follow a log-normal distribution, which is consistent to [many other human behaviors](https://en.wikipedia.org/wiki/Log-normal_distribution#Occurrence_and_applications). For example, the length of comments posted in internet discussion forums, or even the length of chess games."
   ]
  },
  {
   "cell_type": "markdown",
   "metadata": {
    "deletable": false,
    "editable": false,
    "nbgrader": {
     "cell_type": "markdown",
     "checksum": "a5a2a2c722240df0700fcaa116d8bc7a",
     "grade": false,
     "grade_id": "cell-e422b0dd62f56976",
     "locked": true,
     "schema_version": 3,
     "solution": false,
     "task": false
    }
   },
   "source": [
    "Next, we are now going to use the `mlxtend` for frequent itemset mining. This package requires that the itemsets be transformed into a matrix before being passed to its APIs, where each row represents an itemset and each column represents an item. Each cell encodes whether an item is in an itemset or not. You should know what this transformation does after doing the first assignment. Here we implement this transformation with the `MultiLabelBinarizer` in scikit-learn(`sklearn`)."
   ]
  },
  {
   "cell_type": "code",
   "execution_count": null,
   "metadata": {
    "deletable": false,
    "editable": false,
    "nbgrader": {
     "cell_type": "code",
     "checksum": "2ec61dfabd9f9b5251b4848e0de46be4",
     "grade": false,
     "grade_id": "cell-a13fbccfb3b954b1",
     "locked": true,
     "schema_version": 3,
     "solution": false,
     "task": false
    }
   },
   "outputs": [],
   "source": [
    "mlb = MultiLabelBinarizer(sparse_output=True)\n",
    "prod_matrix = pd.DataFrame.sparse.from_spmatrix(data=mlb.fit_transform(order_baskets[\"products_id\"]), index=order_baskets.index, columns=mlb.classes_)\n",
    "prod_matrix.head()"
   ]
  },
  {
   "cell_type": "code",
   "execution_count": null,
   "metadata": {
    "deletable": false,
    "editable": false,
    "nbgrader": {
     "cell_type": "code",
     "checksum": "6772d0b4768ebde8f985d5a70e7a1f21",
     "grade": false,
     "grade_id": "cell-0ce856d51c43af9a",
     "locked": true,
     "schema_version": 3,
     "solution": false,
     "task": false
    }
   },
   "outputs": [],
   "source": [
    "# Print the sparsity of the matrix\n",
    "print(\"Sparsity: {:.2f}%\".format(100 * prod_matrix.sparse.density))"
   ]
  },
  {
   "cell_type": "markdown",
   "metadata": {
    "deletable": false,
    "editable": false,
    "nbgrader": {
     "cell_type": "markdown",
     "checksum": "2dea8efc7fe578fef5f87e3d6fd47d52",
     "grade": false,
     "grade_id": "cell-6f85d9900605e9bd",
     "locked": true,
     "schema_version": 3,
     "solution": false,
     "task": false
    }
   },
   "source": [
    "*As you may expect, the matrix is very sparse. Only 0.03% of the cells are\n",
    "non-zero. In reality, we may want to use a more efficient data structure to\n",
    "represent the dataset. But for now, let's just use the matrix.*"
   ]
  },
  {
   "cell_type": "markdown",
   "metadata": {
    "deletable": false,
    "editable": false,
    "nbgrader": {
     "cell_type": "markdown",
     "checksum": "f117111f10059792d8debb57b64fbb1b",
     "grade": false,
     "grade_id": "cell-5a101241bb788c7c",
     "locked": true,
     "schema_version": 3,
     "solution": false,
     "task": false
    }
   },
   "source": [
    "Now, let's examine the popularity of individual products, that is, the counts and the distribution of single items (products). The number of orders containing a given product can be calculated as the sum of the column in the product matrix."
   ]
  },
  {
   "cell_type": "code",
   "execution_count": null,
   "metadata": {
    "deletable": false,
    "editable": false,
    "nbgrader": {
     "cell_type": "code",
     "checksum": "b0768ad51f66ccd76fe7fe744ba49edb",
     "grade": false,
     "grade_id": "cell-740729d93a114eca",
     "locked": true,
     "schema_version": 3,
     "solution": false,
     "task": false
    }
   },
   "outputs": [],
   "source": [
    "prod_popularity = prod_matrix.sum(axis=0)\n",
    "\n",
    "for prod_id, prod_freq in prod_popularity.head().items():\n",
    "    print(f\"{product_name_map[prod_id]} - {prod_freq}\")"
   ]
  },
  {
   "cell_type": "markdown",
   "metadata": {
    "deletable": false,
    "editable": false,
    "nbgrader": {
     "cell_type": "markdown",
     "checksum": "f11c295805c865c9dc934825c361ca5c",
     "grade": false,
     "grade_id": "cell-189ac08c7e90f79a",
     "locked": true,
     "schema_version": 3,
     "solution": false
    }
   },
   "source": [
    "### Task 1. Find the most popular products (5 pts)\n",
    "Please compete the `top_n_products` function below, which should return a list of the $n$ most popular products based on the `prod_popularity` DataFrame.\n",
    "\n",
    "Guide:\n",
    "\n",
    "Below, we define most_popular_indices, a series of $n$ index and value pairs, where the index is the product ID and the value is the number of times the product has been ordered.\n",
    "\n",
    "To obtain the names of the $n$ most popular products, simply loop through each index in `most_popular_indices.index`. For each index, you can use `product_name_map[index]` to obtain the name of the product, and use the `.append` function to append that product name to the end of the `most_popular_products` list."
   ]
  },
  {
   "cell_type": "code",
   "execution_count": null,
   "metadata": {
    "deletable": false,
    "nbgrader": {
     "cell_type": "code",
     "checksum": "c34b4a7e4d9613914802890826498173",
     "grade": false,
     "grade_id": "cell-df6d9edb6221d3ac",
     "locked": false,
     "schema_version": 3,
     "solution": true
    }
   },
   "outputs": [],
   "source": [
    "def top_n_products(n):\n",
    "    most_popular_indices = prod_popularity.nlargest(n, keep='first')\n",
    "    \n",
    "    most_popular_products = []\n",
    "    # YOUR CODE HERE\n",
    "    raise NotImplementedError()\n",
    "\n",
    "    return most_popular_products"
   ]
  },
  {
   "cell_type": "code",
   "execution_count": null,
   "metadata": {
    "deletable": false,
    "editable": false,
    "nbgrader": {
     "cell_type": "code",
     "checksum": "794de0bed97a6210fb831a2dbeb2d640",
     "grade": true,
     "grade_id": "cell-af48f86a662544c2",
     "locked": true,
     "points": 5,
     "schema_version": 3,
     "solution": false
    }
   },
   "outputs": [],
   "source": [
    "stu_top_products = top_n_products(2)\n",
    "\n",
    "assert isinstance(stu_top_products, list), f\"Your function should return a list.\"\n",
    "\n",
    "assert all(isinstance(product, str) for product in stu_top_products), f\" All elements in the returned list should be strings.\"\n"
   ]
  },
  {
   "cell_type": "code",
   "execution_count": null,
   "metadata": {},
   "outputs": [],
   "source": [
    "print(f\"Two most popular products: {top_n_products(2)}\")"
   ]
  },
  {
   "cell_type": "markdown",
   "metadata": {},
   "source": [
    "The most popular products turn out to be banana and organic bananas! Is it a surprise? 🍌"
   ]
  }
 ],
 "metadata": {
  "kernelspec": {
   "display_name": "Python 3.10 (ipykernel)",
   "language": "python",
   "name": "python3"
  },
  "language_info": {
   "codemirror_mode": {
    "name": "ipython",
    "version": 3
   },
   "file_extension": ".py",
   "mimetype": "text/x-python",
   "name": "python",
   "nbconvert_exporter": "python",
   "pygments_lexer": "ipython3",
   "version": "3.10.11"
  }
 },
 "nbformat": 4,
 "nbformat_minor": 4
}

{
 "cells": [
  {
   "cell_type": "code",
   "execution_count": null,
   "metadata": {
    "deletable": false,
    "editable": false,
    "nbgrader": {
     "cell_type": "code",
     "checksum": "3b322887aca44da6124081a79df74545",
     "grade": false,
     "grade_id": "cell-c1c0c295c6a6aa36",
     "locked": true,
     "schema_version": 3,
     "solution": false,
     "task": false
    }
   },
   "outputs": [],
   "source": [
    "# First import some necessary libraries\n",
    "import numpy as np\n",
    "import pandas as pd\n",
    "import matplotlib.pyplot as plt\n",
    "from sklearn.preprocessing import StandardScaler\n",
    "from sklearn.decomposition import PCA\n",
    "from sklearn.neighbors import KernelDensity\n",
    "import matplotlib.pyplot as plt\n",
    "from matplotlib.colors import LogNorm\n",
    "from sklearn import mixture\n",
    "up, down = True, False\n",
    "np.set_printoptions(precision=3)\n",
    "pd.set_option(\"expand_frame_repr\", True)\n",
    "pd.set_option(\"colheader_justify\", \"right\")\n",
    "pd.set_option(\"display.max_rows\", None)\n",
    "pd.set_option(\"display.width\", 500)\n",
    "pd.set_option(\"display.max_columns\", 100)\n",
    "pd.set_option(\"display.max_colwidth\", 75)\n",
    "pd.set_option(\"display.precision\", 4)"
   ]
  },
  {
   "cell_type": "markdown",
   "metadata": {
    "deletable": false,
    "editable": false,
    "nbgrader": {
     "cell_type": "markdown",
     "checksum": "d93510c305bf962167637c342b7809f0",
     "grade": false,
     "grade_id": "cell-645f4154e3ff4ae4",
     "locked": true,
     "schema_version": 3,
     "solution": false,
     "task": false
    }
   },
   "source": [
    "<a id='Topic0'></a>\n",
    "\n",
    "# Unsupervised Learning: Assignment 1\n",
    "\n",
    "In this assignment, we're going to be covering dimensionality reduction with PCA. This week, we're going to use a dataset of spotify tracks.\n",
    "\n",
    "    \n",
    "Datasets often have has a huge number of different features for each data point. In the case of our spotify tracks dataset, we have features for each song such as popularity, duration, and \"loudness.\" Applications that utilize data like this -- in this case recommendation systems in music streaming apps -- often need to reduce the number of features/dimensions to the data to make comparing each data point, or song in this case, computationally efficient. In this assignment, we are going to walk you through using PCA dimensionality reduction on a dataset of music tracks, and look into some useful tasks we can conduct with the resulting PCA object. \n",
    "\n",
    "\n",
    "<br>\n",
    "\n",
    "\n"
   ]
  },
  {
   "cell_type": "code",
   "execution_count": null,
   "metadata": {
    "deletable": false,
    "editable": false,
    "nbgrader": {
     "cell_type": "code",
     "checksum": "ca66f67eb74ca4f54285e23550ec0ff8",
     "grade": false,
     "grade_id": "cell-947070a8e6e3cf3c",
     "locked": true,
     "schema_version": 3,
     "solution": false,
     "task": false
    }
   },
   "outputs": [],
   "source": [
    "# Here, we read in the dataset and drop any tracks which might be missing values for a feature.\n",
    "\n",
    "tracks_dataframe = pd.read_csv(\"./assets/tracks.csv\")\n",
    "tracks_dataframe = tracks_dataframe.dropna()\n",
    "\n",
    "# Take a look at what's in the dataset!\n",
    "\n",
    "tracks_dataframe.head()"
   ]
  },
  {
   "cell_type": "code",
   "execution_count": null,
   "metadata": {
    "deletable": false,
    "editable": false,
    "nbgrader": {
     "cell_type": "code",
     "checksum": "2627371e9b5d2c4ac76cc8d0ffe2523c",
     "grade": false,
     "grade_id": "cell-60f145f8e3a1543f",
     "locked": true,
     "schema_version": 3,
     "solution": false,
     "task": false
    }
   },
   "outputs": [],
   "source": [
    "#As you can see, Each track has features such as length, loudness, and speechiness. \n",
    "#We don't need every feature, so we're going to make a dataframe with only the features we want. \n",
    "feature_names = [\"popularity\",\"duration_ms\",\"danceability\",\"energy\",\"key\",\"loudness\",\"speechiness\",\"acousticness\",\"liveness\",\"tempo\"]\n",
    "\n",
    "#Here, we select only these features to simplify our dataset. Take a look at the new data!\n",
    "tracks_dataframe = tracks_dataframe[feature_names]\n",
    "tracks_dataframe.head()"
   ]
  },
  {
   "cell_type": "markdown",
   "metadata": {
    "deletable": false,
    "editable": false,
    "nbgrader": {
     "cell_type": "markdown",
     "checksum": "d64870695526898b2dea6af6fecc1a14",
     "grade": false,
     "grade_id": "cell-01afb38ca5e57389",
     "locked": true,
     "schema_version": 3,
     "solution": false,
     "task": false
    }
   },
   "source": [
    "# Part 1: Creating a Principal Component Analysis Object\n",
    "\n",
    "The first step in conducting a PCA analysis is to create a PCA object. In this part, we will walk you through the process and examine some attributes of the resulting object. "
   ]
  },
  {
   "cell_type": "markdown",
   "metadata": {
    "deletable": false,
    "editable": false,
    "nbgrader": {
     "cell_type": "markdown",
     "checksum": "f973f26ec6dc76a650b4946ca6dbcc2f",
     "grade": false,
     "grade_id": "cell-d78defd650f8a52e",
     "locked": true,
     "schema_version": 3,
     "solution": false,
     "task": false
    }
   },
   "source": [
    "# Task 1a.\n",
    "\n",
    "The first step when preparing a dataset for PCA is to normalize the dataset. \n",
    "\n",
    "Conceptually, remember that what normalization does in each feature is:\n",
    "1. Adjusts the values of a feature so that the feature has a mean of zero\n",
    "2. Values of a feature will be adjusted to have a standard deivation of 1. \n",
    "\n",
    "\n",
    "Complete the function below to return a ndarray containing the normalized contents of `tracks_dataframe` features.\n",
    "\n",
    "Hints:\n",
    " - Helpful Documentation: https://scikit-learn.org/stable/modules/generated/sklearn.preprocessing.StandardScaler.html\n",
    " - The two tools you need here are default StandardScaler and `.fit_transform()`\n",
    " "
   ]
  },
  {
   "cell_type": "code",
   "execution_count": null,
   "metadata": {
    "deletable": false,
    "editable": false,
    "nbgrader": {
     "cell_type": "code",
     "checksum": "32cc41287600cfa283084418890b9395",
     "grade": true,
     "grade_id": "cell-8a320d2f003a7663",
     "locked": true,
     "points": 0,
     "schema_version": 3,
     "solution": false,
     "task": false
    }
   },
   "outputs": [],
   "source": [
    "task_id = \"1a\""
   ]
  },
  {
   "cell_type": "code",
   "execution_count": null,
   "metadata": {
    "deletable": false,
    "nbgrader": {
     "cell_type": "code",
     "checksum": "55dd5df1e6dc47b0a8c52afdf0fbf35a",
     "grade": false,
     "grade_id": "cell-8beb5b3a5809337e",
     "locked": false,
     "schema_version": 3,
     "solution": true,
     "task": false
    }
   },
   "outputs": [],
   "source": [
    "\n",
    "\n",
    "def task_1a_solution():\n",
    "    normalized_data = None\n",
    "    \n",
    "    # YOUR CODE HERE\n",
    "    raise NotImplementedError()\n",
    "    return normalized_data\n",
    "\n"
   ]
  },
  {
   "cell_type": "code",
   "execution_count": null,
   "metadata": {},
   "outputs": [],
   "source": [
    "# Use this cell to explore your solution.\n",
    "\n",
    "task_1a_solution()"
   ]
  },
  {
   "cell_type": "code",
   "execution_count": null,
   "metadata": {
    "deletable": false,
    "editable": false,
    "nbgrader": {
     "cell_type": "code",
     "checksum": "d7d2d5cd7795824c4c2ceb80eb3661a4",
     "grade": true,
     "grade_id": "cell-9aa45397d04fdbd3",
     "locked": true,
     "points": 5,
     "schema_version": 3,
     "solution": false,
     "task": false
    }
   },
   "outputs": [],
   "source": [
    "print(f\"Task {task_id} - AG tests\")\n",
    "stu_ans = task_1a_solution()\n",
    "\n",
    "print(f\"Task {task_id} - your answer:\\n{stu_ans}\")\n",
    "\n",
    "assert isinstance(\n",
    "    stu_ans, np.ndarray\n",
    "), f\"Task {task_id}: Your function should return an np.ndarray. \"\n",
    "\n",
    "assert (\n",
    "    stu_ans.shape[1] == 10\n",
    "), f\"Task {task_id}: Your returned ndarray has an incorrect number of columns. \"\n",
    "\n",
    "assert np.isclose(\n",
    "    np.mean(stu_ans, axis=0), 0.0\n",
    ").all(), (\n",
    "    f\"Task {task_id}: The columns of your returned ndarray should have a zero mean. \"\n",
    ")\n",
    "\n",
    "assert np.isclose(\n",
    "    np.std(stu_ans, axis=0), 1.0\n",
    ").all(), (\n",
    "    f\"Task {task_id}: The columns of your returned ndarray should have a unit std. \"\n",
    ")\n",
    "\n",
    "\n",
    "del stu_ans"
   ]
  },
  {
   "cell_type": "markdown",
   "metadata": {
    "deletable": false,
    "editable": false,
    "nbgrader": {
     "cell_type": "markdown",
     "checksum": "245dcdf874f591f77b07bc26cb9730e8",
     "grade": false,
     "grade_id": "cell-34b09731ebe060f4",
     "locked": true,
     "schema_version": 3,
     "solution": false,
     "task": false
    }
   },
   "source": [
    "# Task 1b:\n",
    "\n",
    "Now, create a PCA object using the normalized data you produced in task 1a. \n",
    "\n",
    "For the arguments, use n_components=6 and random_state = 42.\n",
    "\n",
    "Helpful Documentation: https://scikit-learn.org/stable/modules/generated/sklearn.decomposition.PCA.html"
   ]
  },
  {
   "cell_type": "code",
   "execution_count": null,
   "metadata": {
    "deletable": false,
    "editable": false,
    "nbgrader": {
     "cell_type": "code",
     "checksum": "3d4fa1a772c3f09f43babe559bf7ddf0",
     "grade": true,
     "grade_id": "cell-b8bada8190f8cc9e",
     "locked": true,
     "points": 0,
     "schema_version": 3,
     "solution": false,
     "task": false
    }
   },
   "outputs": [],
   "source": [
    "task_id = '1b'\n"
   ]
  },
  {
   "cell_type": "code",
   "execution_count": null,
   "metadata": {
    "deletable": false,
    "nbgrader": {
     "cell_type": "code",
     "checksum": "78461b9a1095452c7963f4daa71da16a",
     "grade": false,
     "grade_id": "cell-0f464d733c3a8865",
     "locked": false,
     "schema_version": 3,
     "solution": true,
     "task": false
    }
   },
   "outputs": [],
   "source": [
    "\n",
    "def task_1b_solution():\n",
    "    normalized_data = task_1a_solution()\n",
    "    \n",
    "    # YOUR CODE HERE\n",
    "    raise NotImplementedError()\n",
    "    return pca"
   ]
  },
  {
   "cell_type": "code",
   "execution_count": null,
   "metadata": {},
   "outputs": [],
   "source": [
    "# Use this cell to explore your solution.\n",
    "\n",
    "task_1b_solution()"
   ]
  },
  {
   "cell_type": "code",
   "execution_count": null,
   "metadata": {
    "deletable": false,
    "editable": false,
    "nbgrader": {
     "cell_type": "code",
     "checksum": "a49ea47cf2dad63b96b740b29d604141",
     "grade": true,
     "grade_id": "cell-23f609514da02534",
     "locked": true,
     "points": 5,
     "schema_version": 3,
     "solution": false,
     "task": false
    }
   },
   "outputs": [],
   "source": [
    "#here are some tests which may help troubleshoot your answer.\n",
    "\n",
    "\n",
    "print(f\"Task {task_id} - AG tests\")\n",
    "stu_ans = task_1b_solution()\n",
    "\n",
    "print(f\"Task {task_id} - your answer:\\n{stu_ans}\")\n",
    "\n",
    "\n",
    "assert isinstance(\n",
    "    stu_ans, PCA\n",
    "), f\"Task {task_id}: Your function should return a PCA object. \"\n",
    "\n",
    "assert (\n",
    "    stu_ans.n_components == 6\n",
    "), f\"Task {task_id}: Your PCA object should be set to produce 6 components. \"\n",
    "assert stu_ans.components_.shape == (\n",
    "    6,\n",
    "    10,\n",
    "), f\"Task {task_id}: Your PCA fit on the grouped data should have produced 10 columns (one for each of the review_ features).\"\n",
    "\n",
    "\n",
    "del stu_ans"
   ]
  },
  {
   "cell_type": "markdown",
   "metadata": {
    "deletable": false,
    "editable": false,
    "nbgrader": {
     "cell_type": "markdown",
     "checksum": "52929a22efa29fd64e36acad640b94ce",
     "grade": false,
     "grade_id": "cell-8a497ddf2ad9c664",
     "locked": true,
     "schema_version": 3,
     "solution": false,
     "task": false
    }
   },
   "source": [
    "<br>\n",
    "Great! We now have our PCA object. Now we're going to examine some neat things we can do with it. \n",
    "\n",
    "# Task 1c:\n",
    "\n",
    "We know that each feature has a different weight in each principal component. \n",
    "\n",
    "Complete the function below to return the 3 features that have the highest absolute value weight for each of the\n",
    "six principal components. This tells us which features \"influence\" that principal component the most.\n",
    "\n",
    "- At a high level, this is what the function should do:\n",
    "    - Get loadings of the principal components from the PCA object's .components_ attribute.\n",
    "    - Iterate through each loading\n",
    "    - For that loading, take the biggest 3 absolute value feature weights and add the names of the corresponding names to the list of results.\n",
    "\n",
    "    \n",
    "- Hints: \n",
    "   - np.argsort() and np.abs() are useful for obtaining the indices of the highest feature weights in a loading.\n",
    "   - Recall that you can use index into the `feature_names` list we created above to reference feature names. For example, if the third loading in the  list has the highest absolute value weight, you can get the feature name with `feature_names[2]`.\n",
    "   - You should add each list of 3 feature names to the end of \"results\". The list should be sorted from least to most weight (the last feature name in each list should have the highest weight) \n",
    "     \n"
   ]
  },
  {
   "cell_type": "code",
   "execution_count": null,
   "metadata": {
    "deletable": false,
    "editable": false,
    "nbgrader": {
     "cell_type": "code",
     "checksum": "b17041f88c087cde26c50e28538ddb64",
     "grade": true,
     "grade_id": "cell-331651a3247c2d99",
     "locked": true,
     "points": 0,
     "schema_version": 3,
     "solution": false,
     "task": false
    }
   },
   "outputs": [],
   "source": [
    "task_id = '1c'\n",
    "\n"
   ]
  },
  {
   "cell_type": "code",
   "execution_count": null,
   "metadata": {
    "deletable": false,
    "nbgrader": {
     "cell_type": "code",
     "checksum": "ae8cf4c2c024eadc81041c9f5ec33184",
     "grade": false,
     "grade_id": "cell-3c0d8d23e188d9d6",
     "locked": false,
     "schema_version": 3,
     "solution": true,
     "task": false
    }
   },
   "outputs": [],
   "source": [
    "\n",
    "\n",
    "def task_1c_solution():\n",
    "    result = []\n",
    "    pcaObject = task_1b_solution()\n",
    "    # YOUR CODE HERE\n",
    "    raise NotImplementedError()\n",
    "\n",
    "    return (result)"
   ]
  },
  {
   "cell_type": "code",
   "execution_count": null,
   "metadata": {},
   "outputs": [],
   "source": [
    "# Use this cell to explore your solution.\n",
    "\n",
    "task_1c_solution()"
   ]
  },
  {
   "cell_type": "code",
   "execution_count": null,
   "metadata": {
    "deletable": false,
    "editable": false,
    "nbgrader": {
     "cell_type": "code",
     "checksum": "7ed450367f1a9670bbcf010a11e8ffcc",
     "grade": true,
     "grade_id": "cell-989f932bb6565418",
     "locked": true,
     "points": 20,
     "schema_version": 3,
     "solution": false,
     "task": false
    }
   },
   "outputs": [],
   "source": [
    "\n",
    "print(f\"Task {task_id} - AG tests\")\n",
    "stu_ans = task_1c_solution()\n",
    "\n",
    "\n",
    "print(f\"Task {task_id} - your answer:\\n{stu_ans}\")\n",
    "\n",
    "\n",
    "assert isinstance(\n",
    "    stu_ans, list\n",
    "), f\"Task {task_id}: Your function should return a list. \"\n",
    "\n",
    "assert (\n",
    "    len(stu_ans) == 6\n",
    "), f\"Task {task_id}: Your function should return an list of length 6. \"\n",
    "\n",
    "\n",
    "# Some hidden tests\n",
    "\n",
    "del stu_ans"
   ]
  },
  {
   "cell_type": "markdown",
   "metadata": {
    "deletable": false,
    "editable": false,
    "nbgrader": {
     "cell_type": "markdown",
     "checksum": "33e3810705e8b4fe898262f076850301",
     "grade": false,
     "grade_id": "cell-b396dff6e2d1365d",
     "locked": true,
     "schema_version": 3,
     "solution": false,
     "task": false
    }
   },
   "source": [
    "Take a look at the first 3 principal components. Think about how each component represents a certain aspect of a song. \n",
    "\n",
    "# Task 1d: Principal Components ratio:\n",
    "\n",
    "We know that each Principal component accounts for a portion of the dataset's variance.\n",
    "\n",
    "Complete the below function to return a value representing how much variance the first 5 principal components account for.\n",
    "\n",
    "Hint: The explained_variance_ratio_ attribute of the PCA object is useful."
   ]
  },
  {
   "cell_type": "code",
   "execution_count": null,
   "metadata": {
    "deletable": false,
    "editable": false,
    "nbgrader": {
     "cell_type": "code",
     "checksum": "cb42a715571588d2b89d68b007b82c29",
     "grade": true,
     "grade_id": "cell-76fd79f2b370f9ec",
     "locked": true,
     "points": 0,
     "schema_version": 3,
     "solution": false,
     "task": false
    }
   },
   "outputs": [],
   "source": [
    "task_id = '1d'\n"
   ]
  },
  {
   "cell_type": "code",
   "execution_count": null,
   "metadata": {
    "deletable": false,
    "nbgrader": {
     "cell_type": "code",
     "checksum": "00407e2cde7ff4f32588c3c06144cbd8",
     "grade": false,
     "grade_id": "cell-96b8a39e3e462b0b",
     "locked": false,
     "schema_version": 3,
     "solution": true,
     "task": false
    }
   },
   "outputs": [],
   "source": [
    "def task_1d_solution():\n",
    "    tracksPCAObject = task_1b_solution()\n",
    "    cumulative_ratio = 0.0\n",
    "    #YOUR CODE HERE\n",
    "    # YOUR CODE HERE\n",
    "    raise NotImplementedError()\n",
    "    return cumulative_ratio"
   ]
  },
  {
   "cell_type": "code",
   "execution_count": null,
   "metadata": {},
   "outputs": [],
   "source": [
    "# Use this cell to explore your solution.\n",
    "\n",
    "task_1d_solution()"
   ]
  },
  {
   "cell_type": "code",
   "execution_count": null,
   "metadata": {
    "deletable": false,
    "editable": false,
    "nbgrader": {
     "cell_type": "code",
     "checksum": "b36d805c94ab42d79e81fc51b9c80e4c",
     "grade": true,
     "grade_id": "cell-7952f861dc4c2f4a",
     "locked": true,
     "points": 20,
     "schema_version": 3,
     "solution": false,
     "task": false
    }
   },
   "outputs": [],
   "source": [
    "\n",
    "print(f\"Task {task_id} - AG tests\")\n",
    "stu_ans = task_1d_solution()\n",
    "\n",
    "print(f\"Task {task_id} - your answer:\\n{stu_ans}\")\n",
    "\n",
    "assert isinstance(\n",
    "    stu_ans, float\n",
    "), f\"Task {task_id}: Your function should return a float. \"\n",
    "\n",
    "\n",
    "\n",
    "del stu_ans"
   ]
  },
  {
   "cell_type": "markdown",
   "metadata": {
    "deletable": false,
    "editable": false,
    "nbgrader": {
     "cell_type": "markdown",
     "checksum": "93e7400605b84ddc873297fca2916b8f",
     "grade": false,
     "grade_id": "cell-565637441cd052c1",
     "locked": true,
     "schema_version": 3,
     "solution": false,
     "task": false
    }
   },
   "source": [
    "# Task 2: Analyzing a scree plot.\n",
    "\n",
    "With the PCA object you created in task 1b, we can create a scree plot shown below, which can help us determine the number of principal components we need to account for an adequate amount of variance in the data.\n",
    "We've also added a vertical line at eigenvalue 1.0 which will help you in this question."
   ]
  },
  {
   "cell_type": "code",
   "execution_count": null,
   "metadata": {
    "deletable": false,
    "editable": false,
    "nbgrader": {
     "cell_type": "code",
     "checksum": "c1e8b0ed63c00afa07f609c03947ad54",
     "grade": false,
     "grade_id": "cell-c0b7b27eac4792ff",
     "locked": true,
     "schema_version": 3,
     "solution": false,
     "task": false
    }
   },
   "outputs": [],
   "source": [
    "\n",
    "#Notice how we use normal explained_variance. You just used explained_variance_ratio_ in the previous part!\n",
    "\n",
    "df = pd.DataFrame({'eigenvalue': np.sqrt(task_1b_solution().explained_variance_), \n",
    "                   'PC': ['01', '02', '03', '04', '05', '06']})\n",
    "\n",
    "plt.plot(df['PC'], df['eigenvalue'], marker='o', color='c', linestyle='-')\n",
    "\n",
    "plt.axhline(y=1.0, color='r', linestyle='--', label='Eigenvalue = 1.0')\n",
    "\n",
    "plt.xlabel('PC')\n",
    "plt.ylabel('Eigenvalue')\n",
    "plt.title('Scree Plot')\n",
    "\n",
    "plt.legend()\n",
    "\n",
    "plt.show()\n"
   ]
  },
  {
   "cell_type": "code",
   "execution_count": null,
   "metadata": {
    "deletable": false,
    "editable": false,
    "nbgrader": {
     "cell_type": "code",
     "checksum": "25b4dd1a0575a97cf4b64d87eb580c06",
     "grade": true,
     "grade_id": "cell-692072fcdb91ceba",
     "locked": true,
     "points": 0,
     "schema_version": 3,
     "solution": false,
     "task": false
    }
   },
   "outputs": [],
   "source": [
    "task_id = '2'"
   ]
  },
  {
   "cell_type": "markdown",
   "metadata": {
    "deletable": false,
    "editable": false,
    "nbgrader": {
     "cell_type": "markdown",
     "checksum": "8217d9b0aa057743c7aafd46b7c694f2",
     "grade": false,
     "grade_id": "cell-b03fc5282e12892b",
     "locked": true,
     "schema_version": 3,
     "solution": false,
     "task": false
    }
   },
   "source": [
    "Based on the Kaiser Heuristic, how many principal components should we use to get a good representation of the dataset?\n",
    "\n",
    "Put your answer as the return value in the function below:\n"
   ]
  },
  {
   "cell_type": "code",
   "execution_count": null,
   "metadata": {
    "deletable": false,
    "nbgrader": {
     "cell_type": "code",
     "checksum": "65dcd4bff6dafa46ac8426c2c2e3e777",
     "grade": false,
     "grade_id": "cell-5b24c9c4a9932f43",
     "locked": false,
     "schema_version": 3,
     "solution": true,
     "task": false
    }
   },
   "outputs": [],
   "source": [
    "\n",
    "def task_2_solution():\n",
    "    solution = None\n",
    "\n",
    "    # YOUR CODE HERE\n",
    "    raise NotImplementedError()\n",
    "    \n",
    "    return solution"
   ]
  },
  {
   "cell_type": "code",
   "execution_count": null,
   "metadata": {
    "deletable": false,
    "editable": false,
    "nbgrader": {
     "cell_type": "code",
     "checksum": "466656773365f50fe4d1d5e6d92bc89d",
     "grade": true,
     "grade_id": "cell-71b7f19ddf546893",
     "locked": true,
     "points": 0,
     "schema_version": 3,
     "solution": false,
     "task": false
    }
   },
   "outputs": [],
   "source": [
    "\n",
    "print(f\"Task {task_id} - AG tests\")\n",
    "stu_ans = task_2_solution()\n",
    "\n",
    "assert isinstance(\n",
    "    stu_ans, int\n",
    "), f\"Task {task_id}: Your function should return a int. \"\n"
   ]
  },
  {
   "cell_type": "markdown",
   "metadata": {
    "deletable": false,
    "editable": false,
    "nbgrader": {
     "cell_type": "markdown",
     "checksum": "322cce6ddaa08cc0a329488144a3fe05",
     "grade": false,
     "grade_id": "cell-54999f0197a86b9a",
     "locked": true,
     "schema_version": 3,
     "solution": false,
     "task": false
    }
   },
   "source": [
    "# Part 3: Analyzing a biplot\n",
    "\n",
    "Often, biplots are used to visualize PCA components. The code below uses the PCA object you created in part 1 to draw a biplot of the first 2 principal components. Run the cell below to create the graph. In this part, you will answer questions about the biplot."
   ]
  },
  {
   "cell_type": "code",
   "execution_count": null,
   "metadata": {
    "deletable": false,
    "editable": false,
    "nbgrader": {
     "cell_type": "code",
     "checksum": "08afc4645207a6875a7ea08f6aae31fc",
     "grade": false,
     "grade_id": "cell-37817ec6650f071a",
     "locked": true,
     "schema_version": 3,
     "solution": false,
     "task": false
    }
   },
   "outputs": [],
   "source": [
    "\n",
    "\n",
    "def biplot(score, coeff, maxdim, pcax, pcay, labels=None):\n",
    "    \"\"\"Routine to generate a high-quality biplot\"\"\"\n",
    "\n",
    "    pca1 = pcax - 1\n",
    "    pca2 = pcay - 1\n",
    "    xs = score[:, pca1]\n",
    "    ys = score[:, pca2]\n",
    "    n = min(coeff.shape[0], maxdim)\n",
    "    scalex = 2.0 / (xs.max() - xs.min())\n",
    "    scaley = 2.0 / (ys.max() - ys.min())\n",
    "    text_scale_factor = 1.5\n",
    "\n",
    "    plt.figure(figsize=(10, 9))\n",
    "    plt.scatter(xs * scalex, ys * scaley, s=1)\n",
    "    xspecific = score[[20362, 103573, 76020], pca1]\n",
    "    yspecific = score[[20362, 103573, 76020], pca2]\n",
    "    ##xspecific = score[31:34, pca1]\n",
    "    ##yspecific = score[31:34, pca2]\n",
    "    plt.scatter(xspecific[0] * scalex, yspecific[0] * scaley, color='Yellow', marker='*', s=100)\n",
    "    plt.scatter(xspecific[1] * scalex, yspecific[1] * scaley, color='Purple', marker='*', s=100)\n",
    "    plt.scatter(xspecific[2] * scalex, yspecific[2] * scaley, color='Pink', marker='*', s=100)\n",
    "\n",
    "\n",
    "    for i in range(n):\n",
    "        plt.arrow(0, 0, coeff[i, pca1], coeff[i, pca2], color=\"r\", alpha=0.5)\n",
    "        if labels is None:\n",
    "            plt.text(\n",
    "                coeff[i, pca1] * text_scale_factor,\n",
    "                coeff[i, pca2] * text_scale_factor,\n",
    "                \"Var\" + str(i + 1),\n",
    "                color=\"r\",\n",
    "                ha=\"center\",\n",
    "                va=\"center\",\n",
    "            )\n",
    "        else:\n",
    "            plt.text(\n",
    "                coeff[i, pca1] * text_scale_factor,\n",
    "                coeff[i, pca2],\n",
    "                labels[i],\n",
    "                color=\"r\",\n",
    "                ha=\"center\",\n",
    "                va=\"center\",\n",
    "            )\n",
    "    plt.xlim(-1, 1)\n",
    "    plt.ylim(-1, 1)\n",
    "    plt.xlabel(\"PC{}\".format(pcax))\n",
    "    plt.ylabel(\"PC{}\".format(pcay))\n",
    "    plt.grid()\n",
    "    plt.tight_layout()\n",
    "    return\n",
    "\n",
    "\n",
    "def make_biplot():\n",
    "    X_spotify_normalized = task_1a_solution()## part_fa()\n",
    "    pca = task_1b_solution()\n",
    "    X_spotify_pca = pca.transform(X_spotify_normalized)\n",
    "    \n",
    "    biplot(\n",
    "        X_spotify_pca, np.transpose(pca.components_[0:2, :]), 5, 1, 2, labels=feature_names\n",
    "    )\n",
    "    print(len(X_spotify_pca))\n",
    "\n",
    "    return\n",
    "\n",
    "make_biplot()"
   ]
  },
  {
   "cell_type": "markdown",
   "metadata": {
    "deletable": false,
    "editable": false,
    "nbgrader": {
     "cell_type": "markdown",
     "checksum": "9e1ac72ab871c77345d94e2e69fe3df1",
     "grade": false,
     "grade_id": "cell-768a11624944085b",
     "locked": true,
     "schema_version": 3,
     "solution": false,
     "task": false
    }
   },
   "source": [
    "# Task 3a: \n",
    "\n",
    "For the first task involving the biplot, answer the following questions: \n",
    "\n",
    "\n",
    "- Which are the two most correlated variables?\n",
    "- Which are the two least correlated variables?\n",
    "\n",
    "Populate the provided lists with your solution. Put them in alphabetical order."
   ]
  },
  {
   "cell_type": "code",
   "execution_count": null,
   "metadata": {
    "deletable": false,
    "editable": false,
    "nbgrader": {
     "cell_type": "code",
     "checksum": "2b67aabf87675c5f921f98451e6073b1",
     "grade": true,
     "grade_id": "cell-0935c94bbbd7e9f4",
     "locked": true,
     "points": 0,
     "schema_version": 3,
     "solution": false,
     "task": false
    }
   },
   "outputs": [],
   "source": [
    "task_id = '3a'"
   ]
  },
  {
   "cell_type": "code",
   "execution_count": null,
   "metadata": {
    "deletable": false,
    "nbgrader": {
     "cell_type": "code",
     "checksum": "dde3bf379b493b81bdba855f516e0ff3",
     "grade": false,
     "grade_id": "cell-5a50910b17be4131",
     "locked": false,
     "schema_version": 3,
     "solution": true,
     "task": false
    }
   },
   "outputs": [],
   "source": [
    "\n",
    "\n",
    "def task_3a_solution():\n",
    "    most_correlated = [\"\",\"\"]\n",
    "    least_correlated =  [\"\",\"\"] \n",
    "    \n",
    "    # YOUR CODE HERE\n",
    "    raise NotImplementedError()\n",
    "\n",
    "    return most_correlated, least_correlated\n",
    "\n"
   ]
  },
  {
   "cell_type": "code",
   "execution_count": null,
   "metadata": {
    "deletable": false,
    "editable": false,
    "nbgrader": {
     "cell_type": "code",
     "checksum": "d27e75d112ed01cba26223ced78b9b1a",
     "grade": true,
     "grade_id": "cell-269bafbacd10bc9d",
     "locked": true,
     "points": 5,
     "schema_version": 3,
     "solution": false,
     "task": false
    }
   },
   "outputs": [],
   "source": [
    "\n",
    "print(f\"Task {task_id} - AG tests\")\n",
    "stu_ans = task_3a_solution()\n",
    "\n",
    "assert isinstance(\n",
    "    stu_ans, tuple\n",
    "), f\"Task {task_id}: Your function should return a tuple. \"\n",
    "\n",
    "assert len(stu_ans) == 2, f\"Task {task_id}: Your function should return a tuple of length 2.\"\n",
    "\n",
    "for i, item in enumerate(stu_ans):\n",
    "    assert isinstance(item, list), f\"Task {task_id}: Element {i} of the tuple should be a list.\"\n",
    "    assert len(item) == 2, f\"Task {task_id}: List {i} should contain exactly two elements.\"\n",
    "    for j, val in enumerate(item):\n",
    "        assert isinstance(val, str), f\"Task {task_id}: Element {j} in list {i} should be a string.\"\n",
    "\n",
    "\n",
    "del stu_ans\n"
   ]
  },
  {
   "cell_type": "markdown",
   "metadata": {
    "deletable": false,
    "editable": false,
    "nbgrader": {
     "cell_type": "markdown",
     "checksum": "4f3aea716e910482df49d97fd25541b9",
     "grade": false,
     "grade_id": "cell-d4bfb25301dc26da",
     "locked": true,
     "schema_version": 3,
     "solution": false,
     "task": false
    }
   },
   "source": [
    "# Task 3b:\n",
    "Of the three stars, one refers the popular pop song \"Paris\" by the chainsmokers, another refers to a popular Spanish pop rock song, and a third refers to an old orchestral song. Which refers to the old orchestral song? \n",
    "\n",
    "\n",
    "Put your answer as the string 'Pink', 'Yellow', or 'Purple' "
   ]
  },
  {
   "cell_type": "code",
   "execution_count": null,
   "metadata": {
    "deletable": false,
    "editable": false,
    "nbgrader": {
     "cell_type": "code",
     "checksum": "fa6d6b2726ed1d5fde8013c75453403f",
     "grade": true,
     "grade_id": "cell-784598038c8b19b0",
     "locked": true,
     "points": 0,
     "schema_version": 3,
     "solution": false,
     "task": false
    }
   },
   "outputs": [],
   "source": [
    "task_id = '3b'"
   ]
  },
  {
   "cell_type": "code",
   "execution_count": null,
   "metadata": {
    "deletable": false,
    "nbgrader": {
     "cell_type": "code",
     "checksum": "e9d6db3f9eb07d9360867eecb52441a8",
     "grade": false,
     "grade_id": "cell-95848026e119fe4a",
     "locked": false,
     "schema_version": 3,
     "solution": true,
     "task": false
    }
   },
   "outputs": [],
   "source": [
    "\n",
    "def task_3b_solution():\n",
    "    ans = None\n",
    "\n",
    "    # YOUR CODE HERE\n",
    "    raise NotImplementedError()\n",
    "    return ans"
   ]
  },
  {
   "cell_type": "code",
   "execution_count": null,
   "metadata": {},
   "outputs": [],
   "source": [
    "# Use this cell to explore your solution.\n",
    "\n",
    "task_3b_solution()"
   ]
  },
  {
   "cell_type": "code",
   "execution_count": null,
   "metadata": {
    "deletable": false,
    "editable": false,
    "nbgrader": {
     "cell_type": "code",
     "checksum": "559b27f60d9b565e97a847d15819c281",
     "grade": true,
     "grade_id": "cell-c726271fb3df26b3",
     "locked": true,
     "points": 5,
     "schema_version": 3,
     "solution": false,
     "task": false
    }
   },
   "outputs": [],
   "source": [
    "\n",
    "print(f\"Task {task_id} - AG tests\")\n",
    "stu_ans = task_3b_solution()\n",
    "\n",
    "assert isinstance(\n",
    "    stu_ans, str\n",
    "), f\"Task {task_id}: Your function should return a str. \"\n",
    "\n",
    "\n",
    "del stu_ans"
   ]
  },
  {
   "cell_type": "markdown",
   "metadata": {
    "deletable": false,
    "editable": false,
    "nbgrader": {
     "cell_type": "markdown",
     "checksum": "f5330d40e81d10bebc781d13c13b45d3",
     "grade": false,
     "grade_id": "cell-d9421a4cbbb3bd3e",
     "locked": true,
     "schema_version": 3,
     "solution": false,
     "task": false
    }
   },
   "source": [
    "# Part 4: Kernel Density\n",
    "\n",
    "Almost done! In the last part of this assignment, we will be using PCA components plotted into coordinate space in a kernel density object, which will allow us to glean interesting data about songs in the dataset. In this part, we will be computing the \"probability\" of the orchestral song existing in the dataset. \n",
    "\n",
    "The code below is a helper function which will give us the first 2 principal components in coordinate format.\n"
   ]
  },
  {
   "cell_type": "code",
   "execution_count": null,
   "metadata": {
    "deletable": false,
    "editable": false,
    "nbgrader": {
     "cell_type": "code",
     "checksum": "83d0d174573c4f8023dd76a06089f7cc",
     "grade": false,
     "grade_id": "cell-cf563ff1d1f50070",
     "locked": true,
     "schema_version": 3,
     "solution": false,
     "task": false
    }
   },
   "outputs": [],
   "source": [
    "def get_PCA_coordinates():\n",
    "\n",
    "    X_spotify_normalized = task_1a_solution()\n",
    "    pca = task_1b_solution()\n",
    "    X_spotify_pca = pca.transform(X_spotify_normalized)\n",
    "    xs = X_spotify_pca[:, 0]\n",
    "    ys = X_spotify_pca[:, 1]\n",
    "    coordinates = np.column_stack((xs, ys))\n",
    "    return coordinates"
   ]
  },
  {
   "cell_type": "markdown",
   "metadata": {
    "deletable": false,
    "editable": false,
    "nbgrader": {
     "cell_type": "markdown",
     "checksum": "e69c7d80156b13c6d72e16c8e319c1ac",
     "grade": false,
     "grade_id": "cell-546d3ab37e385a5b",
     "locked": true,
     "schema_version": 3,
     "solution": false,
     "task": false
    }
   },
   "source": [
    "# Task 4a:\n",
    "The first step is to create the kernel density object. Create one using the coordinates from our helper function. \n",
    "\n",
    "Use 'gaussian' for the kernel argument.\n",
    "\n",
    "See the following documentation to see how to create the kernel density object: \n",
    "https://scikit-learn.org/dev/modules/generated/sklearn.neighbors.KernelDensity.html\n",
    "\n",
    "Hint: Use `coordinates` as X."
   ]
  },
  {
   "cell_type": "code",
   "execution_count": null,
   "metadata": {
    "deletable": false,
    "editable": false,
    "nbgrader": {
     "cell_type": "code",
     "checksum": "8720b8df44dec133650e8f624a542714",
     "grade": true,
     "grade_id": "cell-a378358560e9eefd",
     "locked": true,
     "points": 0,
     "schema_version": 3,
     "solution": false,
     "task": false
    }
   },
   "outputs": [],
   "source": [
    "task_id = '4a'\n",
    "\n"
   ]
  },
  {
   "cell_type": "code",
   "execution_count": null,
   "metadata": {
    "deletable": false,
    "nbgrader": {
     "cell_type": "code",
     "checksum": "b9b7d798215d6617906d734479a81e6c",
     "grade": false,
     "grade_id": "cell-7c1d4f982ab7fda6",
     "locked": false,
     "schema_version": 3,
     "solution": true,
     "task": false
    }
   },
   "outputs": [],
   "source": [
    "def task_4a_solution():\n",
    "    coordinates = get_PCA_coordinates()\n",
    "    kde = None\n",
    "\n",
    "    #YOUR CODE HERE\n",
    "    # YOUR CODE HERE\n",
    "    raise NotImplementedError()\n",
    "\n",
    "    return kde"
   ]
  },
  {
   "cell_type": "code",
   "execution_count": null,
   "metadata": {},
   "outputs": [],
   "source": [
    "# Use this cell to explore your solution.\n",
    "\n",
    "task_4a_solution()"
   ]
  },
  {
   "cell_type": "code",
   "execution_count": null,
   "metadata": {
    "deletable": false,
    "editable": false,
    "nbgrader": {
     "cell_type": "code",
     "checksum": "9f27a355f8ec5ed5628164f40c315330",
     "grade": true,
     "grade_id": "cell-55dd5aa2efbbac37",
     "locked": true,
     "points": 5,
     "schema_version": 3,
     "solution": false,
     "task": false
    }
   },
   "outputs": [],
   "source": [
    "\n",
    "print(f\"Task {task_id} - AG tests\")\n",
    "stu_ans = task_4a_solution()\n",
    "\n",
    "assert isinstance(\n",
    "    stu_ans, KernelDensity\n",
    "), f\"Task {task_id}: Your function should return a KernelDensity object. \"\n",
    "\n",
    "\n",
    "del stu_ans"
   ]
  },
  {
   "cell_type": "markdown",
   "metadata": {
    "deletable": false,
    "editable": false,
    "nbgrader": {
     "cell_type": "markdown",
     "checksum": "2f9442a69ca2c433e77f51429745ae8f",
     "grade": false,
     "grade_id": "cell-110d1673b46b8c83",
     "locked": true,
     "schema_version": 3,
     "solution": false,
     "task": false
    }
   },
   "source": [
    "# Task 4b\n",
    "\n",
    "Now that we have the KDE object, we can calculate the probability of the existence of certain \n",
    "songs! Return the probability of the orchestral song in the above biplot.  \n",
    "\n",
    "- Hints:\n",
    "  - The orchestral song is the 76020th coordinate.\n",
    "  - kde.score_samples(in the kde documentation) and `np.exp` are useful here.\n",
    "\n"
   ]
  },
  {
   "cell_type": "code",
   "execution_count": null,
   "metadata": {
    "deletable": false,
    "editable": false,
    "nbgrader": {
     "cell_type": "code",
     "checksum": "b0d3a55db574ccfef984c5a17c6feffd",
     "grade": true,
     "grade_id": "cell-149c6c66e299c572",
     "locked": true,
     "points": 0,
     "schema_version": 3,
     "solution": false,
     "task": false
    }
   },
   "outputs": [],
   "source": [
    "task_id = '4b'\n"
   ]
  },
  {
   "cell_type": "code",
   "execution_count": null,
   "metadata": {
    "deletable": false,
    "nbgrader": {
     "cell_type": "code",
     "checksum": "cdae7b84a250e03e22cd8c5790c6386a",
     "grade": false,
     "grade_id": "cell-27064242e517e51b",
     "locked": false,
     "schema_version": 3,
     "solution": true,
     "task": false
    }
   },
   "outputs": [],
   "source": [
    "def task_4b_solution():\n",
    "    coordinates = get_PCA_coordinates()\n",
    "    kde = task_4a_solution()\n",
    "\n",
    "    probability = None\n",
    "    #YOUR CODE HERE\n",
    "    # YOUR CODE HERE\n",
    "    raise NotImplementedError()\n",
    "    \n",
    "    return probability"
   ]
  },
  {
   "cell_type": "code",
   "execution_count": null,
   "metadata": {},
   "outputs": [],
   "source": [
    "# Use this cell to explore your solution.\n",
    "\n",
    "task_4b_solution()"
   ]
  },
  {
   "cell_type": "code",
   "execution_count": null,
   "metadata": {
    "deletable": false,
    "editable": false,
    "nbgrader": {
     "cell_type": "code",
     "checksum": "4954342d88d288c66b68ad6f7e90900f",
     "grade": true,
     "grade_id": "cell-e61994c90f77a227",
     "locked": true,
     "points": 10,
     "schema_version": 3,
     "solution": false,
     "task": false
    }
   },
   "outputs": [],
   "source": [
    "print(f\"Task {task_id} - AG tests\")\n",
    "stu_ans = task_4b_solution()\n",
    "\n",
    "\n",
    "print(f\"Task {task_id} - your answer:\\n{stu_ans}\")\n",
    "\n",
    "assert isinstance(\n",
    "    stu_ans, float\n",
    "), f\"Task {task_id}: Your function should return a float \"\n",
    "\n",
    "\n",
    "del stu_ans"
   ]
  },
  {
   "cell_type": "markdown",
   "metadata": {
    "deletable": false,
    "editable": false,
    "nbgrader": {
     "cell_type": "markdown",
     "checksum": "685b755c9e47c97739e23cef7a68f9ba",
     "grade": false,
     "grade_id": "cell-b7b46c03a5eb6fbd",
     "locked": true,
     "schema_version": 3,
     "solution": false,
     "task": false
    }
   },
   "source": [
    "# Closing thoughts: \n",
    "Here is a Gaussian mixture model based off the first 2 Principal components. Where do you think this orchestral song might be in this plot: close to the center or farther out?\n"
   ]
  },
  {
   "cell_type": "code",
   "execution_count": null,
   "metadata": {
    "deletable": false,
    "editable": false,
    "nbgrader": {
     "cell_type": "code",
     "checksum": "525a89570fc98096634c8a65b6701289",
     "grade": false,
     "grade_id": "cell-a86cbac6596da07e",
     "locked": true,
     "schema_version": 3,
     "solution": false,
     "task": false
    }
   },
   "outputs": [],
   "source": [
    "def GMM():\n",
    "    X_spotify_normalized = task_1a_solution()\n",
    "    pca = task_1b_solution()\n",
    "    X_spotify_pca = pca.transform(X_spotify_normalized)\n",
    "    xs = X_spotify_pca[:, 0]\n",
    "    ys = X_spotify_pca[:, 1]\n",
    "    coordinates = np.column_stack((xs, ys))\n",
    "    clf = mixture.GaussianMixture(n_components=2, covariance_type='full')\n",
    "    clf.fit(coordinates)\n",
    "    x = np.linspace(-10.0, 10.0)\n",
    "    y = np.linspace(-10.0,10.0)\n",
    "    X, Y = np.meshgrid(x, y)\n",
    "    XX = np.array([X.ravel(), Y.ravel()]).T\n",
    "    Z = -clf.score_samples(XX)\n",
    "    Z = Z.reshape(X.shape)\n",
    "    plt.figure(figsize=(8, 6))\n",
    "    plt.title(\"Negative log-likelihood predicted by a GMM\")\n",
    "\n",
    "    CS = plt.contour(\n",
    "        X, Y, Z, norm=LogNorm(vmin=1.0, vmax=1000.0), levels=np.logspace(0, 3, 10)\n",
    "    )\n",
    "    CB = plt.colorbar(CS, shrink=0.8)\n",
    "    plt.scatter(coordinates[:, 0], coordinates[:, 1], 10)\n",
    "\n",
    "    plt.tight_layout()\n",
    "\n",
    "GMM()\n"
   ]
  }
 ],
 "metadata": {
  "kernelspec": {
   "display_name": "env",
   "language": "python",
   "name": "python3"
  },
  "language_info": {
   "codemirror_mode": {
    "name": "ipython",
    "version": 3
   },
   "file_extension": ".py",
   "mimetype": "text/x-python",
   "name": "python",
   "nbconvert_exporter": "python",
   "pygments_lexer": "ipython3",
   "version": "3.10.11"
  }
 },
 "nbformat": 4,
 "nbformat_minor": 4
}

{
 "cells": [
  {
   "cell_type": "code",
   "execution_count": null,
   "metadata": {
    "deletable": false,
    "editable": false,
    "nbgrader": {
     "cell_type": "code",
     "checksum": "25500905d052842f2022f0a96b94bf5c",
     "grade": false,
     "grade_id": "cell-a88fa691b97cc930",
     "locked": true,
     "schema_version": 3,
     "solution": false,
     "task": false
    }
   },
   "outputs": [],
   "source": [
    "import numpy as np\n",
    "import pandas as pd\n",
    "import matplotlib.pyplot as plt\n",
    "from sklearn.cluster import KMeans\n",
    "from sklearn.cluster import DBSCAN\n",
    "from sklearn.metrics import calinski_harabasz_score\n",
    "from sklearn.decomposition import PCA\n",
    "from scipy.cluster.hierarchy import dendrogram\n",
    "up, down = True, False\n",
    "np.set_printoptions(precision=3)\n",
    "import math\n",
    "from scipy.cluster.hierarchy import linkage\n",
    "from scipy.spatial.distance import squareform"
   ]
  },
  {
   "cell_type": "markdown",
   "metadata": {
    "deletable": false,
    "editable": false,
    "nbgrader": {
     "cell_type": "markdown",
     "checksum": "ec4ca700af71b0b4fad9b8b30eeb5928",
     "grade": false,
     "grade_id": "cell-406fd8fb92b3faef",
     "locked": true,
     "schema_version": 3,
     "solution": false,
     "task": false
    }
   },
   "source": [
    "<a id='Topic0'></a>\n",
    "# Assignment 2: Clustering\n",
    "\n",
    "\n",
    "In the modern era of big data, clustering algorithms have found great use in situations such as grouping customers together to refine targeted advertisements, or organizing the themes of a large set of text documents to split them into topical groups. This week, we're going to be exploring clustering algorithms using a dataset of food recipes. We'll begin with k-means clustering, move on to an example of hierarchical clustering, and then finish by exploring the capabilities of DBSCAN. \n",
    "\n",
    "\n",
    "Run the code below to prepare the dataset and some functions for the assignment.\n",
    "\n"
   ]
  },
  {
   "cell_type": "code",
   "execution_count": null,
   "metadata": {
    "deletable": false,
    "editable": false,
    "nbgrader": {
     "cell_type": "code",
     "checksum": "9321b1c36de2863b7eaaf9aa745fdadf",
     "grade": false,
     "grade_id": "cell-32d1fd63bb13d9a8",
     "locked": true,
     "schema_version": 3,
     "solution": false,
     "task": false
    }
   },
   "outputs": [],
   "source": [
    "from sklearn.feature_extraction.text import TfidfVectorizer\n",
    "\n",
    "# This function returns:\n",
    "# - a matrix X with one row per document (review). Each row is a sparse\n",
    "# vector containing tf.idf term weights for the words in the document.\n",
    "#\n",
    "# - the vectorizor used to create X\n",
    "#\n",
    "# - the actual ingredients used as input to the vectorizer\n",
    "recipes_df = pd.read_csv(\"./assets/RAW_recipes_processed.csv\")\n",
    "ingredients_series = recipes_df[\"ingredients\"]\n",
    "ingredients_series = ingredients_series.dropna()  # drop any rows with empty reviews\n",
    "\n",
    "def get_ingredients_vectorized(top_n=-1, ngram_range=(1, 1), max_features=1000):\n",
    "\n",
    "    vectorizer = TfidfVectorizer(\n",
    "        max_df=0.5,\n",
    "        max_features=max_features,\n",
    "        min_df=2,\n",
    "        stop_words=\"english\",\n",
    "        ngram_range=ngram_range,\n",
    "        use_idf=True,\n",
    "    )\n",
    "    if top_n >= 0:\n",
    "        recipe_list_instances = ingredients_series.values[0:top_n]\n",
    "    else:\n",
    "        recipe_list_instances = ingredients_series.values\n",
    "\n",
    "    X = vectorizer.fit_transform(recipe_list_instances)\n",
    "\n",
    "    return (X, vectorizer, recipe_list_instances)\n",
    "\n"
   ]
  },
  {
   "cell_type": "markdown",
   "metadata": {
    "deletable": false,
    "editable": false,
    "nbgrader": {
     "cell_type": "markdown",
     "checksum": "d5e5861bb4c77830c322e7d3f465dcac",
     "grade": false,
     "grade_id": "cell-19e52cbd2dcf3d33",
     "locked": true,
     "schema_version": 3,
     "solution": false,
     "task": false
    }
   },
   "source": [
    "# Part 1: K-means clustering:\n",
    "\n",
    "A big problem in applying $K$-means (and many other unsupervised clustering-type methods) is that we need to specify the number of clusters $K$ in advance - but we don't know in advance what value of $K$ will give the best-quality clustering!  So, to pick the \"best\" number of clusters we're going to rely on calculating some automated measures of cluster quality. You'll compute these cluster quality measures for each choice of $K$, and then pick the value of $K$ that gives the best value of the quality measure(s).\n",
    "\n",
    "\n",
    "First, we need to select the correct value for k, which has the highest Calinski-Harabasz index.\n",
    "\n",
    "For the function, you're going to need to return the correct value for k, along with it's Calinski-Harabasz index. \n",
    "\n",
    "K will be a value from 2-9.\n",
    "\n",
    "Hint: \n",
    "\n",
    "- for each value of k from 2-9, create a Kmeans object with arguments: n_clusters=k, init='k-means++', max_iter=100, n_init=1, random_state=42\n",
    "- fit it with the vectorized reviews stored by the starter code in `X` by calling `.fit()` on the Kmeans object\n",
    "- use the [calinski_harabasz_score](https://scikit-learn.org/stable/modules/generated/sklearn.metrics.calinski_harabasz_score.html) with `.toarray()` applied to the vectorized reviews and the `.labels_` attribute of the kmeans object as the arguments to obtain the score. "
   ]
  },
  {
   "cell_type": "code",
   "execution_count": null,
   "metadata": {
    "deletable": false,
    "editable": false,
    "nbgrader": {
     "cell_type": "code",
     "checksum": "d3459d6819b7c46af74e5ee3c1faa4e8",
     "grade": true,
     "grade_id": "cell-c2b5cd7a8a77831d",
     "locked": true,
     "points": 0,
     "schema_version": 3,
     "solution": false,
     "task": false
    }
   },
   "outputs": [],
   "source": [
    "task_id = '1a'\n",
    "\n"
   ]
  },
  {
   "cell_type": "code",
   "execution_count": null,
   "metadata": {
    "deletable": false,
    "nbgrader": {
     "cell_type": "code",
     "checksum": "699807470d2baab160efa2fdea858927",
     "grade": false,
     "grade_id": "cell-98aafac39a994e01",
     "locked": false,
     "schema_version": 3,
     "solution": true,
     "task": false
    }
   },
   "outputs": [],
   "source": [
    "def task_1a_solution():\n",
    "\n",
    "    #X here is useful: DO NOT MODIFY THE BELOW LINE.\n",
    "    (X, _, _) = get_ingredients_vectorized(10000, (1, 2))\n",
    "\n",
    "    best_k = -1\n",
    "    highest_calinski = -1.0\n",
    "    \n",
    "    # YOUR CODE HERE\n",
    "    raise NotImplementedError()\n",
    "    \n",
    "    return best_k, highest_calinski"
   ]
  },
  {
   "cell_type": "code",
   "execution_count": null,
   "metadata": {},
   "outputs": [],
   "source": [
    "# Use this cell to explore your solution.\n",
    "\n",
    "task_1a_solution()"
   ]
  },
  {
   "cell_type": "code",
   "execution_count": null,
   "metadata": {
    "deletable": false,
    "editable": false,
    "nbgrader": {
     "cell_type": "code",
     "checksum": "1b1fa81f0f6d34bc07151656659e63da",
     "grade": true,
     "grade_id": "cell-b48aee7c645c653b",
     "locked": true,
     "points": 15,
     "schema_version": 3,
     "solution": false,
     "task": false
    }
   },
   "outputs": [],
   "source": [
    "print(f\"Task {task_id} - AG tests\")\n",
    "stu_ans = task_1a_solution()\n",
    "\n",
    "print(f\"Task {task_id} - your answer:\\n{stu_ans}\")\n",
    "\n",
    "assert isinstance(\n",
    "    stu_ans, tuple\n",
    "), f\"Task {task_id}: Your function should return a tuple. \"\n",
    "\n",
    "assert isinstance(\n",
    "    stu_ans[0], int\n",
    "), f\"Task {task_id}: The ideal k should be an integer. \"\n",
    "\n",
    "assert isinstance(\n",
    "    stu_ans[1], float\n",
    "), f\"Task {task_id}: The calinski harabasz score should be a float. \"\n",
    "\n",
    "\n",
    "del stu_ans"
   ]
  },
  {
   "cell_type": "markdown",
   "metadata": {
    "deletable": false,
    "editable": false,
    "nbgrader": {
     "cell_type": "markdown",
     "checksum": "e201e41b8ca6ddf212ccd8ba573d4f04",
     "grade": false,
     "grade_id": "cell-39ef96463c7197b7",
     "locked": true,
     "schema_version": 3,
     "solution": false,
     "task": false
    }
   },
   "source": [
    "\n",
    "\n",
    "# Task 1b: Perform K-means review\n",
    "\n",
    "\n",
    "Now you will write your assignment code that accomplishes clustering using the optimal K you obtained in task 1a, and finds what the predominant terms are in the resulting clusters. You should return a list containing K lists of 10 strings where each list contains the top 10 strings for that cluster.\n",
    "\n",
    "Remember, each cluster is a collection of vectors, each of which represents a recipe's ingredient list. To find good representative terms for each cluster, you want to know what the \"typical\" ingredient list looks like for each of the K clusters. A \"typical\" ingredient list for a cluster is just the mean of all the vectors (ingredients) that belong to that cluster. This vector is known as the cluster centroid or center. *Note that when you run K-Means you don't have to compute the cluster centers yourself -- they are computed for you by K-Means after you run 'fit'. Just use the resulting cluster_centers_ property.*\n",
    "\n",
    "The cluster center, since it's a just the mean of a bunch of ingredient list vectors, is itself just a vector of the same dimension as the input review vectors: think of the cluster center vector like a \"ingredient cloud\" that holds the weight of each possible ingredient in a list. \n",
    "\n",
    "So to get the most predominant terms in a vector, just sort the entries of the cluster centroid *from highest to lowest term weight*, and return the corresponding term strings. *You can do this sorting with one line of code, on all the cluster centers simultaneously, by applying argsort(..) to the cluster_centers_ array which we store in centroids.*\n",
    "\n",
    "\n",
    "\n"
   ]
  },
  {
   "cell_type": "code",
   "execution_count": null,
   "metadata": {
    "deletable": false,
    "editable": false,
    "nbgrader": {
     "cell_type": "code",
     "checksum": "72e86f18144a26b7c9255f30e352c913",
     "grade": true,
     "grade_id": "cell-70a938e6b9e6f299",
     "locked": true,
     "points": 0,
     "schema_version": 3,
     "solution": false,
     "task": false
    }
   },
   "outputs": [],
   "source": [
    "task_id = '1b'\n",
    "\n"
   ]
  },
  {
   "cell_type": "code",
   "execution_count": null,
   "metadata": {
    "deletable": false,
    "nbgrader": {
     "cell_type": "code",
     "checksum": "02d9bbbc8c95758e3786c0ae9d8ace59",
     "grade": false,
     "grade_id": "cell-1414315017f87d43",
     "locked": false,
     "schema_version": 3,
     "solution": true,
     "task": false
    }
   },
   "outputs": [],
   "source": [
    "def task_1b_solution():\n",
    "    #X and vectorizer here are useful. DO NOT MODIFY THE BELOW LINE.\n",
    "    (X, vectorizer, _) = get_ingredients_vectorized(10000, (1, 2))\n",
    "    \n",
    "    kmeans_optimal = KMeans(n_clusters=task_1a_solution()[0], init='k-means++', max_iter=100, n_init=1, random_state=42)\n",
    "    kmeans_optimal.fit(X)\n",
    "    terms = vectorizer.get_feature_names_out()\n",
    "    \"\"\"\n",
    "    terms is a list of length 1000 lists containing the terms for each cluster \n",
    "    ['add' 'added' 'adds' 'adjunct' 'aftertaste' 'age' 'aged' 'aggressive', ... 1000 items]\n",
    "      corresponding to order in above terms.\n",
    "    \"\"\"\n",
    "    centroids = kmeans_optimal.cluster_centers_\n",
    "    \"\"\"\n",
    "    centroids is a 1:1 list to terms containing the weight of each term in its cluster/list.\n",
    "    [[3.947e-03 7.001e-03 2.971e-03 ... 4.293e-04 0.000e+00 5.621e-05] \n",
    "    [4.655e-03 6.402e-03 3.254e-03 ... 1.364e-02 4.012e-03 3.327e-03]]\n",
    "    \"\"\"\n",
    "    \n",
    "    top_cluster_terms = []\n",
    "    \n",
    "    # YOUR CODE HERE\n",
    "    raise NotImplementedError()\n",
    "        \n",
    "    return top_cluster_terms\n",
    "\n"
   ]
  },
  {
   "cell_type": "code",
   "execution_count": null,
   "metadata": {
    "deletable": false,
    "editable": false,
    "nbgrader": {
     "cell_type": "code",
     "checksum": "5713d6c177984dbc1797586859962d08",
     "grade": true,
     "grade_id": "cell-6eae1285460ca343",
     "locked": true,
     "points": 20,
     "schema_version": 3,
     "solution": false,
     "task": false
    }
   },
   "outputs": [],
   "source": [
    "print(f\"Task {task_id} - AG tests\")\n",
    "stu_ans = task_1b_solution()\n",
    "\n",
    "print(f\"Task {task_id} - your answer:\\n{stu_ans}\")\n",
    "\n",
    "assert isinstance(\n",
    "    stu_ans, list\n",
    "), f\"Task {task_id}: Your function should return a list containing lists of strings. \"\n",
    "\n",
    "\n",
    "\n",
    "\n",
    "del stu_ans"
   ]
  },
  {
   "cell_type": "markdown",
   "metadata": {
    "deletable": false,
    "editable": false,
    "nbgrader": {
     "cell_type": "markdown",
     "checksum": "fba087a169d9e687765c14b89fb04062",
     "grade": false,
     "grade_id": "cell-edee535dff6e2c71",
     "locked": true,
     "schema_version": 3,
     "solution": false,
     "task": false
    }
   },
   "source": [
    "# Part 2: Hierarchical clustering \n",
    "\n",
    "Take a look at the graph generated by the code below. \n",
    "\n",
    "For this part, we're going to work through an example of putting the recipe data through a hierarchical clustering algorithm.\n",
    "\n",
    "\n",
    "\n",
    "    "
   ]
  },
  {
   "cell_type": "code",
   "execution_count": null,
   "metadata": {
    "deletable": false,
    "editable": false,
    "nbgrader": {
     "cell_type": "code",
     "checksum": "c56399afe8e58f6247b525fe5e2c1790",
     "grade": false,
     "grade_id": "cell-92796db5058d0cc1",
     "locked": true,
     "schema_version": 3,
     "solution": false,
     "task": false
    }
   },
   "outputs": [],
   "source": [
    "\n",
    "def plot_recipes():\n",
    "    (X, vectorizer, recipe_list_instances) = get_ingredients_vectorized(100, (1, 2))\n",
    "\n",
    "\n",
    "    #Here, we convert the text reviews to a set of x y coordinates through dimensionality reduction\n",
    "    \n",
    "    pca = PCA(n_components=2)\n",
    "    X_pca = pca.fit_transform(X.toarray())\n",
    "    x_coordinates = X_pca[:10, 0]\n",
    "    y_coordinates = X_pca[:10, 1]\n",
    "    #Plot the PCA components.\n",
    "    \n",
    "    plt.scatter(x_coordinates, y_coordinates)\n",
    "    plt.title('PCA of Text Data')\n",
    "    plt.xlabel('Principal Component 1')\n",
    "    plt.ylabel('Principal Component 2')\n",
    "    for i in range(0, 10):\n",
    "        recipe_name = recipes_df.loc[i,'name']\n",
    "        plt.annotate(f'{recipe_name}', (x_coordinates[i], y_coordinates[i]))\n",
    "\n",
    "plot_recipes()"
   ]
  },
  {
   "cell_type": "markdown",
   "metadata": {
    "deletable": false,
    "editable": false,
    "nbgrader": {
     "cell_type": "markdown",
     "checksum": "5566ff4afa16513b8786f07a52b7636b",
     "grade": false,
     "grade_id": "cell-378e6e398bf6867e",
     "locked": true,
     "schema_version": 3,
     "solution": false,
     "task": false
    }
   },
   "source": [
    "# Task 2a: Calculate distances.\n",
    "\n",
    "\n",
    "Compute the condensed distance matrix to return the correct linkage matrix which we can use to create a dendogram for the first 10 recipes.\n",
    "\n",
    "For this question, loop through each combination of points and calculate the distance to enter into the uncondensed distance matrix we've defined for you. Then, use `squareform()` to condense the distance matrix. Use the resulting condensed distance matrix as an argument to the `linkage()` function using method='complete.' The return of the linkage() function is what the function should return.\n",
    "\n",
    "Note: In the distance matrix, the distances stored on the diagonal, ie. measuring the distance between the same points, should be 0. For example, the distance between element 0 and element 0 is zero."
   ]
  },
  {
   "cell_type": "code",
   "execution_count": null,
   "metadata": {
    "deletable": false,
    "editable": false,
    "nbgrader": {
     "cell_type": "code",
     "checksum": "11b86f6feffacb06dc5b0ea8359795cb",
     "grade": true,
     "grade_id": "cell-bca8b86729b85253",
     "locked": true,
     "points": 0,
     "schema_version": 3,
     "solution": false,
     "task": false
    }
   },
   "outputs": [],
   "source": [
    "task_id = '2a'\n",
    "\n",
    "# We've defined a function to calculate euclidean distance between coordinate points.\n",
    "def calc_distance(x1, x2, y1, y2):\n",
    "    return math.sqrt((x2 - x1)**2 + (y2 - y1)**2)\n"
   ]
  },
  {
   "cell_type": "code",
   "execution_count": null,
   "metadata": {
    "deletable": false,
    "nbgrader": {
     "cell_type": "code",
     "checksum": "2402f7bf37b2cdf907c35e66d8fa6d07",
     "grade": false,
     "grade_id": "cell-daed8df9f324c735",
     "locked": false,
     "schema_version": 3,
     "solution": true,
     "task": false
    }
   },
   "outputs": [],
   "source": [
    "\n",
    "\n",
    "def task_2a_solution():\n",
    "    (X, vectorizer, recipe_list_instances) = get_ingredients_vectorized(100, (1, 2))\n",
    "\n",
    "    #Do not modify this block of code, you'll need it for your solution!\n",
    "    (X, vectorizer, recipe_list_instances) = get_ingredients_vectorized(10, (1, 2))\n",
    "    pca = PCA(n_components=2)\n",
    "    X_pca = pca.fit_transform(X.toarray())\n",
    "    x_coordinates = X_pca[:10, 0]\n",
    "    y_coordinates = X_pca[:10, 1]\n",
    "\n",
    "    linkage_matrix = None\n",
    "\n",
    "    uncondensed_distance_matrix = np.zeros((10, 10))\n",
    "\n",
    "    # YOUR CODE HERE\n",
    "    raise NotImplementedError()\n",
    "        \n",
    "    return linkage(condensed_distance_matrix, method='complete')\n",
    "\n",
    "    \n",
    " \n",
    "\n"
   ]
  },
  {
   "cell_type": "code",
   "execution_count": null,
   "metadata": {
    "deletable": false,
    "editable": false,
    "nbgrader": {
     "cell_type": "code",
     "checksum": "8d7b010b8e5bd3e33ea4d9033c802ddc",
     "grade": true,
     "grade_id": "cell-e951da97de68aac0",
     "locked": true,
     "points": 20,
     "schema_version": 3,
     "solution": false,
     "task": false
    }
   },
   "outputs": [],
   "source": [
    "print(f\"Task {task_id} - AG tests\")\n",
    "stu_ans = task_2a_solution()\n",
    "\n",
    "\n",
    "print(f\"Task {task_id} - your answer:\\n{stu_ans}\")\n",
    "\n",
    "assert isinstance(\n",
    "    stu_ans, np.ndarray\n",
    "), f\"Task {task_id}: Your function should return a np.ndarray. \"\n",
    "\n",
    "\n",
    "\n",
    "\n",
    "del stu_ans"
   ]
  },
  {
   "cell_type": "code",
   "execution_count": null,
   "metadata": {
    "deletable": false,
    "editable": false,
    "nbgrader": {
     "cell_type": "code",
     "checksum": "9e85434e35921f8fa8ae35384e0f0ffe",
     "grade": false,
     "grade_id": "cell-4cf306b298db44e4",
     "locked": true,
     "schema_version": 3,
     "solution": false,
     "task": false
    }
   },
   "outputs": [],
   "source": [
    "def plot_dendogram():\n",
    "    #Step 2: Plot the Dendrogram\n",
    "    linkage_matrix = task_2a_solution()\n",
    "    plt.figure(figsize=(8, 6))\n",
    "    dendrogram(linkage_matrix)\n",
    "    plt.title('Hierarchical Clustering Dendrogram')\n",
    "    plt.xlabel('Documents')\n",
    "    plt.ylabel('Distance')\n",
    "    plt.show()\n",
    "\n",
    "plot_dendogram()"
   ]
  },
  {
   "cell_type": "markdown",
   "metadata": {
    "deletable": false,
    "editable": false,
    "nbgrader": {
     "cell_type": "markdown",
     "checksum": "2283c72ea48fd14c386001bcc40bde75",
     "grade": false,
     "grade_id": "cell-5bdc4c2d6333ea51",
     "locked": true,
     "schema_version": 3,
     "solution": false,
     "task": false
    }
   },
   "source": [
    "# Task 2b:\n",
    "\n",
    "Now we have our dendogram!\n",
    "\n",
    "Return the names of each pair of recipes in the clusters that exist with distance less than 0.2. These are the most specific clusters in this set, so the recipes will likely be for similar foods. "
   ]
  },
  {
   "cell_type": "code",
   "execution_count": null,
   "metadata": {
    "deletable": false,
    "editable": false,
    "nbgrader": {
     "cell_type": "code",
     "checksum": "29c74a3dc6cadbab9c7645783a9bd899",
     "grade": true,
     "grade_id": "cell-18049987bb34d445",
     "locked": true,
     "points": 0,
     "schema_version": 3,
     "solution": false,
     "task": false
    }
   },
   "outputs": [],
   "source": [
    "task_id = '2b'\n",
    "\n",
    "\n"
   ]
  },
  {
   "cell_type": "code",
   "execution_count": null,
   "metadata": {
    "deletable": false,
    "nbgrader": {
     "cell_type": "code",
     "checksum": "8d270750e62fc3437fed167f4b2ca2d1",
     "grade": false,
     "grade_id": "cell-a01aeaa272c2b519",
     "locked": false,
     "schema_version": 3,
     "solution": true,
     "task": false
    }
   },
   "outputs": [],
   "source": [
    "\n",
    "\n",
    "def task_2b_solution():\n",
    "    name_series = recipes_df['name']\n",
    "    sol = []\n",
    "\n",
    "    ### solution = [[name_series[n],name_series[n]],[name_series[n], name_series[n]],...]\n",
    "    # YOUR CODE HERE\n",
    "    raise NotImplementedError()\n",
    "\n",
    "    return sol\n",
    "    \n"
   ]
  },
  {
   "cell_type": "code",
   "execution_count": null,
   "metadata": {
    "deletable": false,
    "editable": false,
    "nbgrader": {
     "cell_type": "code",
     "checksum": "23fcb5be68ebbfbb724d8fa69ae44bce",
     "grade": true,
     "grade_id": "cell-c7ea242ee8665320",
     "locked": true,
     "points": 10,
     "schema_version": 3,
     "solution": false,
     "task": false
    }
   },
   "outputs": [],
   "source": [
    "print(f\"Task {task_id} - AG tests\")\n",
    "stu_ans = task_2b_solution()\n",
    "\n",
    "\n",
    "print(f\"Task {task_id} - your answer:\\n{stu_ans}\")\n",
    "\n",
    "assert isinstance(\n",
    "    stu_ans, list\n",
    "), f\"Task {task_id}: Your function should return a list of sets. \"\n",
    "\n",
    "\n",
    "\n",
    "\n",
    "del stu_ans"
   ]
  },
  {
   "cell_type": "markdown",
   "metadata": {
    "deletable": false,
    "editable": false,
    "nbgrader": {
     "cell_type": "markdown",
     "checksum": "eb3e169fb09e38b3d94d969043f7d36b",
     "grade": false,
     "grade_id": "cell-47d49358c61ef160",
     "locked": true,
     "schema_version": 3,
     "solution": false,
     "task": false
    }
   },
   "source": [
    "# Part 3:\n",
    "\n",
    "Now, for the last question, we're going to have you run DBSCAN on the dataset and explore outliers in the dataset.  "
   ]
  },
  {
   "cell_type": "markdown",
   "metadata": {
    "deletable": false,
    "editable": false,
    "nbgrader": {
     "cell_type": "markdown",
     "checksum": "4a75d063b285c72d5a22cb26053456e9",
     "grade": false,
     "grade_id": "cell-be4f340dea9aae88",
     "locked": true,
     "schema_version": 3,
     "solution": false,
     "task": false
    }
   },
   "source": [
    "# Task 3a:\n",
    "\n",
    "We will first be obtaining the cluster assignments from the DBSCAN algorithm for the first hundred recipes in the dataset. \n",
    "\n",
    "When creating the DBSCAN object, use eps=0.1 and min_samples=2.\n",
    "\n",
    "You may find the [DBSCAN documentation](https://scikit-learn.org/stable/modules/generated/sklearn.cluster.DBSCAN.html#sklearn.cluster.DBSCAN.fit_predict) helpful. Pay note to the `fit_predict` function."
   ]
  },
  {
   "cell_type": "code",
   "execution_count": null,
   "metadata": {
    "deletable": false,
    "editable": false,
    "nbgrader": {
     "cell_type": "code",
     "checksum": "3c7596560df5ef01985b23eccfa37acb",
     "grade": true,
     "grade_id": "cell-df8611b975296cf8",
     "locked": true,
     "points": 0,
     "schema_version": 3,
     "solution": false,
     "task": false
    }
   },
   "outputs": [],
   "source": [
    "task_id = '3a'\n",
    "\n",
    "\n"
   ]
  },
  {
   "cell_type": "code",
   "execution_count": null,
   "metadata": {
    "deletable": false,
    "nbgrader": {
     "cell_type": "code",
     "checksum": "851ad7b229c1b564c5067b9d39f3ee25",
     "grade": false,
     "grade_id": "cell-b42ffc9574cf85f0",
     "locked": false,
     "schema_version": 3,
     "solution": true,
     "task": false
    }
   },
   "outputs": [],
   "source": [
    "def task_3a_solution():\n",
    "    # Vectorize the data using TF-IDF\n",
    "    (X, vectorizer, recipe_list_instances) = get_ingredients_vectorized(100, (1, 2))\n",
    "    pca = PCA(n_components=2)\n",
    "    X_pca = pca.fit_transform(X.toarray())\n",
    "\n",
    "    dbscan = None\n",
    "    cls = None\n",
    "    # Apply DBSCAN clustering\n",
    "    # YOUR CODE HERE\n",
    "    raise NotImplementedError()\n",
    "\n",
    "    return cls"
   ]
  },
  {
   "cell_type": "code",
   "execution_count": null,
   "metadata": {
    "deletable": false,
    "editable": false,
    "nbgrader": {
     "cell_type": "code",
     "checksum": "3c6f013aea7e8952ca929edf0675b087",
     "grade": true,
     "grade_id": "cell-e8c1f5d37b9291da",
     "locked": true,
     "points": 10,
     "schema_version": 3,
     "solution": false,
     "task": false
    }
   },
   "outputs": [],
   "source": [
    "print(f\"Task {task_id} - AG tests\")\n",
    "stu_ans = task_3a_solution()\n",
    "\n",
    "\n",
    "print(f\"Task {task_id} - your answer:\\n{stu_ans}\")\n",
    "\n",
    "\n",
    "assert isinstance(\n",
    "    stu_ans, np.ndarray\n",
    "), f\"Task {task_id}: Your function should return a np.ndarray \"\n",
    "\n",
    "\n",
    "\n",
    "\n",
    "del stu_ans"
   ]
  },
  {
   "cell_type": "markdown",
   "metadata": {
    "deletable": false,
    "editable": false,
    "nbgrader": {
     "cell_type": "markdown",
     "checksum": "1669f891d20b2be7f3f3b72cf765b5c7",
     "grade": false,
     "grade_id": "cell-253876e7f1771075",
     "locked": true,
     "schema_version": 3,
     "solution": false,
     "task": false
    }
   },
   "source": [
    "# Task 3b:\n",
    "\n",
    "Something intersting you can do with DBSCAN is obtain outliers, ie. those not assigned to clusters. Which are the outlier recipes?\n",
    "\n",
    "Hint(s):\n",
    "- np.where is useful for this question\n",
    "- The outliers are stored as -1 for their cluster assignment.\n",
    "- When you obtain the indices of the outliers, access recipes_df to obtain the name of each ingredient. "
   ]
  },
  {
   "cell_type": "code",
   "execution_count": null,
   "metadata": {
    "deletable": false,
    "editable": false,
    "nbgrader": {
     "cell_type": "code",
     "checksum": "b6f2bc266ca4f7d7c44a26904a4981d1",
     "grade": true,
     "grade_id": "cell-5098e0a53c2baa68",
     "locked": true,
     "points": 0,
     "schema_version": 3,
     "solution": false,
     "task": false
    }
   },
   "outputs": [],
   "source": [
    "task_id = '3b'\n",
    "\n",
    "\n"
   ]
  },
  {
   "cell_type": "code",
   "execution_count": null,
   "metadata": {
    "deletable": false,
    "nbgrader": {
     "cell_type": "code",
     "checksum": "10a37973176c86e62dc7aa4ae57b6165",
     "grade": false,
     "grade_id": "cell-4c60ecbd2c583980",
     "locked": false,
     "schema_version": 3,
     "solution": true,
     "task": false
    }
   },
   "outputs": [],
   "source": [
    "\"\"\"\n",
    "According to dbscan, what are the names of the outlier recipes?\n",
    "\n",
    "\"\"\"\n",
    "def task_3b_solution():\n",
    "    cls = task_3a_solution()\n",
    "\n",
    "    # YOUR CODE HERE\n",
    "    raise NotImplementedError()\n",
    "     \n",
    "\n"
   ]
  },
  {
   "cell_type": "code",
   "execution_count": null,
   "metadata": {
    "deletable": false,
    "editable": false,
    "nbgrader": {
     "cell_type": "code",
     "checksum": "5345d8dc5aabf8903f40e8ee91bbe0bb",
     "grade": true,
     "grade_id": "cell-80db606ec112c922",
     "locked": true,
     "points": 15,
     "schema_version": 3,
     "solution": false,
     "task": false
    }
   },
   "outputs": [],
   "source": [
    "print(f\"Task {task_id} - AG tests\")\n",
    "stu_ans = task_3b_solution()\n",
    "\n",
    "\n",
    "print(f\"Task {task_id} - your answer:\\n{stu_ans}\")\n",
    "\n",
    "assert isinstance(\n",
    "    stu_ans, list\n",
    "), f\"Task {task_id}: Your function should return a list of lists \"\n",
    "\n",
    "\n",
    "\n",
    "\n",
    "del stu_ans"
   ]
  },
  {
   "cell_type": "markdown",
   "metadata": {
    "deletable": false,
    "editable": false,
    "nbgrader": {
     "cell_type": "markdown",
     "checksum": "17ba0f30cbca888138d5eaa43286e4d3",
     "grade": false,
     "grade_id": "cell-9f9b9080d7ca01be",
     "locked": true,
     "schema_version": 3,
     "solution": false,
     "task": false
    }
   },
   "source": [
    "Here, you can see the outliers plotted as noise in the graph of PCA. "
   ]
  },
  {
   "cell_type": "code",
   "execution_count": null,
   "metadata": {
    "deletable": false,
    "editable": false,
    "nbgrader": {
     "cell_type": "code",
     "checksum": "75cad9dea85feaee184d06bab2e3197d",
     "grade": false,
     "grade_id": "cell-a4172348ffa14658",
     "locked": true,
     "schema_version": 3,
     "solution": false,
     "task": false
    }
   },
   "outputs": [],
   "source": [
    "from matplotlib.colors import ListedColormap, BoundaryNorm\n",
    "import matplotlib.patches as mpatches\n",
    "\n",
    "def plot_labelled_scatter(X, y, class_labels):\n",
    "    num_labels = len(class_labels)\n",
    "\n",
    "    x_min, x_max = X[:, 0].min() - 1, X[:, 0].max() + 1\n",
    "    y_min, y_max = X[:, 1].min() - 1, X[:, 1].max() + 1\n",
    "\n",
    "    marker_array = ['o', '^', '*']\n",
    "    color_array = ['#FFFF00', '#00AAFF', '#000000', '#FF00AA']\n",
    "    cmap_bold = ListedColormap(color_array)\n",
    "    bnorm = BoundaryNorm(np.arange(0, num_labels + 1, 1), ncolors=num_labels)\n",
    "    plt.figure()\n",
    "\n",
    "    plt.scatter(X[:, 0], X[:, 1], s=65, c=y, cmap=cmap_bold, norm = bnorm, alpha = 0.40, edgecolor='black', lw = 1)\n",
    "\n",
    "    plt.xlim(x_min, x_max)\n",
    "    plt.ylim(y_min, y_max)\n",
    "\n",
    "    h = []\n",
    "    for c in range(0, num_labels):\n",
    "        h.append(mpatches.Patch(color=color_array[c], label=class_labels[c]))\n",
    "    plt.legend(handles=h)\n",
    "\n",
    "    plt.show()\n",
    "\n",
    "\n",
    "\n",
    "def plot_dbscan():\n",
    "    # Vectorize the data using TF-IDF\n",
    "    (X, vectorizer, recipe_list_instances) = get_ingredients_vectorized(100, (1, 2))\n",
    "    pca = PCA(n_components=2)\n",
    "    X_pca = pca.fit_transform(X.toarray())\n",
    "    cls = task_3a_solution()\n",
    "    plot_labelled_scatter(X_pca, cls + 1, [\"Noise\", \"Cluster 0\", \"Cluster 1\", \"Cluster 2\"])\n",
    "    plt.tight_layout()\n",
    "    \n",
    "plot_dbscan()"
   ]
  },
  {
   "cell_type": "code",
   "execution_count": null,
   "metadata": {
    "deletable": false,
    "editable": false,
    "nbgrader": {
     "cell_type": "code",
     "checksum": "2b82f2abc0876b814dc3eca115f7d398",
     "grade": false,
     "grade_id": "cell-d3205773913ba9db",
     "locked": true,
     "schema_version": 3,
     "solution": false,
     "task": false
    }
   },
   "outputs": [],
   "source": [
    "\"\"\"clustering on text vector vs nutritional content\"\"\"\n",
    "from sklearn.preprocessing import StandardScaler\n",
    "\n",
    "\n",
    "def get_PCA():\n",
    "    numerical_fields = ['calories','total_fat_pdv','sugar_pdv','sodium_pdv','protein_pdv','saturated_fat_pdv','carbs_pdv']\n",
    "    numerical_df = recipes_df[numerical_fields].iloc[:100, :]\n",
    "    normalized_data = StandardScaler().fit_transform(numerical_df)\n",
    "    pca = PCA(n_components=2)\n",
    "    X_pca = pca.fit_transform(normalized_data)\n",
    "    return X_pca\n",
    "    \n",
    "    # Apply DBSCAN clustering\n",
    "\n",
    "    "
   ]
  },
  {
   "cell_type": "markdown",
   "metadata": {
    "deletable": false,
    "editable": false,
    "nbgrader": {
     "cell_type": "markdown",
     "checksum": "75c0e9caf5ed33b6921bd8f3641aa188",
     "grade": false,
     "grade_id": "cell-3e426d19d13a15e0",
     "locked": true,
     "points": 0,
     "schema_version": 3,
     "solution": false,
     "task": true
    }
   },
   "source": [
    "# Task 3c:\n",
    "\n",
    "Lets switch gears for this question. So far, we've been looking at the text of recipe ingredients when making clusters. Let's change to using the nutritional info. Start by remaking the cluster object with the numeric data from above. Use your code from 3a, but instead, set eps to 1."
   ]
  },
  {
   "cell_type": "code",
   "execution_count": null,
   "metadata": {
    "deletable": false,
    "editable": false,
    "nbgrader": {
     "cell_type": "code",
     "checksum": "194ebe2178e2c54369208e8749fc3ced",
     "grade": true,
     "grade_id": "cell-4dc2d98698022736",
     "locked": true,
     "points": 0,
     "schema_version": 3,
     "solution": false,
     "task": false
    }
   },
   "outputs": [],
   "source": [
    "task_id = '3c'\n",
    "\n",
    "\n"
   ]
  },
  {
   "cell_type": "code",
   "execution_count": null,
   "metadata": {
    "deletable": false,
    "nbgrader": {
     "cell_type": "code",
     "checksum": "38304c88c66a2676447d1793a2eb35ec",
     "grade": false,
     "grade_id": "cell-20560124429eac47",
     "locked": false,
     "schema_version": 3,
     "solution": true,
     "task": false
    }
   },
   "outputs": [],
   "source": [
    "def task_3c_solution():\n",
    "\n",
    "    X_pca = get_PCA()\n",
    "    dbscan = None\n",
    "    cls = None\n",
    "\n",
    "    # YOUR CODE HERE\n",
    "    raise NotImplementedError()\n",
    "\n",
    "    return cls"
   ]
  },
  {
   "cell_type": "code",
   "execution_count": null,
   "metadata": {
    "deletable": false,
    "editable": false,
    "nbgrader": {
     "cell_type": "code",
     "checksum": "ab4284d48541e81520c6227b45dbb505",
     "grade": true,
     "grade_id": "cell-0ddea9b0b7e14942",
     "locked": true,
     "points": 10,
     "schema_version": 3,
     "solution": false,
     "task": false
    }
   },
   "outputs": [],
   "source": [
    "print(f\"Task {task_id} - AG tests\")\n",
    "stu_ans = task_3c_solution()\n",
    "\n",
    "\n",
    "print(f\"Task {task_id} - your answer:\\n{stu_ans}\")\n",
    "\n",
    "\n",
    "assert isinstance(\n",
    "    stu_ans, np.ndarray\n",
    "), f\"Task {task_id}: Your function should return a ndarray. \"\n",
    "\n",
    "\n",
    "\n",
    "\n",
    "del stu_ans"
   ]
  },
  {
   "cell_type": "markdown",
   "metadata": {
    "deletable": false,
    "editable": false,
    "nbgrader": {
     "cell_type": "markdown",
     "checksum": "e82407ad60a762a8bc39f48f6ce8e6c8",
     "grade": false,
     "grade_id": "cell-a1cf48fc402c4bce",
     "locked": true,
     "schema_version": 3,
     "solution": false,
     "task": false
    }
   },
   "source": [
    "Run the code below; The nutritional info paints a very different picture!"
   ]
  },
  {
   "cell_type": "code",
   "execution_count": null,
   "metadata": {
    "deletable": false,
    "editable": false,
    "nbgrader": {
     "cell_type": "code",
     "checksum": "f71c4b7fff50d2b8f40b28f12f9479fe",
     "grade": false,
     "grade_id": "cell-3b3a1c431e8c2c12",
     "locked": true,
     "schema_version": 3,
     "solution": false,
     "task": false
    }
   },
   "outputs": [],
   "source": [
    "def plot_dbscan():\n",
    "    # Vectorize the data using TF-IDF\n",
    "    X_pca = get_PCA()\n",
    "    cls = task_3c_solution()\n",
    "    plot_labelled_scatter(X_pca, cls + 1, [\"Noise\", \"Cluster 0\", \"Cluster 1\", \"Cluster 2\"])\n",
    "    plt.tight_layout()\n",
    "    \n",
    "plot_dbscan()"
   ]
  },
  {
   "cell_type": "markdown",
   "metadata": {
    "deletable": false,
    "editable": false,
    "nbgrader": {
     "cell_type": "markdown",
     "checksum": "821335e3ad97d862daf0180db03e1173",
     "grade": false,
     "grade_id": "cell-fc377a916ba4652d",
     "locked": true,
     "schema_version": 3,
     "solution": false,
     "task": false
    }
   },
   "source": [
    "# Task 3d:\n",
    "\n",
    "Now, based on the nutritional info, which recipes are outliers?\n",
    "\n",
    "The code here is the same as your 3b solution."
   ]
  },
  {
   "cell_type": "code",
   "execution_count": null,
   "metadata": {
    "deletable": false,
    "editable": false,
    "nbgrader": {
     "cell_type": "code",
     "checksum": "554e551bc5dedec9f7b908e8629e67dd",
     "grade": true,
     "grade_id": "cell-f637475c194dc63e",
     "locked": true,
     "points": 0,
     "schema_version": 3,
     "solution": false,
     "task": false
    }
   },
   "outputs": [],
   "source": [
    "task_id = '3d'\n",
    "\n",
    "\n"
   ]
  },
  {
   "cell_type": "code",
   "execution_count": null,
   "metadata": {
    "deletable": false,
    "nbgrader": {
     "cell_type": "code",
     "checksum": "5fc37133499ac14105a3398f0d86eb65",
     "grade": false,
     "grade_id": "cell-ff1976b7fb5114fe",
     "locked": false,
     "schema_version": 3,
     "solution": true,
     "task": false
    }
   },
   "outputs": [],
   "source": [
    "\n",
    "\n",
    "def task_3d_solution():\n",
    "\n",
    "    cls = task_3c_solution()\n",
    "\n",
    "    # YOUR CODE HERE\n",
    "    raise NotImplementedError()\n",
    "\n"
   ]
  },
  {
   "cell_type": "code",
   "execution_count": null,
   "metadata": {
    "deletable": false,
    "editable": false,
    "nbgrader": {
     "cell_type": "code",
     "checksum": "d716f4752857058496cf632268fd07d6",
     "grade": true,
     "grade_id": "cell-a4ee2466dcdca192",
     "locked": true,
     "points": 10,
     "schema_version": 3,
     "solution": false,
     "task": false
    }
   },
   "outputs": [],
   "source": [
    "print(f\"Task {task_id} - AG tests\")\n",
    "stu_ans = task_3d_solution()\n",
    "\n",
    "\n",
    "print(f\"Task {task_id} - your answer:\\n{stu_ans}\")\n",
    "\n",
    "assert isinstance(\n",
    "    stu_ans, list\n",
    "), f\"Task {task_id}: Your function should return a ndarray. \"\n",
    "\n",
    "\n",
    "\n",
    "\n",
    "del stu_ans"
   ]
  }
 ],
 "metadata": {
  "kernelspec": {
   "display_name": "env",
   "language": "python",
   "name": "python3"
  },
  "language_info": {
   "codemirror_mode": {
    "name": "ipython",
    "version": 3
   },
   "file_extension": ".py",
   "mimetype": "text/x-python",
   "name": "python",
   "nbconvert_exporter": "python",
   "pygments_lexer": "ipython3",
   "version": "3.10.11"
  }
 },
 "nbformat": 4,
 "nbformat_minor": 4
}

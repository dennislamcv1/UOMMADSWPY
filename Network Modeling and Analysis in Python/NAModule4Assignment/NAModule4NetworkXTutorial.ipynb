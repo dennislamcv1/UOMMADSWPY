{
 "cells": [
  {
   "cell_type": "code",
   "execution_count": null,
   "metadata": {},
   "outputs": [],
   "source": [
    "import networkx as nx\n",
    "import numpy as np\n",
    "import matplotlib.pyplot as plt\n",
    "from networkx.drawing.nx_pydot import graphviz_layout\n",
    "import ndlib.models.ModelConfig as mc\n",
    "import ndlib.models.epidemics as ep\n",
    "import operator\n",
    "import random"
   ]
  },
  {
   "cell_type": "markdown",
   "metadata": {},
   "source": [
    "# Module 4 NetworkX Tutorial\n",
    "\n",
    "In this tutorial, we will go through examples that may assist you in completing this module's assignment.\n"
   ]
  },
  {
   "cell_type": "markdown",
   "metadata": {},
   "source": [
    "# General Assignment Tutorial: Configuring a model\n",
    "\n",
    "Configuring the models is a task you're going to need to complete for each question in this week's assignment. This section will guide you on how to accomplish this.\n",
    "\n",
    "First, let's create a dummy graph for demonstration and visualize its structure."
   ]
  },
  {
   "cell_type": "code",
   "execution_count": null,
   "metadata": {},
   "outputs": [],
   "source": [
    "G = nx.dense_gnm_random_graph(50, 120, seed=42)\n",
    "pos = nx.spring_layout(G)\n",
    "nx.draw_networkx(G, pos=pos, with_labels=False, node_color='blue', \n",
    "                 edge_color='gray', node_size=50)"
   ]
  },
  {
   "cell_type": "markdown",
   "metadata": {},
   "source": [
    "Now, let's configure the SI model, a very simple model where nodes infect others in each iteration with a set probability. Here, that probability will be called 'beta,' a parameter we can add before selecting seed nodes. For this assignment, all parameters for the 'config' object will be added before selecting seed nodes."
   ]
  },
  {
   "cell_type": "markdown",
   "metadata": {},
   "source": [
    "To start a diffusion, we need to have a set of seed nodes. There are two ways to add seed nodes to our configuration. We can either specify the seed nodes or define the fraction of nodes to be set as seed nodes.\n",
    "\n",
    "To select specific seed nodes, we use the method\n",
    "```python\n",
    "config = mc.Configuration()\n",
    "config.add_model_initial_configuration(\"Infected\", seed_node_set)\n",
    "```\n",
    "\n",
    "To define a range of infected nodes, we use the method\n",
    "```python\n",
    "config = mc.Configuration()\n",
    "config.add_model_parameter(\"fraction_infected\", ratio_of_infection)\n",
    "```\n",
    "\n",
    "Now, let's configure our SI model:"
   ]
  },
  {
   "cell_type": "code",
   "execution_count": null,
   "metadata": {},
   "outputs": [],
   "source": [
    "# Selecting the model\n",
    "model = ep.SIModel(G, seed=42)\n",
    "\n",
    "# Configuring the model\n",
    "\n",
    "# Adding Parameters\n",
    "config = mc.Configuration()\n",
    "config.add_model_parameter('beta', 0.5)\n",
    "\n",
    "# Selecting Seed Nodes\n",
    "seed_nodes = [0,1,2,3,4]\n",
    "config.add_model_initial_configuration(\"Infected\", seed_nodes)\n",
    "\n",
    "# To use the other model of seed node selection, you would commentize the two lines of \n",
    "#  code above and uncomment the below line.\n",
    "# config.add_model_parameter(\"fraction_infected\", 0.1)\n",
    "\n",
    "\n",
    "model.set_initial_status(config)\n"
   ]
  },
  {
   "cell_type": "markdown",
   "metadata": {},
   "source": [
    "Now, let's examine some properties of the simulation. By running the following code, we simulate the first 10 iterations:"
   ]
  },
  {
   "cell_type": "code",
   "execution_count": null,
   "metadata": {},
   "outputs": [],
   "source": [
    "iterations = model.iteration_bunch(10)"
   ]
  },
  {
   "cell_type": "markdown",
   "metadata": {},
   "source": [
    "Here, iterations will be a list of dictionaries representing the first 10 iterations of the model spreading. Below, we can visualize the infection of the nodes using the first two iterations. Understanding the code below is not necessary, but the visuals themselves should help you realize how the code successfully simulates diffusion models."
   ]
  },
  {
   "cell_type": "code",
   "execution_count": null,
   "metadata": {},
   "outputs": [],
   "source": [
    "color_list = ['blue', 'orange']\n",
    "fig, axes = plt.subplots(1, 2, figsize=[10,3])\n",
    "node_list_before = [color_list[v] for _, v in iterations[0]['status'].items()]\n",
    "nx.draw_networkx(G, pos=pos, with_labels=False, node_color=node_list_before, \n",
    "                 edge_color='gray', node_size=50, ax=axes[0])\n",
    "axes[0].set_title(\"Before first round of diffusion\")\n",
    "\n",
    "for k, v in iterations[1]['status'].items():\n",
    "    node_list_before[k] = color_list[v]\n",
    "nx.draw_networkx(G, pos=pos, with_labels=False, node_color=node_list_before, \n",
    "                 edge_color='gray', node_size=50, ax=axes[1])\n",
    "axes[1].set_title(\"After first round of diffusion\");"
   ]
  },
  {
   "cell_type": "markdown",
   "metadata": {},
   "source": [
    "Now, we can delve a bit deeper into what each dictionary in iteration is. Let's take a look at the first dictionary, which corresponds to the first iteration:"
   ]
  },
  {
   "cell_type": "code",
   "execution_count": null,
   "metadata": {},
   "outputs": [],
   "source": [
    "it1 = iterations[1]\n",
    "\n",
    "print(it1)"
   ]
  },
  {
   "cell_type": "markdown",
   "metadata": {},
   "source": [
    "As you can see, each iteration is a dictionary storing information about the iteration. Remember that a python dictionary is a collection of values referenced by a key. Let's break each field down.\n",
    "\n",
    "\n",
    "\n",
    "\n",
    "\n"
   ]
  },
  {
   "cell_type": "code",
   "execution_count": null,
   "metadata": {},
   "outputs": [],
   "source": [
    "print((it1['iteration']))"
   ]
  },
  {
   "cell_type": "markdown",
   "metadata": {},
   "source": [
    "The 'iteration' item is self explanatory, representing which iteration has just been passed.\n",
    "\n"
   ]
  },
  {
   "cell_type": "code",
   "execution_count": null,
   "metadata": {},
   "outputs": [],
   "source": [
    "print(it1['status'])\n",
    "\n",
    "print(\"Status of node 10: \" + str(it1['status'][10]))"
   ]
  },
  {
   "cell_type": "markdown",
   "metadata": {},
   "source": [
    "The 'status' field is a dictionary containing the nodes that have had their status changed in the previous iteration as keys. The value is either 1 or 0, indicating the node's infection status. Let's take a look at iteration 1's field:\n",
    "\n",
    "We can see that ```10:1``` is in the dictionary. This means that node 10 was infected in the last iteration. In some models, we might see ```10:0``` in 'status.' This would mean that node 10 had lost its infection in the last iteration. Of course, since we are currently using the SI model, we do not see any nodes going back to status 0. There are many more nodes in the network than are shown here, but they aren't in the dictionary because their status did not change in the last iteration."
   ]
  },
  {
   "cell_type": "code",
   "execution_count": null,
   "metadata": {},
   "outputs": [],
   "source": [
    "print(it1['node_count'])\n",
    "\n",
    "print(\"Number of infected nodes: \" + str(it1['node_count'][1]))\n",
    "print(\"Number of non-infected nodes: \" + str(it1['node_count'][0]))"
   ]
  },
  {
   "cell_type": "markdown",
   "metadata": {},
   "source": [
    "The 'node_count' field is a dictionary representing the number of infected and non-infected nodes. The entry for 0 represents the number of non-infected nodes, and the entry for 1 represents the number of infected nodes. As you can see above, the value for `it1['node_count'][1]` is 18, meaning that 18 nodes are infected. "
   ]
  },
  {
   "cell_type": "code",
   "execution_count": null,
   "metadata": {},
   "outputs": [],
   "source": [
    "print(it1['status_delta'])\n",
    "\n",
    "print(\"Change in no. of uninfected nodes: \" + str(it1['status_delta'][0]))"
   ]
  },
  {
   "cell_type": "markdown",
   "metadata": {},
   "source": [
    "'status_delta' is similar to 'node_count,' except the values for the entries of 1 and 0 represent the change from the previous iteration to the one just completed. In the example above, we can see that 13 nodes became infected, so the change in the number of non-infected nodes is -13, which is the value for the item with the key of 0."
   ]
  },
  {
   "cell_type": "markdown",
   "metadata": {},
   "source": [
    "# Task 1 Tutorial: Threshold Model\n",
    "\n",
    "The threshold model requires you to add a \"threshold\" parameter to each node. Below, we will demonstrate how to accomplish this. \n",
    "\n",
    "First, let's select and configure our model:\n",
    "\n"
   ]
  },
  {
   "cell_type": "code",
   "execution_count": null,
   "metadata": {},
   "outputs": [],
   "source": [
    "del model, iterations \n",
    "\n",
    "model = ep.ThresholdModel(G, seed = 42)\n",
    "\n",
    "config = mc.Configuration()\n",
    "seed_nodes = list(G.nodes)[:5]\n",
    "config.add_model_initial_configuration(\"Infected\", seed_nodes)\n"
   ]
  },
  {
   "cell_type": "markdown",
   "metadata": {},
   "source": [
    "Now, we can loop through \"G.nodes\" and add a threshhold for each node like so:"
   ]
  },
  {
   "cell_type": "code",
   "execution_count": null,
   "metadata": {},
   "outputs": [],
   "source": [
    "threshold = 0.25\n",
    "for node in G.nodes:\n",
    "    config.add_node_configuration(\"threshold\", node, threshold)\n",
    "\n",
    "model.set_initial_status(config)"
   ]
  },
  {
   "cell_type": "code",
   "execution_count": null,
   "metadata": {},
   "outputs": [],
   "source": [
    "iterations = model.iteration_bunch(10)\n",
    "\n",
    "color_list = ['blue', 'orange']\n",
    "fig, axes = plt.subplots(1, 2, figsize=[10,3])\n",
    "node_list_before = [color_list[v] for _, v in iterations[0]['status'].items()]\n",
    "nx.draw_networkx(G, pos=pos, with_labels=False, node_color=node_list_before, \n",
    "                 edge_color='gray', node_size=50, ax=axes[0])\n",
    "axes[0].set_title(\"Before first round of diffusion\")\n",
    "\n",
    "for k, v in iterations[1]['status'].items():\n",
    "    node_list_before[k] = color_list[v]\n",
    "nx.draw_networkx(G, pos=pos, with_labels=False, node_color=node_list_before, \n",
    "                 edge_color='gray', node_size=50, ax=axes[1])\n",
    "axes[1].set_title(\"After first round of diffusion\");"
   ]
  },
  {
   "cell_type": "markdown",
   "metadata": {},
   "source": [
    "# Task 2 Tutorial: Independent Cascade Model\n",
    "\n",
    "\n",
    "Simulating the IC model requires you to add a \"threshold\" parameter to each edge. Below, we will demonstrate how to accomplish this. \n",
    "\n",
    "First, let's select and configure our model:"
   ]
  },
  {
   "cell_type": "code",
   "execution_count": null,
   "metadata": {},
   "outputs": [],
   "source": [
    "del model, iterations \n",
    "\n",
    "model = ep.IndependentCascadesModel(G, seed = 42)\n",
    "\n",
    "config = mc.Configuration()\n",
    "seed_nodes = list(G.nodes)[:5]\n",
    "config.add_model_initial_configuration(\"Infected\", seed_nodes)"
   ]
  },
  {
   "cell_type": "markdown",
   "metadata": {},
   "source": [
    "Now, we can loop through each edge and attach each edge's threshold."
   ]
  },
  {
   "cell_type": "code",
   "execution_count": null,
   "metadata": {},
   "outputs": [],
   "source": [
    "threshold = 0.25\n",
    "for edge in G.edges():\n",
    "    config.add_edge_configuration(\"threshold\", edge, threshold)\n",
    "\n",
    "\n",
    "model.set_initial_status(config)"
   ]
  },
  {
   "cell_type": "code",
   "execution_count": null,
   "metadata": {},
   "outputs": [],
   "source": [
    "iterations = model.iteration_bunch(10)\n",
    "\n",
    "color_list = ['blue', 'orange', 'orange']\n",
    "fig, axes = plt.subplots(1, 2, figsize=[10,3])\n",
    "node_list_before = [color_list[v] for _, v in iterations[0]['status'].items()]\n",
    "nx.draw_networkx(G, pos=pos, with_labels=False, node_color=node_list_before, \n",
    "                 edge_color='gray', node_size=50, ax=axes[0])\n",
    "axes[0].set_title(\"Before first round of diffusion\")\n",
    "\n",
    "for k, v in iterations[1]['status'].items():\n",
    "    node_list_before[k] = color_list[v]\n",
    "nx.draw_networkx(G, pos=pos, with_labels=False, node_color=node_list_before, \n",
    "                 edge_color='gray', node_size=50, ax=axes[1])\n",
    "axes[1].set_title(\"After first round of diffusion\");"
   ]
  }
 ],
 "metadata": {
  "kernelspec": {
   "display_name": "Python 3.10 (ipykernel)",
   "language": "python",
   "name": "python3"
  },
  "language_info": {
   "codemirror_mode": {
    "name": "ipython",
    "version": 3
   },
   "file_extension": ".py",
   "mimetype": "text/x-python",
   "name": "python",
   "nbconvert_exporter": "python",
   "pygments_lexer": "ipython3",
   "version": "3.10.11"
  }
 },
 "nbformat": 4,
 "nbformat_minor": 4
}

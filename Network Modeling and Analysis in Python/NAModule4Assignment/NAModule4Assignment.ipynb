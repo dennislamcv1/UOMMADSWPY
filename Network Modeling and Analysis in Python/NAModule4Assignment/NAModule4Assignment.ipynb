{
 "cells": [
  {
   "cell_type": "code",
   "execution_count": null,
   "metadata": {
    "deletable": false,
    "editable": false,
    "nbgrader": {
     "cell_type": "code",
     "checksum": "14f1041e5e73948ec1b0e505724dec65",
     "grade": false,
     "grade_id": "cell-3af67e7b90aa2ff4",
     "locked": true,
     "schema_version": 3,
     "solution": false,
     "task": false
    }
   },
   "outputs": [],
   "source": [
    "import networkx as nx\n",
    "import numpy as np\n",
    "import matplotlib.pyplot as plt\n",
    "import ndlib.models.ModelConfig as mc\n",
    "import ndlib.models.epidemics as ep\n",
    "import operator\n",
    "import random"
   ]
  },
  {
   "cell_type": "markdown",
   "metadata": {
    "deletable": false,
    "editable": false,
    "nbgrader": {
     "cell_type": "markdown",
     "checksum": "43216f34f85b82c2536321aeb2e9d250",
     "grade": false,
     "grade_id": "cell-0bc6e8ba7e65dd7e",
     "locked": true,
     "schema_version": 3,
     "solution": false,
     "task": false
    }
   },
   "source": [
    "# Module 4 Assignment: Diffusion Models\n",
    "\n",
    "Below, you are going to be given a series of functions which simulate different diffusion models. To simulate a model, we need to select seed nodes, select the model, configure the model, and run the model through iterations. All of the steps are implemented for you except for configuring the model, which will be your task for each model in this assignment. Don't worry! It's very simple. The tutorial contains an example of a model being configured if you'd like to see an example.\n",
    "\n",
    "Each simulation function in this assignment will output a list of numbers, where each number represents the number of nodes infected at that iteration(the first number is how many nodes were infected after 1 iteration and so on).\n",
    "  "
   ]
  },
  {
   "cell_type": "code",
   "execution_count": null,
   "metadata": {
    "deletable": false,
    "editable": false,
    "nbgrader": {
     "cell_type": "code",
     "checksum": "95b74d9fced8c7a496eceb0b6eb45bd8",
     "grade": false,
     "grade_id": "cell-265c6d3845fbc6f4",
     "locked": true,
     "schema_version": 3,
     "solution": false,
     "task": false
    }
   },
   "outputs": [],
   "source": [
    "G=nx.read_edgelist(\"assets/german.txt\", delimiter=' ')"
   ]
  },
  {
   "cell_type": "markdown",
   "metadata": {
    "deletable": false,
    "editable": false,
    "nbgrader": {
     "cell_type": "markdown",
     "checksum": "0ad56158eb162db9fb39ec9303cd61a3",
     "grade": false,
     "grade_id": "cell-c4e57b1d6fbc9589",
     "locked": true,
     "schema_version": 3,
     "solution": false,
     "task": false
    }
   },
   "source": [
    "# Part 1: Threshold Model\n",
    "\n",
    "Remember that the threshold model gives each node a threshold for the percentage of its neighbors that must be infected before being infected. If the threshold is exceeded, the node becomes infected."
   ]
  },
  {
   "cell_type": "markdown",
   "metadata": {
    "deletable": false,
    "editable": false,
    "nbgrader": {
     "cell_type": "markdown",
     "checksum": "b0bb749d74d00e61f2dd9d03af40c329",
     "grade": false,
     "grade_id": "cell-69942766a6f5825e",
     "locked": true,
     "schema_version": 3,
     "solution": false,
     "task": false
    }
   },
   "source": [
    "# Task 1a: Simulation\n",
    "\n",
    "\n",
    "\n",
    "In this part of the assignment, you will be configuring the [threshold model](https://ndlib.readthedocs.io/en/latest/reference/models/epidemics/Threshold.html).\n",
    "\n",
    "\n",
    "This, and all future simulation functions have two options for determining seed nodes:\n",
    "- Passing a function as input (```importance_measure```), which takes in G and outputs a dictionary with nodes as the keys and scores as the values. For example, ```importance_measure``` could output a dictionary with the degree of each node. Your function should use the top `n` nodes based on these scores as the seed nodes. In your function, we place the seed nodes based on this criteria in ```highest_nodes``` for you, which you can see below.\n",
    "\n",
    "- If ```importance_measure``` is not passed, then your function should pick a random ```float(n)/len(G.nodes)``` fraction of nodes to be infected instead. \n",
    "\n",
    "**Hints**\n",
    "\n",
    "There are two ways for `ModelConfig` to select seed nodes:\n",
    "\n",
    "- To specify a list of initially infected nodes `infected_nodes` use:\n",
    "    ```python\n",
    "    config.add_model_initial_configuration(\"Infected\", infected_nodes)\n",
    "    ``` \n",
    "- To choose a random fraction of infected nodes, instead do:\n",
    "    ```python\n",
    "    config.add_model_parameter('fraction_infected', fraction)\n",
    "    ```\n"
   ]
  },
  {
   "cell_type": "code",
   "execution_count": null,
   "metadata": {
    "deletable": false,
    "editable": false,
    "nbgrader": {
     "cell_type": "code",
     "checksum": "77c93abde0f922745e86f6da5d78b353",
     "grade": true,
     "grade_id": "cell-7a37a25a8a8b003f",
     "locked": true,
     "points": 0,
     "schema_version": 3,
     "solution": false,
     "task": false
    }
   },
   "outputs": [],
   "source": [
    "task_id = '1a'\n"
   ]
  },
  {
   "cell_type": "code",
   "execution_count": null,
   "metadata": {
    "deletable": false,
    "nbgrader": {
     "cell_type": "code",
     "checksum": "1674f52aa1b87063c2f933b5cfd74586",
     "grade": false,
     "grade_id": "cell-23fea93a345b8599",
     "locked": false,
     "schema_version": 3,
     "solution": true,
     "task": false
    }
   },
   "outputs": [],
   "source": [
    "def task_1a_solution(G, importance_measure=None, iterate=50, n=1, threshold=0.25):\n",
    "    ## This part is done for you, selecting the seed nodes. \n",
    "    if importance_measure:\n",
    "        \n",
    "        sorted_node = sorted(importance_measure(G).items(), key=operator.itemgetter(1))[::-1]\n",
    "        highest_nodes = [n for n, _ in sorted_node[:n]]\n",
    "\n",
    "    # Model selection\n",
    "    model = ep.ThresholdModel(G, seed = 42)\n",
    "    \n",
    "    # Model Configuration. This is where you come in!\n",
    "    # YOUR CODE HERE\n",
    "    raise NotImplementedError()\n",
    "\n",
    "    # This part is done for you, simulating the infection spreading over time. \n",
    "    iterations = model.iteration_bunch(iterate)\n",
    "    return [it['node_count'][1] for it in iterations]"
   ]
  },
  {
   "cell_type": "code",
   "execution_count": null,
   "metadata": {},
   "outputs": [],
   "source": [
    "# Use this cell to explore your solution.\n",
    "\n",
    "task_1a_solution(G)"
   ]
  },
  {
   "cell_type": "code",
   "execution_count": null,
   "metadata": {
    "deletable": false,
    "editable": false,
    "nbgrader": {
     "cell_type": "code",
     "checksum": "ec56058447db152cb94877082a42c718",
     "grade": true,
     "grade_id": "cell-ac66e8669420b83b",
     "locked": true,
     "points": 5,
     "schema_version": 3,
     "solution": false,
     "task": false
    }
   },
   "outputs": [],
   "source": [
    "print(f\"Task {task_id} - AG tests\")\n",
    "\n",
    "\n",
    "\n",
    "#hidden tests for Question 2 are within this cell"
   ]
  },
  {
   "cell_type": "markdown",
   "metadata": {
    "deletable": false,
    "editable": false,
    "nbgrader": {
     "cell_type": "markdown",
     "checksum": "eb1fed6cd29817bcdbd1a083c56937f4",
     "grade": false,
     "grade_id": "cell-fc3bce6467dd3765",
     "locked": true,
     "schema_version": 3,
     "solution": false,
     "task": false
    }
   },
   "source": [
    "# Task 1b: Analysis\n",
    "\n",
    "Now, for the second part of the model, we'll have a task analyzing the results of the simulated diffusion model. In this module, you learned about several methods of choosing the initial nodes to be infected at the start of the simulation, known as the seed nodes. \n",
    "\n",
    "Below, we use 5 methods of picking seed nodes to decide the seed nodes of the model and simulate the diffusion model after selecting these seed nodes. Which method resulted in the least infected nodes after 50 iterations?\n",
    "\n",
    "The function below should return a string with one of the following possible values:\n",
    "\n",
    "[random, degree, closeness, betweenness, pagerank]\n",
    "\n",
    "Below, we provide a brief summaries on what each method of seed node selection refers to:\n",
    "- Random: Seed nodes are selected arbitrarily without considering network structure, leading to unpredictable influence spread.\n",
    "\n",
    "- Degree: Nodes with the highest number of direct connections are chosen, assuming they can quickly spread influence to many others.\n",
    "\n",
    "- Closeness: Nodes that have the shortest average distance to all other nodes are selected, optimizing fast information dissemination.\n",
    "\n",
    "- Betweenness: Nodes that act as bridges between different parts of the network are prioritized, ensuring influence reaches diverse regions.\n",
    "\n",
    "- PageRank: Nodes with high importance based on recursive link analysis are selected, favoring those connected to other influential nodes.\n"
   ]
  },
  {
   "cell_type": "code",
   "execution_count": null,
   "metadata": {
    "deletable": false,
    "editable": false,
    "nbgrader": {
     "cell_type": "code",
     "checksum": "d176e9f513ddc837e45c7deb6eebdd68",
     "grade": false,
     "grade_id": "cell-75354cce22246e1f",
     "locked": true,
     "schema_version": 3,
     "solution": false,
     "task": false
    }
   },
   "outputs": [],
   "source": [
    "task_id = '1b'\n",
    "I=50\n",
    "N=5\n",
    "T=0.3\n",
    "\n",
    "node_count_random = task_1a_solution(G, n=N, iterate=I, threshold=T)\n",
    "node_count_deg = task_1a_solution(G, nx.degree_centrality, n=N, iterate=I, threshold=T)\n",
    "node_count_closeness = task_1a_solution(G, nx.closeness_centrality, n=N, iterate=I, threshold=T)\n",
    "node_count_betweenness = task_1a_solution(G, nx.betweenness_centrality, n=N, iterate=I, threshold=T)\n",
    "node_count_pagerank = task_1a_solution(G, nx.pagerank, n=N, iterate=I, threshold=T)\n",
    "\n",
    "plt.title(\"Model Simulation\")\n",
    "plt.xlabel(\"Iteration\")\n",
    "plt.ylabel(\"Number of Infected\")\n",
    "plt.plot(node_count_random, label='random')\n",
    "plt.plot(node_count_deg, label='degree')\n",
    "plt.plot(node_count_closeness, label='closeness')\n",
    "plt.plot(node_count_betweenness, label='betweenness')\n",
    "plt.plot(node_count_pagerank, label='pagerank')\n",
    "plt.legend()"
   ]
  },
  {
   "cell_type": "code",
   "execution_count": null,
   "metadata": {
    "deletable": false,
    "nbgrader": {
     "cell_type": "code",
     "checksum": "2011633d3c9808674c0eb857ff0e2c2a",
     "grade": false,
     "grade_id": "cell-07584fc6bbe77dbd",
     "locked": false,
     "schema_version": 3,
     "solution": true,
     "task": false
    }
   },
   "outputs": [],
   "source": [
    "def task_1b_solution():\n",
    "    sol = \"\"\n",
    "\n",
    "    # YOUR CODE HERE\n",
    "    raise NotImplementedError()\n",
    "\n",
    "    return sol"
   ]
  },
  {
   "cell_type": "code",
   "execution_count": null,
   "metadata": {
    "deletable": false,
    "editable": false,
    "nbgrader": {
     "cell_type": "code",
     "checksum": "8fe5b46da2bce37772c2c3db3f101300",
     "grade": true,
     "grade_id": "cell-eac88dfa098ee5f3",
     "locked": true,
     "points": 5,
     "schema_version": 3,
     "solution": false,
     "task": false
    }
   },
   "outputs": [],
   "source": [
    "print(f\"Task {task_id} - AG tests\")\n"
   ]
  },
  {
   "cell_type": "markdown",
   "metadata": {
    "deletable": false,
    "editable": false,
    "nbgrader": {
     "cell_type": "markdown",
     "checksum": "45b43ed82835aa5aa2255e2cadf05768",
     "grade": false,
     "grade_id": "cell-55df623141762b77",
     "locked": true,
     "schema_version": 3,
     "solution": false,
     "task": false
    }
   },
   "source": [
    "# Part 2: Independent Cascade Model\n",
    "\n",
    "Recall that the Independent Cascade Model is similar to the Threshold Model, except nodes do not have their own threshold. Instead, each edge has a probability of infecting the node it's directed to.\n",
    "\n",
    "\n"
   ]
  },
  {
   "cell_type": "markdown",
   "metadata": {
    "deletable": false,
    "editable": false,
    "nbgrader": {
     "cell_type": "markdown",
     "checksum": "7922b70d6d8aab2276629fc1c8e4fdbe",
     "grade": false,
     "grade_id": "cell-e7436f73f115b4cc",
     "locked": true,
     "schema_version": 3,
     "solution": false,
     "task": false
    }
   },
   "source": [
    "# Task 2a: Simulation\n",
    "\n",
    "You will be selecting seed nodes the same way as you did in Task 1. However, configuring the model will be different, as you will be adding probability values to the edges instead of threshold values to nodes. Refer to the tutorial for a guide on how to accomplish this.\n"
   ]
  },
  {
   "cell_type": "code",
   "execution_count": null,
   "metadata": {
    "deletable": false,
    "editable": false,
    "nbgrader": {
     "cell_type": "code",
     "checksum": "c8a4d6008b7a86ef61dc129073a136ad",
     "grade": true,
     "grade_id": "cell-4d1f1b6305c0984b",
     "locked": true,
     "points": 0,
     "schema_version": 3,
     "solution": false,
     "task": false
    }
   },
   "outputs": [],
   "source": [
    "task_id = '2a'\n"
   ]
  },
  {
   "cell_type": "code",
   "execution_count": null,
   "metadata": {
    "deletable": false,
    "nbgrader": {
     "cell_type": "code",
     "checksum": "842045c713e46a52f7f72bd6579e773c",
     "grade": false,
     "grade_id": "cell-7874f276cd1d8625",
     "locked": false,
     "schema_version": 3,
     "solution": true,
     "task": false
    }
   },
   "outputs": [],
   "source": [
    "def task_2a_solution(G, importance_measure=None, iterate=50, n=1, threshold=0.25):\n",
    "    ## This part is done for you, selecting the seed nodes. \n",
    "    if importance_measure:\n",
    "        \n",
    "        sorted_node = sorted(importance_measure(G).items(), key=operator.itemgetter(1))[::-1]\n",
    "        highest_nodes = [n for n, _ in sorted_node[:n]]\n",
    "\n",
    "    # Model selection\n",
    "    model = ep.IndependentCascadesModel(G, seed = 42)\n",
    "    \n",
    "\n",
    "    # Model Configuration\n",
    "    # YOUR CODE HERE\n",
    "    raise NotImplementedError()\n",
    "\n",
    "    # This part is done for you, simulating the infection spreading over time. \n",
    "    iterations = model.iteration_bunch(iterate)\n",
    "    return [it['node_count'][1] for it in iterations]"
   ]
  },
  {
   "cell_type": "code",
   "execution_count": null,
   "metadata": {
    "deletable": false,
    "editable": false,
    "nbgrader": {
     "cell_type": "code",
     "checksum": "7d155642c18de7c82bcc4da279d27cfd",
     "grade": true,
     "grade_id": "cell-cd55cfc19335ee8c",
     "locked": true,
     "points": 5,
     "schema_version": 3,
     "solution": false,
     "task": false
    }
   },
   "outputs": [],
   "source": [
    "print(f\"Task {task_id} - AG tests\")\n",
    "\n",
    "#hidden tests for Question 2 are within this cell"
   ]
  },
  {
   "cell_type": "markdown",
   "metadata": {
    "deletable": false,
    "editable": false,
    "nbgrader": {
     "cell_type": "markdown",
     "checksum": "66d323eb5681362ab43b958750e0ed5f",
     "grade": false,
     "grade_id": "cell-d045ae852dd1eb50",
     "locked": true,
     "schema_version": 3,
     "solution": false,
     "task": false
    }
   },
   "source": [
    "# Task 2b: Analysis\n",
    "\n",
    "Let's take a look at the graph here simulating the Independent Cascade Model using \"degree\" as the seed node selection.\n"
   ]
  },
  {
   "cell_type": "code",
   "execution_count": null,
   "metadata": {
    "deletable": false,
    "editable": false,
    "nbgrader": {
     "cell_type": "code",
     "checksum": "b9ff294707ea9992a0c35012d11ad1fc",
     "grade": false,
     "grade_id": "cell-85d0494940d72947",
     "locked": true,
     "schema_version": 3,
     "solution": false,
     "task": false
    }
   },
   "outputs": [],
   "source": [
    "task_id = '2b'\n",
    "I=40\n",
    "N=20\n",
    "T=0.3\n",
    "\n",
    "\n",
    "node_count_deg = task_2a_solution(G, nx.degree_centrality, n=N, iterate=I, threshold=T)\n",
    "\n",
    "\n",
    "plt.title(\"Model Simulation\")\n",
    "plt.xlabel(\"Iteration\")\n",
    "plt.ylabel(\"Number of Infected\")\n",
    "\n",
    "plt.plot(node_count_deg, label='degree')\n",
    "\n",
    "plt.legend()"
   ]
  },
  {
   "cell_type": "markdown",
   "metadata": {
    "deletable": false,
    "editable": false,
    "nbgrader": {
     "cell_type": "markdown",
     "checksum": "b2e6987ab4c6ef0e464ceb8557bcbe08",
     "grade": false,
     "grade_id": "cell-6092e50074c889f2",
     "locked": true,
     "schema_version": 3,
     "solution": false,
     "task": false
    }
   },
   "source": [
    "If you compare this graph to the graph from task 1b, we can see that the number of infected nodes is quite a bit different from the threshold model! For this task, we're going to find the specific numerical difference in the number of nodes infected by the independent cascade and the threshold model using each nodes' degree as the method for seed node selection.\n",
    "\n",
    "**Hints:**\n",
    "\n",
    "- Recall what is returned by the task_1a and task_2a functions. You may want to refer back to the assignment introduction describing what is returned by these functions. When calling these functions, use the I, N, and T values defined above as values for the iterate, n, and threshold arguments, respectively. Use `nx.degree_centrality` as the argument for `importance_measure`.\n",
    "\n",
    "- You can find the final element in a python list using reverse indexing. For example:\n",
    "    ```Python\n",
    "    last_element = my_list[-1]\n",
    "    ```\n",
    "    assigns the last element in ```my_list``` to ```last_element```"
   ]
  },
  {
   "cell_type": "code",
   "execution_count": null,
   "metadata": {
    "deletable": false,
    "nbgrader": {
     "cell_type": "code",
     "checksum": "f3e6166547232c41d190b43cdc9dc1b8",
     "grade": false,
     "grade_id": "cell-1a63b521d8bf334b",
     "locked": false,
     "schema_version": 3,
     "solution": true,
     "task": false
    }
   },
   "outputs": [],
   "source": [
    "def task_2b_solution():\n",
    "    \n",
    "    n_threshold_infected = 0\n",
    "    n_IC_infected = 0\n",
    "\n",
    "    # YOUR CODE HERE\n",
    "    raise NotImplementedError()\n",
    "\n",
    "    return n_threshold_infected - n_IC_infected"
   ]
  },
  {
   "cell_type": "code",
   "execution_count": null,
   "metadata": {
    "deletable": false,
    "editable": false,
    "nbgrader": {
     "cell_type": "code",
     "checksum": "2bd3998ecbc2263259b85b180ae31c3f",
     "grade": true,
     "grade_id": "cell-1a87969e65e02da7",
     "locked": true,
     "points": 5,
     "schema_version": 3,
     "solution": false,
     "task": false
    }
   },
   "outputs": [],
   "source": [
    "print(f\"Task {task_id} - AG tests\")\n",
    "stu_ans = task_2b_solution()\n",
    "\n",
    "print(f\"Task {task_id} - your answer:\\n{stu_ans}\")\n",
    "\n",
    "assert isinstance(\n",
    "    stu_ans, int\n",
    "), f\"Task {task_id}: Your function should return an int. \"\n",
    "\n"
   ]
  },
  {
   "cell_type": "markdown",
   "metadata": {
    "deletable": false,
    "editable": false,
    "nbgrader": {
     "cell_type": "markdown",
     "checksum": "566efcdbe5f4383e63086d279ce4b5c4",
     "grade": false,
     "grade_id": "cell-8e088c1ea14aa7b0",
     "locked": true,
     "schema_version": 3,
     "solution": false,
     "task": false
    }
   },
   "source": [
    "# Task 3: SIR Model\n",
    "\n",
    "Remember, the SIR model is where infections pass along edges from infected nodes to others with a certain probability. Infected nodes can become \"removed\" or \"permanently cured\" with a different probability."
   ]
  },
  {
   "cell_type": "markdown",
   "metadata": {
    "deletable": false,
    "editable": false,
    "nbgrader": {
     "cell_type": "markdown",
     "checksum": "9cb5911d32b979f476c53cfe6d7a1570",
     "grade": false,
     "grade_id": "cell-39ca61ccace7cc82",
     "locked": true,
     "schema_version": 3,
     "solution": false,
     "task": false
    }
   },
   "source": [
    "# Part 3a: Simulation\n",
    "\n",
    "Simulating this model requires \"infected\" and \"fraction_infected\" as you've implemented in tasks 1 and 2. However, the model will require two separate properties, one being the probability of an infected node spreading its condition, and the other being the probability of a node becoming \"permanently cured\". These properties will be called 'beta' and 'gamma,' respectively. Values for these properties are passed in as arguments. Add these to the model configuration using ```add_model_parameter```.\n",
    "\n",
    "\n",
    "\n",
    "**Hint**\n",
    "The \"Configuring a model\" section of the tutorial shows you how to add extra parameters to the configuration with the add_model_parameter function. You can use this method to add the 'beta' and 'gamma' properties. "
   ]
  },
  {
   "cell_type": "code",
   "execution_count": null,
   "metadata": {
    "deletable": false,
    "editable": false,
    "nbgrader": {
     "cell_type": "code",
     "checksum": "98137dcd01578c6c2462c27d8ac9694c",
     "grade": true,
     "grade_id": "cell-18b9029e655c28b0",
     "locked": true,
     "points": 0,
     "schema_version": 3,
     "solution": false,
     "task": false
    }
   },
   "outputs": [],
   "source": [
    "task_id = '3a'\n"
   ]
  },
  {
   "cell_type": "code",
   "execution_count": null,
   "metadata": {
    "deletable": false,
    "nbgrader": {
     "cell_type": "code",
     "checksum": "a06bb0ebe8139d0fdf9d9bf9129d214e",
     "grade": false,
     "grade_id": "cell-847cca0738f35b68",
     "locked": false,
     "schema_version": 3,
     "solution": true,
     "task": false
    }
   },
   "outputs": [],
   "source": [
    "def task_3a_solution(G, importance_measure=None, iterate=100, n=1, beta=0.1, gamma=0.05):\n",
    "    if importance_measure:\n",
    "        # select seed nodes\n",
    "        sorted_node = sorted(importance_measure(G).items(), key=operator.itemgetter(1))[::-1]\n",
    "        highest_nodes = [n for n, _ in sorted_node[:n]]\n",
    "\n",
    "    # Model selection\n",
    "    model = ep.SIRModel(G, seed = 42)\n",
    "\n",
    "    # write your code for model configuration here\n",
    "    # Model Configuration\n",
    "    # YOUR CODE HERE\n",
    "    raise NotImplementedError()\n",
    "\n",
    "    # Simulation execution\n",
    "    iterations = model.iteration_bunch(iterate)\n",
    "    total_infected_nodes = [0] * iterate\n",
    "    # write your code for computing total number of infected nodes here\n",
    "    status = [0] * len(G.nodes)\n",
    "    for item in iterations:\n",
    "        for k, v in item['status'].items():\n",
    "            if v == 1:\n",
    "                status[int(k)] = 1\n",
    "        total_infected_nodes[item['iteration']] = sum(status)\n",
    "    \n",
    "    return [it['node_count'][1] for it in iterations], total_infected_nodes"
   ]
  },
  {
   "cell_type": "code",
   "execution_count": null,
   "metadata": {
    "deletable": false,
    "editable": false,
    "nbgrader": {
     "cell_type": "code",
     "checksum": "cd6bdd983ec619c2f10a94aa638451ea",
     "grade": true,
     "grade_id": "cell-2bdccc963a0c9f8d",
     "locked": true,
     "points": 5,
     "schema_version": 3,
     "solution": false,
     "task": false
    }
   },
   "outputs": [],
   "source": [
    "print(f\"Task {task_id} - AG tests\")\n",
    "\n",
    "#hidden tests for Question 2 are within this cell"
   ]
  },
  {
   "cell_type": "markdown",
   "metadata": {
    "deletable": false,
    "editable": false,
    "nbgrader": {
     "cell_type": "markdown",
     "checksum": "c91a2dac41a955ec6941171d227e5a1c",
     "grade": false,
     "grade_id": "cell-ada003a44f851084",
     "locked": true,
     "schema_version": 3,
     "solution": false,
     "task": false
    }
   },
   "source": [
    "# Task 3b: Analysis\n",
    "\n",
    "Since nodes can become \"removed,\" the total number of nodes that have been infected at a given point can differ from the total number of nodes currently infected at that point. For example, if nodes 1, 2, and 3 are infected, and then at one point, node 3 becomes 'removed,' the total number of nodes that have been infected is 3, but the number of currently infected nodes is 2. \n",
    "\n",
    "As you may have noticed, our function above includes code which creates a list representing the total number of nodes that have been infected at some point at each iteration. That graph can be seen when you run the code below.\n",
    "\n",
    "Which method of seed node selection resulted in the highest total number of infected nodes? Which method of seed selection resulted in the highest number of infected nodes at a given point? The answer should be put in the strings ```mostTotal``` and ```mostAtPoint```, respectively in the function in task_4b answer(). The strings should be one of the following answers:\n",
    "\n",
    "[random, degree, closeness, betweenness, pagerank]"
   ]
  },
  {
   "cell_type": "code",
   "execution_count": null,
   "metadata": {
    "deletable": false,
    "editable": false,
    "nbgrader": {
     "cell_type": "code",
     "checksum": "d62cb76ff8eaeec46ce683e350343547",
     "grade": false,
     "grade_id": "cell-99c5ef6fc946ba80",
     "locked": true,
     "schema_version": 3,
     "solution": false,
     "task": false
    }
   },
   "outputs": [],
   "source": [
    "N=25\n",
    "I=300\n",
    "b = 0.1\n",
    "g = 0.05\n",
    "\n",
    "node_count_random, total_random = task_3a_solution(G, iterate=I, n=N, beta = b, gamma = g)\n",
    "node_count_deg, total_deg = task_3a_solution(G, nx.degree_centrality, iterate=I, n=N, beta = b, gamma = g)\n",
    "node_count_closeness, total_closeness = task_3a_solution(G, nx.closeness_centrality, iterate=I, n=N, beta = b, gamma = g)\n",
    "node_count_betweenness, total_betweenness = task_3a_solution(G, nx.betweenness_centrality, iterate=I, n=N, beta = b, gamma = g)\n",
    "node_count_pagerank, total_pagerank = task_3a_solution(G, nx.pagerank, iterate=I, n=N, beta = b, gamma = g)\n",
    "\n",
    "fig, axes = plt.subplots(1, 2, figsize=(10, 4))\n",
    "axes[0].plot(node_count_random, label='random')\n",
    "axes[0].plot(node_count_deg, label='degree')\n",
    "axes[0].plot(node_count_closeness, label='closeness')\n",
    "axes[0].plot(node_count_betweenness, label='betweenness')\n",
    "axes[0].plot(node_count_pagerank, label='pagerank')\n",
    "axes[0].legend()\n",
    "axes[0].set_title(\"No. Currently Infected Nodes\")\n",
    "axes[1].plot(total_random, label='random')\n",
    "axes[1].plot(total_deg, label='degree')\n",
    "axes[1].plot(total_closeness, label='closeness')\n",
    "axes[1].plot(total_betweenness, label='betweenness')\n",
    "axes[1].plot(total_pagerank, label='pagerank')\n",
    "axes[1].legend()\n",
    "axes[1].set_title(\"No. Nodes Infected Once\")"
   ]
  },
  {
   "cell_type": "code",
   "execution_count": null,
   "metadata": {
    "deletable": false,
    "nbgrader": {
     "cell_type": "code",
     "checksum": "1bb2e84619b4dbaf17e41f48255cd631",
     "grade": false,
     "grade_id": "cell-a18431c5ef9051b6",
     "locked": false,
     "schema_version": 3,
     "solution": true,
     "task": false
    }
   },
   "outputs": [],
   "source": [
    "task_id = '3b'\n",
    "\n",
    "def task_3b_solution():\n",
    "    mostTotal = \"\" \n",
    "    mostAtPoint = \"\"\n",
    "\n",
    "    # YOUR CODE HERE\n",
    "    raise NotImplementedError()\n",
    "\n",
    "    return mostAtPoint, mostTotal\n"
   ]
  },
  {
   "cell_type": "code",
   "execution_count": null,
   "metadata": {
    "deletable": false,
    "editable": false,
    "nbgrader": {
     "cell_type": "code",
     "checksum": "ecb875bf8d5ce1f574b9a267798648fd",
     "grade": true,
     "grade_id": "cell-441d1a78040dd33e",
     "locked": true,
     "points": 5,
     "schema_version": 3,
     "solution": false,
     "task": false
    }
   },
   "outputs": [],
   "source": [
    "print(f\"Task {task_id} - AG tests\")\n"
   ]
  },
  {
   "cell_type": "markdown",
   "metadata": {
    "deletable": false,
    "editable": false,
    "nbgrader": {
     "cell_type": "markdown",
     "checksum": "5eae10fccb0d54ea5e3f1ff01c740218",
     "grade": false,
     "grade_id": "cell-0ddc693e6bc980fd",
     "locked": true,
     "schema_version": 3,
     "solution": false,
     "task": false
    }
   },
   "source": [
    "# Part 4: SIS Model\n",
    "\n",
    "The SIS model is similar to the SIR model, but instead of becoming \"permanently cured,\" nodes revert back to a susceptible state where they can become reinfected."
   ]
  },
  {
   "cell_type": "markdown",
   "metadata": {
    "deletable": false,
    "editable": false,
    "nbgrader": {
     "cell_type": "markdown",
     "checksum": "8f90bcc927d14eabcfb85098de30d895",
     "grade": false,
     "grade_id": "cell-8a7c57e0944d8e3a",
     "locked": true,
     "schema_version": 3,
     "solution": false,
     "task": false
    }
   },
   "source": [
    "# Task 4a: Simulation\n",
    "\n",
    "Configuring this model is the same as configuring the SIR model. However, instead of a 'gamma' parameter determining if a node will become 'removed,' a lambda parameter determining whether a node will become 'susceptible' will be added."
   ]
  },
  {
   "cell_type": "code",
   "execution_count": null,
   "metadata": {
    "deletable": false,
    "editable": false,
    "nbgrader": {
     "cell_type": "code",
     "checksum": "6fc906e63d40f75dd48e25aea8608d25",
     "grade": true,
     "grade_id": "cell-7e6d8400f62a04a1",
     "locked": true,
     "points": 0,
     "schema_version": 3,
     "solution": false,
     "task": false
    }
   },
   "outputs": [],
   "source": [
    "task_id = '4a'\n"
   ]
  },
  {
   "cell_type": "code",
   "execution_count": null,
   "metadata": {
    "deletable": false,
    "nbgrader": {
     "cell_type": "code",
     "checksum": "dbe69d24d67b3b51283d301aedd691ab",
     "grade": false,
     "grade_id": "cell-376a14a27aa35b97",
     "locked": false,
     "schema_version": 3,
     "solution": true,
     "task": false
    }
   },
   "outputs": [],
   "source": [
    "def task_4a_solution(G, importance_measure=None, iterate=100, n=1, beta=0.1, _lambda=0.05):\n",
    "    if importance_measure:\n",
    "        # select seed nodes\n",
    "        sorted_node = sorted(importance_measure(G).items(), key=operator.itemgetter(1))[::-1]\n",
    "        highest_nodes = [n for n, _ in sorted_node[:n]]\n",
    "\n",
    "    # Model selection\n",
    "    model = ep.SISModel(G, seed = 42)\n",
    "\n",
    "    # YOUR CODE HERE\n",
    "    raise NotImplementedError()\n",
    "\n",
    "    # Simulation execution\n",
    "    iterations = model.iteration_bunch(iterate)\n",
    "    return [it['node_count'][1] for it in iterations]"
   ]
  },
  {
   "cell_type": "code",
   "execution_count": null,
   "metadata": {
    "deletable": false,
    "editable": false,
    "nbgrader": {
     "cell_type": "code",
     "checksum": "71c8ed046009ce0c5c86dedc25d55ad2",
     "grade": true,
     "grade_id": "cell-9cef09150d9db05f",
     "locked": true,
     "points": 5,
     "schema_version": 3,
     "solution": false,
     "task": false
    }
   },
   "outputs": [],
   "source": [
    "print(f\"Task {task_id} - AG tests\")\n",
    "\n",
    "#hidden tests for Question 2 are within this cell"
   ]
  },
  {
   "cell_type": "markdown",
   "metadata": {
    "deletable": false,
    "editable": false,
    "nbgrader": {
     "cell_type": "markdown",
     "checksum": "7b81013aecdb11c9498b27ccac8fbe7e",
     "grade": false,
     "grade_id": "cell-fa5047de802a86aa",
     "locked": true,
     "schema_version": 3,
     "solution": false,
     "task": false
    }
   },
   "source": [
    "# Task 4b: Analysis\n",
    "\n",
    "\n",
    "A unique feature of this model in comparison to the others we've examined is that nodes can be infected multiple times. How many times was the node '0' infected?\n",
    "\n",
    "The bulk of this function will be the same as your solution for task 4a. At the end, however, you will add code counting the number of times node '0' was infected and return that number as an integer. You may want to refer back to the tutorial describing the 'status' entry in an iteration.\n",
    "\n",
    "\n",
    "\n"
   ]
  },
  {
   "cell_type": "code",
   "execution_count": null,
   "metadata": {
    "deletable": false,
    "editable": false,
    "nbgrader": {
     "cell_type": "code",
     "checksum": "c2fe601e31717483fb0e51a5188f50bb",
     "grade": true,
     "grade_id": "cell-cdb7d160fe1020c7",
     "locked": true,
     "points": 0,
     "schema_version": 3,
     "solution": false,
     "task": false
    }
   },
   "outputs": [],
   "source": [
    "task_id = '4b'\n",
    "\n"
   ]
  },
  {
   "cell_type": "code",
   "execution_count": null,
   "metadata": {
    "deletable": false,
    "nbgrader": {
     "cell_type": "code",
     "checksum": "580851b4f4e4e891be83c5728f05ba6c",
     "grade": false,
     "grade_id": "cell-d9d5ac609283461d",
     "locked": false,
     "schema_version": 3,
     "solution": true,
     "task": false
    }
   },
   "outputs": [],
   "source": [
    "def task_4b_solution(G, importance_measure=None, iterate=100, n=1, beta=0.1, _lambda=0.05):\n",
    "    if importance_measure:\n",
    "        # select seed nodes\n",
    "        sorted_node = sorted(importance_measure(G).items(), key=operator.itemgetter(1))[::-1]\n",
    "        highest_nodes = [n for n, _ in sorted_node[:n]]\n",
    "\n",
    "    # Model selection\n",
    "    model = ep.SISModel(G, seed = 42)\n",
    "\n",
    "    # YOUR CODE HERE\n",
    "    raise NotImplementedError()\n",
    "\n",
    "    # Simulation execution\n",
    "\n",
    "    iterations = model.iteration_bunch(iterate)\n",
    "    \n",
    "    node_infection_count = 0\n",
    "\n",
    "    # YOUR CODE HERE\n",
    "    raise NotImplementedError()\n",
    "\n",
    "    return node_infection_count\n",
    "\n"
   ]
  },
  {
   "cell_type": "code",
   "execution_count": null,
   "metadata": {
    "deletable": false,
    "editable": false,
    "nbgrader": {
     "cell_type": "code",
     "checksum": "446785e1e838f1d9916fc8f681556484",
     "grade": true,
     "grade_id": "cell-62710ead4c13a59b",
     "locked": true,
     "points": 5,
     "schema_version": 3,
     "solution": false,
     "task": false
    }
   },
   "outputs": [],
   "source": [
    "\n",
    "\n",
    "print(f\"Task {task_id} - AG tests\")\n",
    "\n",
    "\n"
   ]
  }
 ],
 "metadata": {
  "kernelspec": {
   "display_name": "env",
   "language": "python",
   "name": "python3"
  },
  "language_info": {
   "codemirror_mode": {
    "name": "ipython",
    "version": 3
   },
   "file_extension": ".py",
   "mimetype": "text/x-python",
   "name": "python",
   "nbconvert_exporter": "python",
   "pygments_lexer": "ipython3",
   "version": "3.10.11"
  }
 },
 "nbformat": 4,
 "nbformat_minor": 4
}

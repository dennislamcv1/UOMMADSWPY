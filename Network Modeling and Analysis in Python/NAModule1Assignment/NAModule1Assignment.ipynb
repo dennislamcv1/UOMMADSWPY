{
 "cells": [
  {
   "cell_type": "markdown",
   "metadata": {
    "deletable": false,
    "editable": false,
    "nbgrader": {
     "cell_type": "markdown",
     "checksum": "d398924fdeffb1f0a0f884de9b3382c5",
     "grade": false,
     "grade_id": "cell-ee7bd832af5b38d8",
     "locked": true,
     "schema_version": 3,
     "solution": false,
     "task": false
    }
   },
   "source": [
    "# Module 1 Assignment\n",
    "\n",
    "In this module, you learned about topics such as homophily, structural  holes, and K-core decomposition. In this assignment, you will use networkx's library of functions relating to these topics. \n"
   ]
  },
  {
   "cell_type": "code",
   "execution_count": 1,
   "metadata": {
    "deletable": false,
    "editable": false,
    "nbgrader": {
     "cell_type": "code",
     "checksum": "73ee18deed6e2605d22fc795e792f798",
     "grade": false,
     "grade_id": "cell-4e58ea86dfc006fa",
     "locked": true,
     "schema_version": 3,
     "solution": false,
     "task": false
    }
   },
   "outputs": [],
   "source": [
    "import networkx as nx\n",
    "import matplotlib.pyplot as plt\n",
    "import numpy as np\n",
    "from sklearn.metrics import adjusted_rand_score\n"
   ]
  },
  {
   "cell_type": "markdown",
   "metadata": {
    "deletable": false,
    "editable": false,
    "nbgrader": {
     "cell_type": "markdown",
     "checksum": "e9f7186681e09108f38856a151cfcf4a",
     "grade": false,
     "grade_id": "cell-3940a878a9692a03",
     "locked": true,
     "schema_version": 3,
     "solution": false,
     "task": false
    }
   },
   "source": [
    "# Part 1: Homophily, Assortative mixing"
   ]
  },
  {
   "cell_type": "markdown",
   "metadata": {
    "deletable": false,
    "editable": false,
    "nbgrader": {
     "cell_type": "markdown",
     "checksum": "9b399b3733547a66a24abbe754b4f8c7",
     "grade": false,
     "grade_id": "cell-d8a415132c57410e",
     "locked": true,
     "schema_version": 3,
     "solution": false,
     "task": false
    }
   },
   "source": [
    "At football headquarters, we have a network representing the American football season of the year 2001, where nodes are teams and we form an undirected edge between teams that have played against each other at least once during the season. Below is an example of a node in the dataset:\n",
    "\n",
    "```\n",
    "node [\n",
    "    id 1\n",
    "    label \"FloridaState\"\n",
    "    wins 11\n",
    "    losses 2\n",
    "    conference 0\n",
    "]\n",
    "```\n",
    "\n",
    "For each node, we know which conference the node belongs to in the 'conference' field. In American Football, conferences are groups of teams that are in a league together, and play against each other to win the league title. It is not uncommon however, for teams to play teams that are outside of their league. \n",
    "\n",
    "# Task 1a:\n",
    "\n",
    "Somehow, a disgruntled fan has hacked into our system and created a second corrupted graph with randomized edges. We do not know which is which, and we need your help to pick which one is the correct network.\n",
    "\n",
    "Given that teams in conferences together tend to play each other, we know we can use one of the assortativity functions we learned about this week to deduce which graph is the uncorrupted one. It is your job to figure out which assortativity function and which feature of the nodes are relevant, return the proper coefficient, and decide which is the uncorrupted graph.\n",
    "\n",
    "The function below should return a tuple containing the coefficient for football1.gml and football2.gml in that order.\n",
    "\n",
    "Note: The conference is a categorical variable, not a numeric label. It is represented by an integer which corresponds to a limited set of conferences. "
   ]
  },
  {
   "cell_type": "code",
   "execution_count": 2,
   "metadata": {
    "deletable": false,
    "editable": false,
    "nbgrader": {
     "cell_type": "code",
     "checksum": "e11f1ddbf08f02f69ba8e38ab003b220",
     "grade": false,
     "grade_id": "cell-c67b95c232f543a8",
     "locked": true,
     "schema_version": 3,
     "solution": false,
     "task": false
    }
   },
   "outputs": [],
   "source": [
    "G_football1 = nx.read_gml('assets/football1.gml', label='id')\n",
    "\n",
    "G_football2 = nx.read_gml('assets/football2.gml', label='id')"
   ]
  },
  {
   "cell_type": "code",
   "execution_count": 3,
   "metadata": {
    "deletable": false,
    "editable": false,
    "nbgrader": {
     "cell_type": "code",
     "checksum": "4eb1d2dafe71f66cf3f5fbd27ac8490f",
     "grade": true,
     "grade_id": "cell-be2d95a4f6e99c95",
     "locked": true,
     "points": 0,
     "schema_version": 3,
     "solution": false,
     "task": false
    }
   },
   "outputs": [],
   "source": [
    "task_id = '1'\n",
    "\n",
    "## Utility Code will go here"
   ]
  },
  {
   "cell_type": "code",
   "execution_count": 4,
   "metadata": {
    "deletable": false,
    "nbgrader": {
     "cell_type": "code",
     "checksum": "59decf19df499f91775425926d6dc56c",
     "grade": false,
     "grade_id": "cell-09e99c1fee87431f",
     "locked": false,
     "schema_version": 3,
     "solution": true,
     "task": false
    }
   },
   "outputs": [],
   "source": [
    "def task_1a_solution():\n",
    "    g1_coeff, g2_coeff = 0, 0\n",
    "    \n",
    "    # YOUR CODE HERE\n",
    "    # Compute assortativity based on the categorical 'conference' attribute\n",
    "    g1_coeff = nx.attribute_assortativity_coefficient(G_football1, 'conference')\n",
    "    g2_coeff = nx.attribute_assortativity_coefficient(G_football2, 'conference')\n",
    "\n",
    "    return g1_coeff, g2_coeff"
   ]
  },
  {
   "cell_type": "code",
   "execution_count": 5,
   "metadata": {},
   "outputs": [
    {
     "data": {
      "text/plain": [
       "(0.6275381679111909, 0.009602406049995278)"
      ]
     },
     "execution_count": 5,
     "metadata": {},
     "output_type": "execute_result"
    }
   ],
   "source": [
    "# Use this cell to explore your solution.\n",
    "\n",
    "task_1a_solution()"
   ]
  },
  {
   "cell_type": "code",
   "execution_count": 6,
   "metadata": {
    "deletable": false,
    "editable": false,
    "nbgrader": {
     "cell_type": "code",
     "checksum": "794a7a3cfc3459fb7a99360c9d844db4",
     "grade": true,
     "grade_id": "cell-80889aa40f9d1d26",
     "locked": true,
     "points": 5,
     "schema_version": 3,
     "solution": false,
     "task": false
    }
   },
   "outputs": [
    {
     "name": "stdout",
     "output_type": "stream",
     "text": [
      "Task 1 - AG tests\n",
      "Task 1 - your answer:\n",
      "(0.6275381679111909, 0.009602406049995278)\n"
     ]
    }
   ],
   "source": [
    "print(f\"Task {task_id} - AG tests\")\n",
    "\n",
    "stu_ans = task_1a_solution()\n",
    "\n",
    "print(f\"Task {task_id} - your answer:\\n{stu_ans}\")\n",
    "\n",
    "assert isinstance(\n",
    "    stu_ans, tuple\n",
    "), f\"Task {task_id}: Your function should return a tuple.\"\n",
    "\n",
    "assert len(stu_ans) == 2, f\"Task {task_id}: Your returned tuple should contain exactly two elements.\"\n",
    "\n",
    "assert all(\n",
    "    isinstance(num, float) for num in stu_ans\n",
    "), f\"Task {task_id}: Both elements in the returned tuple should be floats.\"\n",
    "\n",
    "assert all(\n",
    "    -1.0 <= num <= 1.0 for num in stu_ans\n",
    "), f\"Task {task_id}: Assortativity coefficients should be between -1 and 1.\"\n"
   ]
  },
  {
   "cell_type": "markdown",
   "metadata": {
    "deletable": false,
    "editable": false,
    "nbgrader": {
     "cell_type": "markdown",
     "checksum": "191860fbc2d431d9545fbe91914ba2b2",
     "grade": false,
     "grade_id": "cell-c444d1cb47ae1ccd",
     "locked": true,
     "schema_version": 3,
     "solution": false,
     "task": false
    }
   },
   "source": [
    "# Deciding Real_G_football\n",
    "\n",
    "Now, given the assortativity coefficient, you should be able to deduce which network is the real one. Assign the real one to Real_G_football below."
   ]
  },
  {
   "cell_type": "code",
   "execution_count": 7,
   "metadata": {
    "deletable": false,
    "nbgrader": {
     "cell_type": "code",
     "checksum": "c58dfd1aacdcb763ca9b238c6f4c3af8",
     "grade": false,
     "grade_id": "cell-213b2c57f330a330",
     "locked": false,
     "schema_version": 3,
     "solution": true,
     "task": false
    }
   },
   "outputs": [],
   "source": [
    "# Compute assortativity coefficients\n",
    "g1_coeff = nx.attribute_assortativity_coefficient(G_football1, 'conference')\n",
    "g2_coeff = nx.attribute_assortativity_coefficient(G_football2, 'conference')\n",
    "\n",
    "# Assign the real graph based on the higher coefficient\n",
    "if g1_coeff > g2_coeff:\n",
    "    Real_G_football = G_football1\n",
    "else:\n",
    "    Real_G_football = G_football2"
   ]
  },
  {
   "cell_type": "markdown",
   "metadata": {
    "deletable": false,
    "editable": false,
    "nbgrader": {
     "cell_type": "markdown",
     "checksum": "8372d2e35cdead951bc6fd1b9df1f340",
     "grade": false,
     "grade_id": "cell-c1e5d7694e616345",
     "locked": true,
     "schema_version": 3,
     "solution": false,
     "task": false
    }
   },
   "source": [
    "# Task 1b:\n",
    "\n",
    "We want to see if football teams in our network tend to play other teams with similarity based on the number of teams they've played against in the season. Think about which assortativity coefficient would help us accomplish this, and return it in the function below as a float.\n",
    "\n"
   ]
  },
  {
   "cell_type": "code",
   "execution_count": 8,
   "metadata": {
    "deletable": false,
    "editable": false,
    "nbgrader": {
     "cell_type": "code",
     "checksum": "34751a40f5179f63ed195bf2817d14b6",
     "grade": true,
     "grade_id": "cell-3e734ebbda4dab71",
     "locked": true,
     "points": 0,
     "schema_version": 3,
     "solution": false,
     "task": false
    }
   },
   "outputs": [],
   "source": [
    "task_id = '1b'\n",
    "\n",
    "## Utility Code will go here\n"
   ]
  },
  {
   "cell_type": "code",
   "execution_count": 9,
   "metadata": {
    "deletable": false,
    "nbgrader": {
     "cell_type": "code",
     "checksum": "a75849567784d9bc6e209cb68f9fecb6",
     "grade": false,
     "grade_id": "cell-540226b9ff891972",
     "locked": false,
     "schema_version": 3,
     "solution": true,
     "task": false
    }
   },
   "outputs": [],
   "source": [
    "def task_1b_solution():\n",
    "    G_football1 = nx.read_gml('assets/football1.gml', label='id')\n",
    "\n",
    "    # Degree assortativity coefficient\n",
    "    sol = nx.degree_assortativity_coefficient(G_football1)\n",
    "\n",
    "    return sol"
   ]
  },
  {
   "cell_type": "code",
   "execution_count": 10,
   "metadata": {},
   "outputs": [
    {
     "data": {
      "text/plain": [
       "0.16244224957444287"
      ]
     },
     "execution_count": 10,
     "metadata": {},
     "output_type": "execute_result"
    }
   ],
   "source": [
    "# Use this cell to explore your solution.\n",
    "\n",
    "task_1b_solution()"
   ]
  },
  {
   "cell_type": "code",
   "execution_count": 11,
   "metadata": {
    "deletable": false,
    "editable": false,
    "nbgrader": {
     "cell_type": "code",
     "checksum": "3086389ba9518b1afc3bb38cbd8ec6dd",
     "grade": true,
     "grade_id": "cell-380b66673a808852",
     "locked": true,
     "points": 5,
     "schema_version": 3,
     "solution": false,
     "task": false
    }
   },
   "outputs": [
    {
     "name": "stdout",
     "output_type": "stream",
     "text": [
      "Task 1b - AG tests\n",
      "Task 1b - your answer:\n",
      "0.16244224957444287\n"
     ]
    }
   ],
   "source": [
    "print(f\"Task {task_id} - AG tests\")\n",
    "\n",
    "stu_ans = task_1b_solution()\n",
    "\n",
    "print(f\"Task {task_id} - your answer:\\n{stu_ans}\")\n",
    "\n",
    "assert isinstance(\n",
    "    stu_ans, float\n",
    "), f\"Task {task_id}: Your function should return a float.\"\n",
    "\n",
    "assert (\n",
    "    -1.0 <= stu_ans <= 1.0\n",
    "), f\"Task {task_id}: The degree assortativity coefficient should be between -1 and 1.\"\n"
   ]
  },
  {
   "cell_type": "markdown",
   "metadata": {
    "deletable": false,
    "editable": false,
    "nbgrader": {
     "cell_type": "markdown",
     "checksum": "52f6e567a1b3b4a14a7476ad5d0cb38a",
     "grade": false,
     "grade_id": "cell-fd975b1e69727a9f",
     "locked": true,
     "schema_version": 3,
     "solution": false,
     "task": false
    }
   },
   "source": [
    "# Task 1c: \n",
    "\n",
    "As a final task for this part, we want to know if teams tend to play against teams with similar win counts. Think about which coefficient score would help us measure this, and then return that score in the function below as a float."
   ]
  },
  {
   "cell_type": "code",
   "execution_count": 12,
   "metadata": {
    "deletable": false,
    "editable": false,
    "nbgrader": {
     "cell_type": "code",
     "checksum": "0157b86167fe141b7f6c68914f491ca6",
     "grade": true,
     "grade_id": "cell-abdd618d7301e819",
     "locked": true,
     "points": 0,
     "schema_version": 3,
     "solution": false,
     "task": false
    }
   },
   "outputs": [],
   "source": [
    "task_id = '1c'\n",
    "\n",
    "## Utility Code will go here\n",
    "\n"
   ]
  },
  {
   "cell_type": "code",
   "execution_count": 13,
   "metadata": {
    "deletable": false,
    "nbgrader": {
     "cell_type": "code",
     "checksum": "090b66252b5148314bfb7494266f0cfe",
     "grade": false,
     "grade_id": "cell-0632caf391f8d0cb",
     "locked": false,
     "schema_version": 3,
     "solution": true,
     "task": false
    }
   },
   "outputs": [],
   "source": [
    "def task_1c_solution():\n",
    "    G_football1 = nx.read_gml('assets/football1.gml', label='id')\n",
    "\n",
    "    # Assortativity based on number of wins (numeric attribute)\n",
    "    sol = nx.numeric_assortativity_coefficient(G_football1, 'wins')\n",
    "\n",
    "    return sol"
   ]
  },
  {
   "cell_type": "code",
   "execution_count": 14,
   "metadata": {},
   "outputs": [
    {
     "data": {
      "text/plain": [
       "-0.049806582644503085"
      ]
     },
     "execution_count": 14,
     "metadata": {},
     "output_type": "execute_result"
    }
   ],
   "source": [
    "# Use this cell to explore your solution.\n",
    "\n",
    "task_1c_solution()"
   ]
  },
  {
   "cell_type": "code",
   "execution_count": 15,
   "metadata": {
    "deletable": false,
    "editable": false,
    "nbgrader": {
     "cell_type": "code",
     "checksum": "a0eba236a46feb318447aad58be4099b",
     "grade": true,
     "grade_id": "cell-8c37079468128fa7",
     "locked": true,
     "points": 5,
     "schema_version": 3,
     "solution": false,
     "task": false
    }
   },
   "outputs": [
    {
     "name": "stdout",
     "output_type": "stream",
     "text": [
      "Task 1c - AG tests\n",
      "Task 1c - your answer:\n",
      "-0.049806582644503085\n"
     ]
    }
   ],
   "source": [
    "\n",
    "print(f\"Task {task_id} - AG tests\")\n",
    "\n",
    "stu_ans = task_1c_solution()\n",
    "\n",
    "print(f\"Task {task_id} - your answer:\\n{stu_ans}\")\n",
    "\n",
    "assert isinstance(\n",
    "    stu_ans, float\n",
    "), f\"Task {task_id}: Your function should return a float.\"\n",
    "\n",
    "assert (\n",
    "    -1.0 <= stu_ans <= 1.0\n",
    "), f\"Task {task_id}: The numeric assortativity coefficient should be between -1 and 1.\"\n"
   ]
  },
  {
   "cell_type": "markdown",
   "metadata": {
    "deletable": false,
    "editable": false,
    "nbgrader": {
     "cell_type": "markdown",
     "checksum": "846df84a106874b11a5ddbdc22369f82",
     "grade": false,
     "grade_id": "cell-4d88260b8c8e2b73",
     "locked": true,
     "schema_version": 3,
     "solution": false,
     "task": false
    }
   },
   "source": [
    "# Part 2: Structural holes"
   ]
  },
  {
   "cell_type": "markdown",
   "metadata": {
    "deletable": false,
    "editable": false,
    "nbgrader": {
     "cell_type": "markdown",
     "checksum": "4af2d6f2331ca77bc20739249f5aecac",
     "grade": false,
     "grade_id": "cell-4fc5fb8d7b6035f7",
     "locked": true,
     "schema_version": 3,
     "solution": false,
     "task": false
    }
   },
   "source": [
    "# Task 2a: \n",
    "\n",
    "In American football, teams usually play within their conference. However, some teams occasionally play against teams from other conferences. These teams can be viewed as brokers spanning structural holes. \n",
    "\n",
    "Your task here is to find the brokers in our network and return a dictionary containing only the brokers, where the key is a string representing the name of the college, and the value is a float representing the constraint coefficient. \n",
    "\n",
    "Note: We consider a team to be a broker if they have a constraint coefficient of less than 0.15.\n"
   ]
  },
  {
   "cell_type": "code",
   "execution_count": 16,
   "metadata": {
    "deletable": false,
    "editable": false,
    "nbgrader": {
     "cell_type": "code",
     "checksum": "cf9b8753407edcf747cabd86a781cb28",
     "grade": true,
     "grade_id": "cell-2d69cc8d3c0ea256",
     "locked": true,
     "points": 0,
     "schema_version": 3,
     "solution": false,
     "task": false
    }
   },
   "outputs": [],
   "source": [
    "task_id = '2a'\n",
    "\n",
    "## Utility Code will go here\n",
    "\n"
   ]
  },
  {
   "cell_type": "code",
   "execution_count": 17,
   "metadata": {
    "deletable": false,
    "nbgrader": {
     "cell_type": "code",
     "checksum": "48e6b2d9c6fb35894fe3701777ed9af6",
     "grade": false,
     "grade_id": "cell-3480a4c8b98fe57d",
     "locked": false,
     "schema_version": 3,
     "solution": true,
     "task": false
    }
   },
   "outputs": [],
   "source": [
    "def task_2a_solution():\n",
    "    threshold = 0.15\n",
    "    constraints = nx.constraint(Real_G_football)\n",
    "    brokers = dict()\n",
    "\n",
    "    for node, constraint_value in constraints.items():\n",
    "        if constraint_value < threshold:\n",
    "            brokers[Real_G_football.nodes[node]['label']] = constraint_value\n",
    "\n",
    "    return brokers"
   ]
  },
  {
   "cell_type": "code",
   "execution_count": 18,
   "metadata": {},
   "outputs": [
    {
     "data": {
      "text/plain": [
       "{'PennState': 0.14832231723803696,\n",
       " 'LouisianaTech': 0.1257241289154168,\n",
       " 'MiddleTennesseeState': 0.14153753443526168,\n",
       " 'NewMexicoState': 0.14415067487631977,\n",
       " 'Navy': 0.12577556177856705,\n",
       " 'NotreDame': 0.11802929748271598}"
      ]
     },
     "execution_count": 18,
     "metadata": {},
     "output_type": "execute_result"
    }
   ],
   "source": [
    "# Use this cell to explore your solution.\n",
    "\n",
    "task_2a_solution()"
   ]
  },
  {
   "cell_type": "code",
   "execution_count": 19,
   "metadata": {
    "deletable": false,
    "editable": false,
    "nbgrader": {
     "cell_type": "code",
     "checksum": "1748fe02fc6c360d35685524d6aa4aa5",
     "grade": true,
     "grade_id": "cell-15b0b20b05713154",
     "locked": true,
     "points": 5,
     "schema_version": 3,
     "solution": false,
     "task": false
    }
   },
   "outputs": [
    {
     "name": "stdout",
     "output_type": "stream",
     "text": [
      "Task 2a - AG tests\n",
      "Task 2a - your answer:\n",
      "{'PennState': 0.14832231723803696, 'LouisianaTech': 0.1257241289154168, 'MiddleTennesseeState': 0.14153753443526168, 'NewMexicoState': 0.14415067487631977, 'Navy': 0.12577556177856705, 'NotreDame': 0.11802929748271598}\n"
     ]
    }
   ],
   "source": [
    "print(f\"Task {task_id} - AG tests\")\n",
    "\n",
    "stu_ans = task_2a_solution()\n",
    "\n",
    "print(f\"Task {task_id} - your answer:\\n{stu_ans}\")\n",
    "\n",
    "assert isinstance(\n",
    "    stu_ans, dict\n",
    "), f\"Task {task_id}: Your function should return a dictionary.\"\n",
    "\n",
    "assert all(\n",
    "    isinstance(k, str) for k in stu_ans.keys()\n",
    "), f\"Task {task_id}: The dictionary keys should be strings representing node labels.\"\n",
    "\n",
    "assert all(\n",
    "    isinstance(v, float) for v in stu_ans.values()\n",
    "), f\"Task {task_id}: The dictionary values should be floats representing constraint scores.\"\n",
    "\n",
    "assert all(\n",
    "    v < 0.15 for v in stu_ans.values()\n",
    "), f\"Task {task_id}: All constraint values should be below 0.15.\"\n",
    "\n"
   ]
  },
  {
   "cell_type": "markdown",
   "metadata": {
    "deletable": false,
    "editable": false,
    "nbgrader": {
     "cell_type": "markdown",
     "checksum": "ca834188490ce4568e0a0dcd0ebc6347",
     "grade": false,
     "grade_id": "cell-04650fb8a85f742b",
     "locked": true,
     "schema_version": 3,
     "solution": false,
     "task": false
    }
   },
   "source": [
    "# Task 2b\n",
    "\n",
    "Some fans are criticizing teams who don't play out of their conference, and say that they don't play against other teams so they win more. To ascertain the validity of this statement, we would like you to compute the average win rates of the bottom 10 brokers and the top 10 brokers and return the rates in the function below as floats. Also, return the correlation coefficient between the win rates of all teams and their constraint coefficients as a float. The return format has already been defined for you below.\n",
    "\n",
    "Hints:\n",
    "\n",
    "-  `sorted_constraints_list` contains a list of tuples, where the first value is a node id, and the second is the constraint coefficient associated with that node id.\n",
    "\n",
    "- Loop through `sorted_constraints_list`'s nodes to create a list containing the win rate of each node. Since sorted_constraints_list is sorted, you'll see the nodes in order from smallest constraint coefficient to largest. \n",
    "\n",
    "- Now that you have a list containing the win rates of each node, you can take the first 10 and last 10 items in the list you made to calculate the average win rates of the top and bottom 10 brokers. \n",
    "\n",
    "- You can also use the win rate list and a list containing `sorted_constraints_list`'s values to calculate the correlation coefficient.\n",
    "\n",
    "- A lower constraint coefficient means the team is more of a broker. \n",
    "\n",
    "- For this question, win rate will equal the number of wins divided by the number of wins plus losses. "
   ]
  },
  {
   "cell_type": "code",
   "execution_count": 20,
   "metadata": {
    "deletable": false,
    "editable": false,
    "nbgrader": {
     "cell_type": "code",
     "checksum": "3b5cf836450fb5a3100c2e6a83fcacc8",
     "grade": true,
     "grade_id": "cell-01acc984dfd5f2d9",
     "locked": true,
     "points": 0,
     "schema_version": 3,
     "solution": false,
     "task": false
    }
   },
   "outputs": [],
   "source": [
    "task_id = '2b'\n",
    "\n",
    "## Utility Code will go here\n",
    "\n"
   ]
  },
  {
   "cell_type": "code",
   "execution_count": 21,
   "metadata": {
    "deletable": false,
    "nbgrader": {
     "cell_type": "code",
     "checksum": "f56bbcc751d8c5d895c35f8c1dc8e100",
     "grade": false,
     "grade_id": "cell-efd2ef74052437c3",
     "locked": false,
     "schema_version": 3,
     "solution": true,
     "task": false
    }
   },
   "outputs": [],
   "source": [
    "def task_2b_solution():\n",
    "    constraints = nx.constraint(Real_G_football)\n",
    "    sorted_constraints_list = sorted(constraints.items(), key=lambda item: item[1])\n",
    "\n",
    "    win_rates = []\n",
    "    constraint_values = []\n",
    "\n",
    "    for node_id, constraint in sorted_constraints_list:\n",
    "        node_data = Real_G_football.nodes[node_id]\n",
    "        wins = node_data['wins']\n",
    "        losses = node_data['losses']\n",
    "        total_games = wins + losses\n",
    "\n",
    "        if total_games > 0:\n",
    "            win_rate = wins / total_games\n",
    "        else:\n",
    "            win_rate = 0  # If no games played\n",
    "\n",
    "        win_rates.append(win_rate)\n",
    "        constraint_values.append(constraint)\n",
    "\n",
    "    # Top 10 brokers (lowest constraints)\n",
    "    top_10_broker_avg_wr = np.mean(win_rates[:10])\n",
    "\n",
    "    # Bottom 10 brokers (highest constraints)\n",
    "    bottom_10_broker_avg_wr = np.mean(win_rates[-10:])\n",
    "\n",
    "    # Correlation coefficient\n",
    "    correlation_coefficient = np.corrcoef(win_rates, constraint_values)[0, 1]\n",
    "\n",
    "    return top_10_broker_avg_wr, bottom_10_broker_avg_wr, correlation_coefficient"
   ]
  },
  {
   "cell_type": "code",
   "execution_count": 22,
   "metadata": {},
   "outputs": [
    {
     "data": {
      "text/plain": [
       "(0.4531052281052281, 0.5325757575757575, 0.0901664589975476)"
      ]
     },
     "execution_count": 22,
     "metadata": {},
     "output_type": "execute_result"
    }
   ],
   "source": [
    "# Use this cell to explore your solution.\n",
    "\n",
    "task_2b_solution()"
   ]
  },
  {
   "cell_type": "code",
   "execution_count": 23,
   "metadata": {
    "deletable": false,
    "editable": false,
    "nbgrader": {
     "cell_type": "code",
     "checksum": "646c90ac8229b44618f562598c0309c4",
     "grade": true,
     "grade_id": "cell-8ea2af1a86f9ddab",
     "locked": true,
     "points": 5,
     "schema_version": 3,
     "solution": false,
     "task": false
    }
   },
   "outputs": [
    {
     "name": "stdout",
     "output_type": "stream",
     "text": [
      "Task 2b - AG tests\n",
      "Task 2b - your answer:\n",
      "(0.4531052281052281, 0.5325757575757575, 0.0901664589975476)\n"
     ]
    }
   ],
   "source": [
    "print(f\"Task {task_id} - AG tests\")\n",
    "\n",
    "stu_ans = task_2b_solution()\n",
    "\n",
    "print(f\"Task {task_id} - your answer:\\n{stu_ans}\")\n",
    "\n",
    "assert isinstance(stu_ans, tuple), f\"Task {task_id}: Your function should return a tuple.\"\n",
    "assert len(stu_ans) == 3, f\"Task {task_id}: Your returned tuple should have three elements.\"\n",
    "\n",
    "top_10_broker_avg_wr, bottom_10_broker_avg_wr, correlation_coefficient = stu_ans\n",
    "\n",
    "assert isinstance(\n",
    "    top_10_broker_avg_wr, float\n",
    "), f\"Task {task_id}: The first element of the returned tuple should be a float.\"\n",
    "assert isinstance(\n",
    "    bottom_10_broker_avg_wr, float\n",
    "), f\"Task {task_id}: The second element of the returned tuple should be a float.\"\n",
    "\n",
    "assert isinstance(\n",
    "    correlation_coefficient, float\n",
    "), f\"Task {task_id}: The third element of the returned tuple should be a float.\"\n",
    "assert -1 <= correlation_coefficient <= 1, f\"Task {task_id}: The correlation coefficient should be between -1 and 1.\"\n"
   ]
  },
  {
   "cell_type": "markdown",
   "metadata": {
    "deletable": false,
    "editable": false,
    "nbgrader": {
     "cell_type": "markdown",
     "checksum": "6b173565ba113d9c809b2365d0832e15",
     "grade": false,
     "grade_id": "cell-161f54778a81599c",
     "locked": true,
     "schema_version": 3,
     "solution": false,
     "task": false
    }
   },
   "source": [
    "# Task 2b Supplemental Question:\n",
    "\n",
    "Do the top brokers tend to win more? Return the answer as true or false boolean value in the function below."
   ]
  },
  {
   "cell_type": "code",
   "execution_count": 24,
   "metadata": {
    "deletable": false,
    "nbgrader": {
     "cell_type": "code",
     "checksum": "5e7d4e38a2c5501a1cb3c6a45d796cea",
     "grade": false,
     "grade_id": "cell-8f10d422014b6eb8",
     "locked": false,
     "schema_version": 3,
     "solution": true,
     "task": false
    }
   },
   "outputs": [],
   "source": [
    "task_id = '2bs'\n",
    "\n",
    "def task_2b_supplemental_solution():\n",
    "    top_avg, bottom_avg, _ = task_2b_solution()\n",
    "    \n",
    "    sol = bool(top_avg > bottom_avg)\n",
    "\n",
    "    return sol"
   ]
  },
  {
   "cell_type": "code",
   "execution_count": 25,
   "metadata": {},
   "outputs": [
    {
     "data": {
      "text/plain": [
       "False"
      ]
     },
     "execution_count": 25,
     "metadata": {},
     "output_type": "execute_result"
    }
   ],
   "source": [
    "task_2b_supplemental_solution()"
   ]
  },
  {
   "cell_type": "code",
   "execution_count": 26,
   "metadata": {
    "deletable": false,
    "editable": false,
    "nbgrader": {
     "cell_type": "code",
     "checksum": "5e5fc27a0a235a21108da0306e17e086",
     "grade": true,
     "grade_id": "cell-b6fd1d5ffee3fd3e",
     "locked": true,
     "points": 1,
     "schema_version": 3,
     "solution": false,
     "task": false
    }
   },
   "outputs": [
    {
     "name": "stdout",
     "output_type": "stream",
     "text": [
      "Task 2bs - AG tests\n",
      "Task 2bs - your answer:\n",
      "False\n"
     ]
    }
   ],
   "source": [
    "print(f\"Task {task_id} - AG tests\")\n",
    "\n",
    "stu_ans = task_2b_supplemental_solution()\n",
    "\n",
    "print(f\"Task {task_id} - your answer:\\n{stu_ans}\")\n",
    "\n",
    "assert isinstance(\n",
    "    stu_ans, bool\n",
    "), f\"Task {task_id}: Your function should return a bool.\"\n"
   ]
  },
  {
   "cell_type": "markdown",
   "metadata": {
    "deletable": false,
    "editable": false,
    "nbgrader": {
     "cell_type": "markdown",
     "checksum": "dd8dce1235f1c82493103daef092ae55",
     "grade": false,
     "grade_id": "cell-6db60ae6fbc42e32",
     "locked": true,
     "schema_version": 3,
     "solution": false,
     "task": false
    }
   },
   "source": [
    "# Task 2c:\n",
    "\n",
    "\n",
    "Due to budget cuts, the NCAA must remove three teams from the league. To minimize the impact on the diversity of matchups, the organization aims to cut the teams that contribute the least unique connectivity within the game network.\n",
    "\n",
    "In network terms, a team’s effective size reflects the extent to which its opponents provide unique rather than redundant connections. A team with a low effective size primarily competes against teams that already play against each other frequently, meaning its removal would have minimal impact on the variety of matchups in the league.\n",
    "\n",
    "To determine which teams should be removed, identify the three teams with the lowest effective size scores, as these teams contribute the least to the diversity of season matchups. Return the names of these teams as a tuple of strings, ordered from the lowest to highest effective size value.\n",
    "\n"
   ]
  },
  {
   "cell_type": "code",
   "execution_count": 27,
   "metadata": {
    "deletable": false,
    "editable": false,
    "nbgrader": {
     "cell_type": "code",
     "checksum": "095ecde707a616b8e472e4f5eb87f5d3",
     "grade": true,
     "grade_id": "cell-dc5ab54a8d366237",
     "locked": true,
     "points": 0,
     "schema_version": 3,
     "solution": false,
     "task": false
    }
   },
   "outputs": [],
   "source": [
    "task_id = '2c'\n",
    "\n",
    "## Utility Code will go here\n",
    "\n"
   ]
  },
  {
   "cell_type": "code",
   "execution_count": 28,
   "metadata": {
    "deletable": false,
    "nbgrader": {
     "cell_type": "code",
     "checksum": "e640123e2dde836001d8237bd7d273f7",
     "grade": false,
     "grade_id": "cell-ccb16180bd535d3e",
     "locked": false,
     "schema_version": 3,
     "solution": true,
     "task": false
    }
   },
   "outputs": [],
   "source": [
    "def task_2c_solution():\n",
    "    effective_sizes = nx.effective_size(Real_G_football)\n",
    "\n",
    "    # Sort by effective size (ascending)\n",
    "    sorted_effective = sorted(effective_sizes.items(), key=lambda item: item[1])\n",
    "\n",
    "    # Get the lowest 3 nodes\n",
    "    lowest_three_nodes = sorted_effective[:3]\n",
    "\n",
    "    # Map to college names\n",
    "    sol = [Real_G_football.nodes[node_id]['label'] for node_id, _ in lowest_three_nodes]\n",
    "\n",
    "    return sol"
   ]
  },
  {
   "cell_type": "code",
   "execution_count": 29,
   "metadata": {},
   "outputs": [
    {
     "data": {
      "text/plain": [
       "['WakeForest', 'Virginia', 'Clemson']"
      ]
     },
     "execution_count": 29,
     "metadata": {},
     "output_type": "execute_result"
    }
   ],
   "source": [
    "task_2c_solution()"
   ]
  },
  {
   "cell_type": "code",
   "execution_count": 30,
   "metadata": {
    "deletable": false,
    "editable": false,
    "nbgrader": {
     "cell_type": "code",
     "checksum": "0bfb3e22368c60933646dfc5bdcd93b0",
     "grade": true,
     "grade_id": "cell-d1f68602b500ed23",
     "locked": true,
     "points": 5,
     "schema_version": 3,
     "solution": false,
     "task": false
    }
   },
   "outputs": [
    {
     "name": "stdout",
     "output_type": "stream",
     "text": [
      "Task 2c - AG tests\n",
      "Task 2c - your answer:\n",
      "['WakeForest', 'Virginia', 'Clemson']\n"
     ]
    }
   ],
   "source": [
    "print(f\"Task {task_id} - AG tests\")\n",
    "\n",
    "stu_ans = task_2c_solution()\n",
    "\n",
    "print(f\"Task {task_id} - your answer:\\n{stu_ans}\")\n",
    "\n",
    "assert isinstance(\n",
    "    stu_ans, list\n",
    "), f\"Task {task_id}: Your function should return a list.\"\n",
    "\n",
    "assert len(stu_ans) == 3, f\"Task {task_id}: Your list should contain exactly 3 elements.\"\n",
    "\n",
    "assert all(\n",
    "    isinstance(team, str) for team in stu_ans\n",
    "), f\"Task {task_id}: All elements in the list should be strings (team labels).\"\n",
    "\n"
   ]
  },
  {
   "cell_type": "markdown",
   "metadata": {
    "deletable": false,
    "editable": false,
    "nbgrader": {
     "cell_type": "markdown",
     "checksum": "02c6c1618f42d779c4e648836a07a8ad",
     "grade": false,
     "grade_id": "cell-bf7c37ca2aee4073",
     "locked": true,
     "schema_version": 3,
     "solution": false,
     "task": false
    }
   },
   "source": [
    "# Part 3: Dolphins\n",
    "\n",
    "# Task 3a:\n",
    "\n",
    "Dolphins are social creatures. We have a network of friendships stored in the file dolphins.gml. However, due to experimentation by the evil Dr. Romero, the dolphins become very judgemental and start kicking dolphins who don't have a certain number of friends from their pods. On day 1, the dolphins kick out every dolphin that doesn't have at least 1 friend. On day two, they kick out every dolphin who doesn't have at least two friends.  This goes on until all dolphins will be kicked out if they increase the required number of friends to stay in the pod. \n",
    "\n",
    "Note: If a dolphin doesn't have enough friends after its friends are kicked out on a day, that dolphin is also kicked out on that same day. For example, let's say on day two, dolphin A is friends with only dolphins B and C, and dolphins B and C are friends with only dolphin A. When the dolphins are kicked out, dolphins B and C will be kicked out because they only have one friend, dolphin A. But then, dolphin A will have no friends left, so dolphin A will be kicked from the group as well. \n",
    "\n",
    "You need to make and return a list of lists, where the first list contains the names of the dolphins that survive the first day, and the second list contains the names of those who survive the second day, and so on. You should only keep adding lists while there are still survivors (you should not have an empty list at the end of the list)\n",
    "\n",
    "You should also return a list containing the percentage of dolphins that have survived each day while there are still survivors (you should not end the list with 0.0)\n",
    "\n",
    "Hint: Which algorithm from this module's lectures would help you accomplish this easily?\n"
   ]
  },
  {
   "cell_type": "code",
   "execution_count": 31,
   "metadata": {
    "deletable": false,
    "editable": false,
    "nbgrader": {
     "cell_type": "code",
     "checksum": "9e5f51abc9fa9b508b5d277d6501045b",
     "grade": false,
     "grade_id": "cell-5e4c2343fc3154ad",
     "locked": true,
     "schema_version": 3,
     "solution": false,
     "task": false
    }
   },
   "outputs": [],
   "source": [
    "G_dolphins = nx.read_gml(\"assets/dolphins.gml\")"
   ]
  },
  {
   "cell_type": "code",
   "execution_count": 32,
   "metadata": {
    "deletable": false,
    "editable": false,
    "nbgrader": {
     "cell_type": "code",
     "checksum": "353625b55bbee23c1c08862abb152643",
     "grade": true,
     "grade_id": "cell-c96859cd328469fa",
     "locked": true,
     "points": 0,
     "schema_version": 3,
     "solution": false,
     "task": false
    }
   },
   "outputs": [],
   "source": [
    "task_id = '3a'\n",
    "\n",
    "## Utility Code will go here\n"
   ]
  },
  {
   "cell_type": "code",
   "execution_count": 33,
   "metadata": {
    "deletable": false,
    "nbgrader": {
     "cell_type": "code",
     "checksum": "c8f7e67081b18b0698aa6a491f441387",
     "grade": false,
     "grade_id": "cell-cd7b1bf3d9f7d833",
     "locked": false,
     "schema_version": 3,
     "solution": true,
     "task": false
    }
   },
   "outputs": [],
   "source": [
    "def task_3a_solution():\n",
    "    G_dolphins = nx.read_gml(\"assets/dolphins.gml\")\n",
    "    \n",
    "    total_dolphins = len(G_dolphins.nodes)\n",
    "    k = 1  # Starting with minimum degree of 1\n",
    "    daily_survival_list = []\n",
    "    daily_survival_percentage = []\n",
    "\n",
    "    while True:\n",
    "        G_k_core = nx.k_core(G_dolphins, k=k)\n",
    "        survivors = list(G_k_core.nodes)\n",
    "\n",
    "        if not survivors:\n",
    "            break  # Stop if there are no more survivors\n",
    "\n",
    "        daily_survival_list.append(survivors)\n",
    "        survival_percent = len(survivors) / total_dolphins\n",
    "        daily_survival_percentage.append(survival_percent)\n",
    "\n",
    "        k += 1  # Increase threshold for the next day\n",
    "\n",
    "    return daily_survival_list, daily_survival_percentage"
   ]
  },
  {
   "cell_type": "code",
   "execution_count": 34,
   "metadata": {},
   "outputs": [
    {
     "data": {
      "text/plain": [
       "([['Beak',\n",
       "   'Beescratch',\n",
       "   'Bumper',\n",
       "   'CCL',\n",
       "   'Cross',\n",
       "   'DN16',\n",
       "   'DN21',\n",
       "   'DN63',\n",
       "   'Double',\n",
       "   'Feather',\n",
       "   'Fish',\n",
       "   'Five',\n",
       "   'Fork',\n",
       "   'Gallatin',\n",
       "   'Grin',\n",
       "   'Haecksel',\n",
       "   'Hook',\n",
       "   'Jet',\n",
       "   'Jonah',\n",
       "   'Knit',\n",
       "   'Kringel',\n",
       "   'MN105',\n",
       "   'MN23',\n",
       "   'MN60',\n",
       "   'MN83',\n",
       "   'Mus',\n",
       "   'Notch',\n",
       "   'Number1',\n",
       "   'Oscar',\n",
       "   'Patchback',\n",
       "   'PL',\n",
       "   'Quasi',\n",
       "   'Ripplefluke',\n",
       "   'Scabs',\n",
       "   'Shmuddel',\n",
       "   'SMN5',\n",
       "   'SN100',\n",
       "   'SN4',\n",
       "   'SN63',\n",
       "   'SN89',\n",
       "   'SN9',\n",
       "   'SN90',\n",
       "   'SN96',\n",
       "   'Stripes',\n",
       "   'Thumper',\n",
       "   'Topless',\n",
       "   'TR120',\n",
       "   'TR77',\n",
       "   'TR82',\n",
       "   'TR88',\n",
       "   'TR99',\n",
       "   'Trigger',\n",
       "   'TSN103',\n",
       "   'TSN83',\n",
       "   'Upbang',\n",
       "   'Vau',\n",
       "   'Wave',\n",
       "   'Web',\n",
       "   'Whitetip',\n",
       "   'Zap',\n",
       "   'Zig',\n",
       "   'Zipfel'],\n",
       "  ['Beak',\n",
       "   'Beescratch',\n",
       "   'Bumper',\n",
       "   'CCL',\n",
       "   'DN16',\n",
       "   'DN21',\n",
       "   'DN63',\n",
       "   'Double',\n",
       "   'Feather',\n",
       "   'Fish',\n",
       "   'Gallatin',\n",
       "   'Grin',\n",
       "   'Haecksel',\n",
       "   'Hook',\n",
       "   'Jet',\n",
       "   'Jonah',\n",
       "   'Knit',\n",
       "   'Kringel',\n",
       "   'MN105',\n",
       "   'MN60',\n",
       "   'MN83',\n",
       "   'Mus',\n",
       "   'Notch',\n",
       "   'Number1',\n",
       "   'Oscar',\n",
       "   'Patchback',\n",
       "   'PL',\n",
       "   'Ripplefluke',\n",
       "   'Scabs',\n",
       "   'Shmuddel',\n",
       "   'SN100',\n",
       "   'SN4',\n",
       "   'SN63',\n",
       "   'SN89',\n",
       "   'SN9',\n",
       "   'SN90',\n",
       "   'SN96',\n",
       "   'Stripes',\n",
       "   'Thumper',\n",
       "   'Topless',\n",
       "   'TR120',\n",
       "   'TR77',\n",
       "   'TR88',\n",
       "   'TR99',\n",
       "   'Trigger',\n",
       "   'TSN103',\n",
       "   'TSN83',\n",
       "   'Upbang',\n",
       "   'Vau',\n",
       "   'Wave',\n",
       "   'Web',\n",
       "   'Zap',\n",
       "   'Zipfel'],\n",
       "  ['Beak',\n",
       "   'Beescratch',\n",
       "   'Bumper',\n",
       "   'CCL',\n",
       "   'DN16',\n",
       "   'DN21',\n",
       "   'DN63',\n",
       "   'Double',\n",
       "   'Feather',\n",
       "   'Fish',\n",
       "   'Gallatin',\n",
       "   'Grin',\n",
       "   'Haecksel',\n",
       "   'Hook',\n",
       "   'Jet',\n",
       "   'Jonah',\n",
       "   'Knit',\n",
       "   'Kringel',\n",
       "   'MN105',\n",
       "   'MN60',\n",
       "   'MN83',\n",
       "   'Mus',\n",
       "   'Notch',\n",
       "   'Number1',\n",
       "   'Oscar',\n",
       "   'Patchback',\n",
       "   'PL',\n",
       "   'Scabs',\n",
       "   'Shmuddel',\n",
       "   'SN100',\n",
       "   'SN4',\n",
       "   'SN63',\n",
       "   'SN9',\n",
       "   'SN90',\n",
       "   'SN96',\n",
       "   'Stripes',\n",
       "   'Thumper',\n",
       "   'Topless',\n",
       "   'TR77',\n",
       "   'TR99',\n",
       "   'Trigger',\n",
       "   'TSN103',\n",
       "   'Upbang',\n",
       "   'Web',\n",
       "   'Zap'],\n",
       "  ['Beak',\n",
       "   'Beescratch',\n",
       "   'DN21',\n",
       "   'DN63',\n",
       "   'Double',\n",
       "   'Feather',\n",
       "   'Fish',\n",
       "   'Gallatin',\n",
       "   'Grin',\n",
       "   'Haecksel',\n",
       "   'Hook',\n",
       "   'Jet',\n",
       "   'Jonah',\n",
       "   'Knit',\n",
       "   'Kringel',\n",
       "   'MN105',\n",
       "   'MN83',\n",
       "   'Oscar',\n",
       "   'Patchback',\n",
       "   'PL',\n",
       "   'Scabs',\n",
       "   'SN100',\n",
       "   'SN4',\n",
       "   'SN63',\n",
       "   'SN9',\n",
       "   'SN90',\n",
       "   'SN96',\n",
       "   'Stripes',\n",
       "   'Topless',\n",
       "   'TR77',\n",
       "   'TR99',\n",
       "   'Trigger',\n",
       "   'TSN103',\n",
       "   'Upbang',\n",
       "   'Web',\n",
       "   'Zap']],\n",
       " [1.0, 0.8548387096774194, 0.7258064516129032, 0.5806451612903226])"
      ]
     },
     "execution_count": 34,
     "metadata": {},
     "output_type": "execute_result"
    }
   ],
   "source": [
    "task_3a_solution()"
   ]
  },
  {
   "cell_type": "code",
   "execution_count": 35,
   "metadata": {
    "deletable": false,
    "editable": false,
    "nbgrader": {
     "cell_type": "code",
     "checksum": "f3af13e291c52e28b2d784c9b60139d2",
     "grade": true,
     "grade_id": "cell-1fd01c8f3ce716f2",
     "locked": true,
     "points": 5,
     "schema_version": 3,
     "solution": false,
     "task": false
    }
   },
   "outputs": [
    {
     "name": "stdout",
     "output_type": "stream",
     "text": [
      "Task 3a - AG tests\n",
      "Task 3a - your answer:\n",
      "([['Beak', 'Beescratch', 'Bumper', 'CCL', 'Cross', 'DN16', 'DN21', 'DN63', 'Double', 'Feather', 'Fish', 'Five', 'Fork', 'Gallatin', 'Grin', 'Haecksel', 'Hook', 'Jet', 'Jonah', 'Knit', 'Kringel', 'MN105', 'MN23', 'MN60', 'MN83', 'Mus', 'Notch', 'Number1', 'Oscar', 'Patchback', 'PL', 'Quasi', 'Ripplefluke', 'Scabs', 'Shmuddel', 'SMN5', 'SN100', 'SN4', 'SN63', 'SN89', 'SN9', 'SN90', 'SN96', 'Stripes', 'Thumper', 'Topless', 'TR120', 'TR77', 'TR82', 'TR88', 'TR99', 'Trigger', 'TSN103', 'TSN83', 'Upbang', 'Vau', 'Wave', 'Web', 'Whitetip', 'Zap', 'Zig', 'Zipfel'], ['Beak', 'Beescratch', 'Bumper', 'CCL', 'DN16', 'DN21', 'DN63', 'Double', 'Feather', 'Fish', 'Gallatin', 'Grin', 'Haecksel', 'Hook', 'Jet', 'Jonah', 'Knit', 'Kringel', 'MN105', 'MN60', 'MN83', 'Mus', 'Notch', 'Number1', 'Oscar', 'Patchback', 'PL', 'Ripplefluke', 'Scabs', 'Shmuddel', 'SN100', 'SN4', 'SN63', 'SN89', 'SN9', 'SN90', 'SN96', 'Stripes', 'Thumper', 'Topless', 'TR120', 'TR77', 'TR88', 'TR99', 'Trigger', 'TSN103', 'TSN83', 'Upbang', 'Vau', 'Wave', 'Web', 'Zap', 'Zipfel'], ['Beak', 'Beescratch', 'Bumper', 'CCL', 'DN16', 'DN21', 'DN63', 'Double', 'Feather', 'Fish', 'Gallatin', 'Grin', 'Haecksel', 'Hook', 'Jet', 'Jonah', 'Knit', 'Kringel', 'MN105', 'MN60', 'MN83', 'Mus', 'Notch', 'Number1', 'Oscar', 'Patchback', 'PL', 'Scabs', 'Shmuddel', 'SN100', 'SN4', 'SN63', 'SN9', 'SN90', 'SN96', 'Stripes', 'Thumper', 'Topless', 'TR77', 'TR99', 'Trigger', 'TSN103', 'Upbang', 'Web', 'Zap'], ['Beak', 'Beescratch', 'DN21', 'DN63', 'Double', 'Feather', 'Fish', 'Gallatin', 'Grin', 'Haecksel', 'Hook', 'Jet', 'Jonah', 'Knit', 'Kringel', 'MN105', 'MN83', 'Oscar', 'Patchback', 'PL', 'Scabs', 'SN100', 'SN4', 'SN63', 'SN9', 'SN90', 'SN96', 'Stripes', 'Topless', 'TR77', 'TR99', 'Trigger', 'TSN103', 'Upbang', 'Web', 'Zap']], [1.0, 0.8548387096774194, 0.7258064516129032, 0.5806451612903226])\n"
     ]
    }
   ],
   "source": [
    "print(f\"Task {task_id} - AG tests\")\n",
    "\n",
    "stu_ans = task_3a_solution()\n",
    "\n",
    "print(f\"Task {task_id} - your answer:\\n{stu_ans}\")\n",
    "\n",
    "assert isinstance(stu_ans, tuple), f\"Task {task_id}: Your function should return a tuple.\"\n",
    "assert len(stu_ans) == 2, f\"Task {task_id}: Your returned tuple should have two elements.\"\n",
    "\n",
    "daily_survival_list, daily_survival_percentage = stu_ans\n",
    "\n",
    "assert isinstance(\n",
    "    daily_survival_list, list\n",
    "), f\"Task {task_id}: The first element of the returned tuple should be a list.\"\n",
    "assert all(\n",
    "    isinstance(day_list, list) for day_list in daily_survival_list\n",
    "), f\"Task {task_id}: Each element in `daily_survival_list` should be a list.\"\n",
    "\n",
    "assert isinstance(\n",
    "    daily_survival_percentage, list\n",
    "), f\"Task {task_id}: The second element of the returned tuple should be a list.\"\n",
    "assert all(\n",
    "    isinstance(p, float) for p in daily_survival_percentage\n",
    "), f\"Task {task_id}: Each element in `daily_survival_percentage` should be a float.\"\n",
    "\n",
    "assert all(\n",
    "    0 <= p <= 1 for p in daily_survival_percentage\n",
    "), f\"Task {task_id}: Values in `daily_survival_percentage` should be between 0 and 1.\"\n",
    "\n"
   ]
  },
  {
   "cell_type": "markdown",
   "metadata": {
    "deletable": false,
    "editable": false,
    "nbgrader": {
     "cell_type": "markdown",
     "checksum": "1d1b721dbb5492fc598ea5bc93853907",
     "grade": false,
     "grade_id": "cell-03fcc03310b4def1",
     "locked": true,
     "schema_version": 3,
     "solution": false,
     "task": false
    }
   },
   "source": [
    "# Task 3b: \n",
    "\n",
    "In our graph, we have a 'smelliness' attribute for each dolphin represented as an integer. \n",
    "\n",
    "We'd like to conduct a study on the \"smelliness\" factor of dolphins and examine the correlation between the smelliness of dolphins and their ability to last in the community. Compute the average smelliness of dolphins that have survived each day, which will be returned in a list, where the first value is the average smelliness of all dolphins on day 0, the second is the average smelliness of all dolphins on day 1, and so on. Also, compute the correlation coefficient between a dolphin's number of days survived and the smelliness factor and return this as a float.\n",
    "\n"
   ]
  },
  {
   "cell_type": "code",
   "execution_count": 36,
   "metadata": {
    "deletable": false,
    "editable": false,
    "nbgrader": {
     "cell_type": "code",
     "checksum": "9d1e1bfff0b2799001e1ec3e03f85f88",
     "grade": true,
     "grade_id": "cell-2bb50accd9d39a12",
     "locked": true,
     "points": 0,
     "schema_version": 3,
     "solution": false,
     "task": false
    }
   },
   "outputs": [],
   "source": [
    "task_id = '3b'\n",
    "\n",
    "## Utility Code will go here\n"
   ]
  },
  {
   "cell_type": "code",
   "execution_count": 37,
   "metadata": {
    "deletable": false,
    "nbgrader": {
     "cell_type": "code",
     "checksum": "caa930dfefe64f6e226afa0f3213ab3c",
     "grade": false,
     "grade_id": "cell-62460a551d23ea2c",
     "locked": false,
     "schema_version": 3,
     "solution": true,
     "task": false
    }
   },
   "outputs": [],
   "source": [
    "def task_3b_solution():\n",
    "    G_dolphins = nx.read_gml(\"assets/dolphins.gml\")\n",
    "    daily_survivors, _ = task_3a_solution()\n",
    "\n",
    "    daily_avg_smelliness = []\n",
    "\n",
    "    # Day 0: All dolphins\n",
    "    all_smelliness = [G_dolphins.nodes[d][\"smelliness\"] for d in G_dolphins.nodes]\n",
    "    daily_avg_smelliness.append(np.mean(all_smelliness))\n",
    "\n",
    "    # Days 1+\n",
    "    for survivors in daily_survivors:\n",
    "        smelliness_today = [G_dolphins.nodes[d][\"smelliness\"] for d in survivors]\n",
    "        avg_smell = np.mean(smelliness_today)\n",
    "        daily_avg_smelliness.append(avg_smell)\n",
    "\n",
    "    # Determine survival days per dolphin\n",
    "    dolphin_survival_days = {d: 0 for d in G_dolphins.nodes}\n",
    "    for day, survivors in enumerate(daily_survivors, start=1):\n",
    "        for d in survivors:\n",
    "            dolphin_survival_days[d] = day  # latest day survived\n",
    "\n",
    "    survival_days = []\n",
    "    smelliness_values = []\n",
    "\n",
    "    for d in G_dolphins.nodes:\n",
    "        survival_days.append(dolphin_survival_days[d])\n",
    "        smelliness_values.append(G_dolphins.nodes[d][\"smelliness\"])\n",
    "\n",
    "    correlation_coefficient = np.corrcoef(survival_days, smelliness_values)[0, 1]\n",
    "\n",
    "    return daily_avg_smelliness, correlation_coefficient\n"
   ]
  },
  {
   "cell_type": "code",
   "execution_count": 38,
   "metadata": {},
   "outputs": [
    {
     "data": {
      "text/plain": [
       "([31.612903225806452,\n",
       "  31.612903225806452,\n",
       "  36.15094339622642,\n",
       "  40.15555555555556,\n",
       "  44.94444444444444],\n",
       " 0.8640632859507918)"
      ]
     },
     "execution_count": 38,
     "metadata": {},
     "output_type": "execute_result"
    }
   ],
   "source": [
    "# Use this cell to explore your solution.\n",
    "\n",
    "task_3b_solution()"
   ]
  },
  {
   "cell_type": "code",
   "execution_count": 39,
   "metadata": {
    "deletable": false,
    "editable": false,
    "nbgrader": {
     "cell_type": "code",
     "checksum": "e38aefde5a2b50b87280b16d3e10d57d",
     "grade": true,
     "grade_id": "cell-0d46ec74b7b4f064",
     "locked": true,
     "points": 5,
     "schema_version": 3,
     "solution": false,
     "task": false
    }
   },
   "outputs": [
    {
     "name": "stdout",
     "output_type": "stream",
     "text": [
      "Task 3b - AG tests\n",
      "Task 3b - your answer:\n",
      "([31.612903225806452, 31.612903225806452, 36.15094339622642, 40.15555555555556, 44.94444444444444], 0.8640632859507918)\n"
     ]
    }
   ],
   "source": [
    "print(f\"Task {task_id} - AG tests\")\n",
    "\n",
    "stu_ans = task_3b_solution()\n",
    "\n",
    "print(f\"Task {task_id} - your answer:\\n{stu_ans}\")\n",
    "\n",
    "assert isinstance(stu_ans, tuple), f\"Task {task_id}: Your function should return a tuple.\"\n",
    "assert len(stu_ans) == 2, f\"Task {task_id}: Your returned tuple should have two elements.\"\n",
    "\n",
    "daily_avg_smelliness, correlation_coefficient = stu_ans\n",
    "\n",
    "assert isinstance(\n",
    "    daily_avg_smelliness, list\n",
    "), f\"Task {task_id}: The first element of the returned tuple should be a list.\"\n",
    "assert all(\n",
    "    isinstance(smell, float) for smell in daily_avg_smelliness\n",
    "), f\"Task {task_id}: Each element in `daily_avg_smelliness` should be a float.\"\n",
    "\n",
    "assert isinstance(\n",
    "    correlation_coefficient, float\n",
    "), f\"Task {task_id}: The second element of the returned tuple should be a float.\"\n",
    "\n",
    "assert -1 <= correlation_coefficient <= 1, f\"Task {task_id}: The correlation coefficient should be between -1 and 1.\"\n",
    "\n"
   ]
  },
  {
   "cell_type": "code",
   "execution_count": null,
   "metadata": {},
   "outputs": [],
   "source": []
  }
 ],
 "metadata": {
  "kernelspec": {
   "display_name": "Python 3.10 (ipykernel)",
   "language": "python",
   "name": "python3"
  },
  "language_info": {
   "codemirror_mode": {
    "name": "ipython",
    "version": 3
   },
   "file_extension": ".py",
   "mimetype": "text/x-python",
   "name": "python",
   "nbconvert_exporter": "python",
   "pygments_lexer": "ipython3",
   "version": "3.10.11"
  }
 },
 "nbformat": 4,
 "nbformat_minor": 4
}

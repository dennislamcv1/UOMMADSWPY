{
 "cells": [
  {
   "cell_type": "markdown",
   "metadata": {},
   "source": [
    "# Module 1 NetworkX Tutorial"
   ]
  },
  {
   "cell_type": "markdown",
   "metadata": {},
   "source": [
    "In this tutorial, we will show examples of several tools you may find helpful for this module's programming assignment.\n",
    "\n",
    "In this module, you will be working with an undirected graph representing the American football season of the year 2000, where nodes are teams and we form an undirected edge between teams that have played against each other at least once during the season. Below is an example of a node in the dataset:\n",
    "\n",
    "```\n",
    "node [\n",
    "    id 1\n",
    "    label \"FloridaState\"\n",
    "    wins 11\n",
    "    losses 2\n",
    "    conference 0\n",
    "]\n",
    "```\n",
    "\n",
    "As you can see, each node has an ID, a 'label' variable representing the name of the college it represents, the number of wins and losses it had in the season, and its 'conference.' In American Football, conferences are groups of teams that are in a league together, and play against each other to win the league title. It is not uncommon however, for teams to play teams that are outside of their league. \n",
    "\n",
    "Below, we'll import some necessary libraries and read the graph."
   ]
  },
  {
   "cell_type": "code",
   "execution_count": 1,
   "metadata": {},
   "outputs": [],
   "source": [
    "import networkx as nx\n",
    "import matplotlib.pyplot as plt\n",
    "import numpy as np\n",
    "from sklearn.metrics import adjusted_rand_score\n",
    "\n",
    "\n",
    "G_football = nx.read_gml('assets/football1.gml', label='id')"
   ]
  },
  {
   "cell_type": "markdown",
   "metadata": {},
   "source": [
    "# Accessing a node in the graph\n",
    "\n",
    "In this module's assignment, you may use functions that give you a set of node ids. You will need to access these nodes in the graph by their `id`, and obtain features such as their `label` or `win` count. \n",
    "\n",
    "Let's say we have node id 1, and we want to access its 'label' field to get the name of the node's college.\n",
    "\n",
    "We first access all the nodes in G_football with `.node` and then subscript into it with [1], to obtain a dictionary containing node 1's information. We can provide a key to this with `[]` as well. Below, we access the 'label' field of the node."
   ]
  },
  {
   "cell_type": "code",
   "execution_count": 2,
   "metadata": {},
   "outputs": [
    {
     "data": {
      "text/plain": [
       "'FloridaState'"
      ]
     },
     "execution_count": 2,
     "metadata": {},
     "output_type": "execute_result"
    }
   ],
   "source": [
    "G_football.nodes[1]['label']"
   ]
  },
  {
   "cell_type": "markdown",
   "metadata": {},
   "source": [
    "# Computing Correlation Coefficients\n",
    "\n",
    "In this module's programming assignment, you may need to measure the correlation between the values of two equally sized lists. Below, we provide an example of how this is done. "
   ]
  },
  {
   "cell_type": "code",
   "execution_count": 3,
   "metadata": {},
   "outputs": [
    {
     "name": "stdout",
     "output_type": "stream",
     "text": [
      "Correlation Coefficient: 0.9999999999999999\n"
     ]
    }
   ],
   "source": [
    "X = [1, 2, 3, 4, 5]\n",
    "y = [2, 4, 6, 8, 10]\n",
    "\n",
    "correlation_matrix = np.corrcoef(X, y)\n",
    "correlation_coefficient = correlation_matrix[0, 1]\n",
    "print(f'Correlation Coefficient: {correlation_coefficient}')"
   ]
  },
  {
   "cell_type": "markdown",
   "metadata": {},
   "source": [
    "# Computing Assortativity Coefficients\n",
    "\n",
    "In this module, you learned about attribute, degree, and numeric assortativity measurements and what they represent. In this module, you will need to compute these measurements. Below, we provide examples of how you could obtain these metrics.\n",
    "\n",
    "### Attribute Assortativity\n",
    "\n",
    "Below is a line which gives the attribute assortativity coefficient, giving us a coefficient representing the tendency of nodes with the same attributes to form edges between one another. In this case, since we select \"conference,\" we obtain a measure representing the tendency of universities in the same conference to play one another."
   ]
  },
  {
   "cell_type": "code",
   "execution_count": 4,
   "metadata": {},
   "outputs": [
    {
     "data": {
      "text/plain": [
       "0.6275381679111909"
      ]
     },
     "execution_count": 4,
     "metadata": {},
     "output_type": "execute_result"
    }
   ],
   "source": [
    "nx.attribute_assortativity_coefficient(G_football, attribute=\"conference\")"
   ]
  },
  {
   "cell_type": "markdown",
   "metadata": {},
   "source": [
    "### Numeric Assortativity\n",
    "\n",
    "\n",
    "Below is a line which gives the numeric assortativity coefficient, giving us a coefficient representing the tendency of nodes with similar numeric attributes to form edges with each other. In the context of our football dataset, as we've selected the 'wins' attribute, the coefficient tells us the tendency of teams with similar win counts to play against other."
   ]
  },
  {
   "cell_type": "code",
   "execution_count": 5,
   "metadata": {},
   "outputs": [
    {
     "data": {
      "text/plain": [
       "-0.049806582644503085"
      ]
     },
     "execution_count": 5,
     "metadata": {},
     "output_type": "execute_result"
    }
   ],
   "source": [
    "nx.numeric_assortativity_coefficient(G_football, attribute=\"wins\")"
   ]
  },
  {
   "cell_type": "markdown",
   "metadata": {},
   "source": [
    "### Degree Assortativity\n",
    "\n",
    "\n",
    "Below is a line which gives the degree assortativity coefficient, giving us a coefficient representing the tendency of nodes with similar degrees to form edges between one another. In the context of our football dataset, this tells us the tendency of teams to play other teams with a similar number of total games played. This coefficient is actually just the numeric assortativity coefficient, but with the 'degree' as the numeric argument. \n",
    "\n"
   ]
  },
  {
   "cell_type": "code",
   "execution_count": 6,
   "metadata": {},
   "outputs": [
    {
     "data": {
      "text/plain": [
       "0.16244224957444287"
      ]
     },
     "execution_count": 6,
     "metadata": {},
     "output_type": "execute_result"
    }
   ],
   "source": [
    "nx.degree_assortativity_coefficient(G_football)"
   ]
  },
  {
   "cell_type": "markdown",
   "metadata": {},
   "source": [
    "If we were working with a directed graph, we could specify the 'x' and 'y' arguments used when calculating the coefficient as the in-degree or out-degree of each node. Below is code that creates a small directed graph and sets the 'x' and 'y' arguments."
   ]
  },
  {
   "cell_type": "code",
   "execution_count": 7,
   "metadata": {},
   "outputs": [
    {
     "name": "stdout",
     "output_type": "stream",
     "text": [
      "In-Degree Assortativity: -0.4082482904638645\n",
      "Out-Degree Assortativity: -0.4082482904638645\n",
      "Out-In Degree Assortativity: -0.6666666666666686\n"
     ]
    }
   ],
   "source": [
    "G = nx.DiGraph()\n",
    "\n",
    "edges = [\n",
    "    (\"1\", \"2\"),\n",
    "    (\"2\", \"3\"),\n",
    "    (\"3\", \"1\"),\n",
    "    (\"3\", \"4\"),\n",
    "    (\"4\", \"2\")\n",
    "]\n",
    "\n",
    "G.add_edges_from(edges)\n",
    "\n",
    "in_degree_assortativity = nx.degree_assortativity_coefficient(G, x='in', y='in')\n",
    "\n",
    "out_degree_assortativity = nx.degree_assortativity_coefficient(G, x='out', y='out')\n",
    "\n",
    "out_in_assortativity = nx.degree_assortativity_coefficient(G, x='out', y='in')\n",
    "\n",
    "print(f\"In-Degree Assortativity: {in_degree_assortativity}\")\n",
    "print(f\"Out-Degree Assortativity: {out_degree_assortativity}\")\n",
    "print(f\"Out-In Degree Assortativity: {out_in_assortativity}\")"
   ]
  },
  {
   "cell_type": "markdown",
   "metadata": {},
   "source": [
    "# Structural Holes\n",
    "\n",
    "### Constraint\n",
    "\n",
    "In this module's assignment, you will be working with the dictionary you obtain from `nx.constraint`. \n",
    "\n",
    "The function returns a dictionary, where each key is a node `id` and the value is the constraint coefficient. \n",
    "\n",
    "In the context of our dataset, lets say we have a college 'A'. The coefficient corresponding to A in the dictionary measures how invested/connected college A's neighbors are in nodes that are also connected to college A. If college A has a low coefficient, we might see it as a broker spanning structural holes, which you learned about in this module's lectures.\n",
    "\n",
    "Remember, you can loop through each value in a dictionary with `.items()`, as shown below. "
   ]
  },
  {
   "cell_type": "code",
   "execution_count": 8,
   "metadata": {},
   "outputs": [
    {
     "name": "stdout",
     "output_type": "stream",
     "text": [
      "0 : 0.1586688769711707\n",
      "1 : 0.1843312066370778\n",
      "2 : 0.15886454507193143\n",
      "3 : 0.15275783402203855\n",
      "4 : 0.17942117982563766\n",
      "5 : 0.16208239185485607\n",
      "6 : 0.14832231723803696\n",
      "7 : 0.1684377869605142\n",
      "8 : 0.18895464790656374\n",
      "9 : 0.19116700437887518\n",
      "10 : 0.19056019283746561\n",
      "11 : 0.16851853446076936\n",
      "12 : 0.1713481086113662\n",
      "13 : 0.1671528394387147\n",
      "14 : 0.18007545658606267\n",
      "15 : 0.15483155417814512\n",
      "16 : 0.17938519302719158\n",
      "17 : 0.1636418277440066\n",
      "18 : 0.17931127327647134\n",
      "19 : 0.18591357318489177\n",
      "20 : 0.16690390000683014\n",
      "21 : 0.1869044691847096\n",
      "22 : 0.19868485759169455\n",
      "23 : 0.1866161890210225\n",
      "24 : 0.15073731251913075\n",
      "25 : 0.20558149109426346\n",
      "26 : 0.17265228558518603\n",
      "27 : 0.16804585634287617\n",
      "28 : 0.18398266238894742\n",
      "29 : 0.1980083327641555\n",
      "30 : 0.1944149989754798\n",
      "31 : 0.17266412349557855\n",
      "32 : 0.16732406711745557\n",
      "33 : 0.24121673553719014\n",
      "34 : 0.17516330294155777\n",
      "35 : 0.1862871388566355\n",
      "36 : 0.15141666128615705\n",
      "37 : 0.20986011504982205\n",
      "38 : 0.15836940234636204\n",
      "39 : 0.17427469662819023\n",
      "40 : 0.16306819130447983\n",
      "41 : 0.20992357667584946\n",
      "42 : 0.16765390453702142\n",
      "43 : 0.15587009556672987\n",
      "44 : 0.16622361860528656\n",
      "45 : 0.20986011504982205\n",
      "46 : 0.20069638913553267\n",
      "47 : 0.16623978325706348\n",
      "48 : 0.1668561270101466\n",
      "49 : 0.20555764254111367\n",
      "50 : 0.19353270830262972\n",
      "51 : 0.19329606272255911\n",
      "52 : 0.18361271808999088\n",
      "53 : 0.1803172189062341\n",
      "54 : 0.2036628099173554\n",
      "55 : 0.18147872413086535\n",
      "56 : 0.1866735537190083\n",
      "57 : 0.17791157024793391\n",
      "58 : 0.1257241289154168\n",
      "59 : 0.1691948176923911\n",
      "60 : 0.16622839969947406\n",
      "61 : 0.16110033467659315\n",
      "62 : 0.16627279557407282\n",
      "63 : 0.14153753443526168\n",
      "64 : 0.16698350901957212\n",
      "65 : 0.16804585634287617\n",
      "66 : 0.1632747507000888\n",
      "67 : 0.18593888697581878\n",
      "68 : 0.19211931907774635\n",
      "69 : 0.14415067487631977\n",
      "70 : 0.16765862987500857\n",
      "71 : 0.1946710743801653\n",
      "72 : 0.1710465663395791\n",
      "73 : 0.2005602607593592\n",
      "74 : 0.16956531885344808\n",
      "75 : 0.18652314049586777\n",
      "76 : 0.18072168909227515\n",
      "77 : 0.19075533699124983\n",
      "78 : 0.20439450435568646\n",
      "79 : 0.19356806229082718\n",
      "80 : 0.12577556177856705\n",
      "81 : 0.16516970987106228\n",
      "82 : 0.11802929748271598\n",
      "83 : 0.20883610712686598\n",
      "84 : 0.1688767654000562\n",
      "85 : 0.1849576573818998\n",
      "86 : 0.16755232641971937\n",
      "87 : 0.16449832661703437\n",
      "88 : 0.1812035442811958\n",
      "89 : 0.20558149109426346\n",
      "90 : 0.18227256352022528\n",
      "91 : 0.1660228126494092\n",
      "92 : 0.15939395836653542\n",
      "93 : 0.20383852157943075\n",
      "94 : 0.22788925619834713\n",
      "95 : 0.19131818181818183\n",
      "96 : 0.1866735537190083\n",
      "97 : 0.16797563107399754\n",
      "98 : 0.16840019750472415\n",
      "99 : 0.1904251504948475\n",
      "100 : 0.17021027328127253\n",
      "101 : 0.19888099173553725\n",
      "102 : 0.18699182736455466\n",
      "103 : 0.23665360422405884\n",
      "104 : 0.16155706369248035\n",
      "105 : 0.2466095270890726\n",
      "106 : 0.17008552846268848\n",
      "107 : 0.1863375573921029\n",
      "108 : 0.21841942148760335\n",
      "109 : 0.20872335298894276\n",
      "110 : 0.19755452724085334\n",
      "111 : 0.19086822393734487\n",
      "112 : 0.15856556537598207\n",
      "113 : 0.1921686466942149\n",
      "114 : 0.20547693311780466\n"
     ]
    }
   ],
   "source": [
    "constraints = nx.constraint(G_football)\n",
    "\n",
    "for node_id, constraint_value in constraints.items():\n",
    "    print(f'{node_id} : {constraint_value}')"
   ]
  },
  {
   "cell_type": "markdown",
   "metadata": {},
   "source": [
    "### Effective Size\n",
    "\n",
    "Rather similarly, you can compute the effective size of each node in a dictionary format, as shown below. \n",
    "\n",
    "In the context of our dataset, this is a measure of how non-redundant a team's opponents are. For example, if a team plays against many teams who do not play each other, the node has a high effective size. If a team plays against teams that mostly also play each other, it has a 'redundancy' in its competition and a low effective size."
   ]
  },
  {
   "cell_type": "code",
   "execution_count": 9,
   "metadata": {},
   "outputs": [
    {
     "name": "stdout",
     "output_type": "stream",
     "text": [
      "0 : 8.166666666666666\n",
      "1 : 7.166666666666667\n",
      "2 : 7.833333333333333\n",
      "3 : 8.333333333333334\n",
      "4 : 6.818181818181818\n",
      "5 : 8.0\n",
      "6 : 8.5\n",
      "7 : 7.666666666666667\n",
      "8 : 6.2727272727272725\n",
      "9 : 6.2727272727272725\n",
      "10 : 6.0\n",
      "11 : 7.2\n",
      "12 : 7.0\n",
      "13 : 7.181818181818182\n",
      "14 : 6.6\n",
      "15 : 8.166666666666666\n",
      "16 : 6.818181818181818\n",
      "17 : 7.545454545454545\n",
      "18 : 7.0\n",
      "19 : 6.636363636363637\n",
      "20 : 7.363636363636363\n",
      "21 : 6.454545454545454\n",
      "22 : 5.909090909090909\n",
      "23 : 6.454545454545454\n",
      "24 : 8.0\n",
      "25 : 5.909090909090909\n",
      "26 : 7.0\n",
      "27 : 7.363636363636363\n",
      "28 : 6.333333333333334\n",
      "29 : 6.090909090909091\n",
      "30 : 6.2727272727272725\n",
      "31 : 7.181818181818182\n",
      "32 : 7.181818181818182\n",
      "33 : 4.2\n",
      "34 : 7.181818181818182\n",
      "35 : 6.636363636363637\n",
      "36 : 7.0\n",
      "37 : 5.7272727272727275\n",
      "38 : 7.909090909090909\n",
      "39 : 6.818181818181818\n",
      "40 : 7.545454545454545\n",
      "41 : 5.2\n",
      "42 : 6.142857142857143\n",
      "43 : 8.09090909090909\n",
      "44 : 7.363636363636363\n",
      "45 : 5.7272727272727275\n",
      "46 : 5.7272727272727275\n",
      "47 : 7.181818181818182\n",
      "48 : 7.363636363636363\n",
      "49 : 5.545454545454546\n",
      "50 : 5.888888888888889\n",
      "51 : 6.2727272727272725\n",
      "52 : 6.2\n",
      "53 : 7.0\n",
      "54 : 5.6\n",
      "55 : 6.818181818181818\n",
      "56 : 6.2\n",
      "57 : 6.6\n",
      "58 : 9.0\n",
      "59 : 6.5\n",
      "60 : 7.181818181818182\n",
      "61 : 7.727272727272727\n",
      "62 : 7.363636363636363\n",
      "63 : 7.888888888888889\n",
      "64 : 7.181818181818182\n",
      "65 : 7.363636363636363\n",
      "66 : 7.545454545454545\n",
      "67 : 6.666666666666667\n",
      "68 : 6.2727272727272725\n",
      "69 : 8.636363636363637\n",
      "70 : 7.363636363636363\n",
      "71 : 6.0\n",
      "72 : 7.181818181818182\n",
      "73 : 5.7272727272727275\n",
      "74 : 7.181818181818182\n",
      "75 : 6.2\n",
      "76 : 6.818181818181818\n",
      "77 : 6.2727272727272725\n",
      "78 : 5.7272727272727275\n",
      "79 : 6.2727272727272725\n",
      "80 : 9.181818181818182\n",
      "81 : 7.363636363636363\n",
      "82 : 9.545454545454545\n",
      "83 : 5.363636363636363\n",
      "84 : 7.181818181818182\n",
      "85 : 6.111111111111111\n",
      "86 : 7.363636363636363\n",
      "87 : 7.545454545454545\n",
      "88 : 7.0\n",
      "89 : 5.909090909090909\n",
      "90 : 6.333333333333334\n",
      "91 : 7.363636363636363\n",
      "92 : 7.727272727272727\n",
      "93 : 5.4\n",
      "94 : 4.6\n",
      "95 : 6.0\n",
      "96 : 6.2\n",
      "97 : 6.5\n",
      "98 : 7.363636363636363\n",
      "99 : 6.2\n",
      "100 : 7.0\n",
      "101 : 5.8\n",
      "102 : 6.2\n",
      "103 : 4.4\n",
      "104 : 8.0\n",
      "105 : 4.0\n",
      "106 : 7.0\n",
      "107 : 6.2\n",
      "108 : 4.8\n",
      "109 : 5.7272727272727275\n",
      "110 : 5.909090909090909\n",
      "111 : 6.2727272727272725\n",
      "112 : 7.4\n",
      "113 : 6.0\n",
      "114 : 5.545454545454546\n"
     ]
    }
   ],
   "source": [
    "effective_sizes = nx.effective_size(G_football)\n",
    "\n",
    "for node_id, es in effective_sizes.items():\n",
    "    print(f'{node_id} : {es}')"
   ]
  },
  {
   "cell_type": "markdown",
   "metadata": {},
   "source": [
    "# Conducting K-Core decomposition\n",
    "\n",
    "In this module's assignment, you may need to conduct K-core decomposition. \n",
    "\n",
    "First, however, we are going to introduce the next dataset you will be working with. This one is an undirected graph representing a community of dolphins, where each node represents a dolphin and each edge represents a friendship between dolphins. Each dolphin has the following attributes:\n",
    "```\n",
    "  node [\n",
    "    id 6\n",
    "    label \"DN21\"\n",
    "    smelliness 58\n",
    "  ]\n",
    " ```\n",
    "\n",
    "We will read in the dataset below.\n"
   ]
  },
  {
   "cell_type": "code",
   "execution_count": 10,
   "metadata": {},
   "outputs": [],
   "source": [
    "G_dolphins = nx.read_gml(\"assets/dolphins.gml\")"
   ]
  },
  {
   "cell_type": "markdown",
   "metadata": {},
   "source": [
    "Now, to conduct K-core decomposition on the dolphins dataset, we will use the `nx.core_number` function. Similar to the constraint function, this also returns a dictionary. The key is the `id` of a dolphin, and the value is the highest value k of a k-core containing that dolphin. "
   ]
  },
  {
   "cell_type": "code",
   "execution_count": 11,
   "metadata": {},
   "outputs": [
    {
     "name": "stdout",
     "output_type": "stream",
     "text": [
      "Beak : 4\n",
      "Beescratch : 4\n",
      "Bumper : 3\n",
      "CCL : 3\n",
      "Cross : 1\n",
      "DN16 : 3\n",
      "DN21 : 4\n",
      "DN63 : 4\n",
      "Double : 4\n",
      "Feather : 4\n",
      "Fish : 4\n",
      "Five : 1\n",
      "Fork : 1\n",
      "Gallatin : 4\n",
      "Grin : 4\n",
      "Haecksel : 4\n",
      "Hook : 4\n",
      "Jet : 4\n",
      "Jonah : 4\n",
      "Knit : 4\n",
      "Kringel : 4\n",
      "MN105 : 4\n",
      "MN23 : 1\n",
      "MN60 : 3\n",
      "MN83 : 4\n",
      "Mus : 3\n",
      "Notch : 3\n",
      "Number1 : 3\n",
      "Oscar : 4\n",
      "Patchback : 4\n",
      "PL : 4\n",
      "Quasi : 1\n",
      "Ripplefluke : 2\n",
      "Scabs : 4\n",
      "Shmuddel : 3\n",
      "SMN5 : 1\n",
      "SN100 : 4\n",
      "SN4 : 4\n",
      "SN63 : 4\n",
      "SN89 : 2\n",
      "SN9 : 4\n",
      "SN90 : 4\n",
      "SN96 : 4\n",
      "Stripes : 4\n",
      "Thumper : 3\n",
      "Topless : 4\n",
      "TR120 : 2\n",
      "TR77 : 4\n",
      "TR82 : 1\n",
      "TR88 : 2\n",
      "TR99 : 4\n",
      "Trigger : 4\n",
      "TSN103 : 4\n",
      "TSN83 : 2\n",
      "Upbang : 4\n",
      "Vau : 2\n",
      "Wave : 2\n",
      "Web : 4\n",
      "Whitetip : 1\n",
      "Zap : 4\n",
      "Zig : 1\n",
      "Zipfel : 2\n"
     ]
    }
   ],
   "source": [
    "core_numbers = nx.core_number(G_dolphins)\n",
    "\n",
    "for node_id, highest_core in core_numbers.items():\n",
    "    print(f'{node_id} : {highest_core}')"
   ]
  }
 ],
 "metadata": {
  "kernelspec": {
   "display_name": "Python 3.10 (ipykernel)",
   "language": "python",
   "name": "python3"
  },
  "language_info": {
   "codemirror_mode": {
    "name": "ipython",
    "version": 3
   },
   "file_extension": ".py",
   "mimetype": "text/x-python",
   "name": "python",
   "nbconvert_exporter": "python",
   "pygments_lexer": "ipython3",
   "version": "3.10.11"
  }
 },
 "nbformat": 4,
 "nbformat_minor": 4
}

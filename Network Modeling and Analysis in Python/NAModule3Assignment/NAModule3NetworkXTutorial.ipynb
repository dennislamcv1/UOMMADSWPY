{
 "cells": [
  {
   "cell_type": "markdown",
   "metadata": {
    "deletable": false,
    "editable": false,
    "nbgrader": {
     "cell_type": "markdown",
     "checksum": "6a18784fc01995d93b2a0cee257b4e2b",
     "grade": false,
     "grade_id": "cell-24227c4619a70021",
     "locked": true,
     "schema_version": 3,
     "solution": false,
     "task": false
    }
   },
   "source": [
    "# Module 3 NetworkX Tutorial\n"
   ]
  },
  {
   "cell_type": "markdown",
   "metadata": {
    "deletable": false,
    "editable": false,
    "nbgrader": {
     "cell_type": "markdown",
     "checksum": "633b7bcd902ed83880d915d9866155ed",
     "grade": false,
     "grade_id": "cell-74b852ce6275a1ef",
     "locked": true,
     "schema_version": 3,
     "solution": false,
     "task": false
    }
   },
   "source": [
    "In this Tutorial, we will examine how to use several of the NetworkX Graph generation models which will be relevant for this week's assignment.\n",
    "\n",
    "# The Erdos Renyi Graph:\n",
    "\n",
    "Generating this is quite simple. Lets say we want to have a graph `G` where we have 10 nodes, and each edge has a 50% chance of existing. We can use the `nx.erdos_renyi_graph` function below with n=10 and p=0.50 to generate this graph.\n",
    "\n",
    "NOTE: When generating all graphs in this tutorial and assignment, we will always use seed=42 for the sake of consistency."
   ]
  },
  {
   "cell_type": "code",
   "execution_count": null,
   "metadata": {
    "deletable": false,
    "editable": false,
    "nbgrader": {
     "cell_type": "code",
     "checksum": "c09183eac84b9595f859383d89567a79",
     "grade": false,
     "grade_id": "cell-93a90589606b38a3",
     "locked": true,
     "schema_version": 3,
     "solution": false,
     "task": false
    }
   },
   "outputs": [],
   "source": [
    "import networkx as nx\n",
    "\n",
    "G = nx.erdos_renyi_graph(n=10, p=50/100, seed=42)\n",
    "\n",
    "# We can do all normal graph operations now, like getting the number of edges, nodes, etc.\n",
    "num_edges = G.number_of_edges()\n",
    "print(num_edges)"
   ]
  },
  {
   "cell_type": "code",
   "execution_count": null,
   "metadata": {},
   "outputs": [],
   "source": [
    "#Visualize the resulting graph\n",
    "nx.draw_networkx(G, pos=nx.spring_layout(G), with_labels=False, node_color='blue', \n",
    "                 edge_color='grey', node_size=50)"
   ]
  },
  {
   "cell_type": "markdown",
   "metadata": {},
   "source": [
    "# The Stochastic Block Model"
   ]
  },
  {
   "cell_type": "markdown",
   "metadata": {},
   "source": [
    "The Stochastic Block Model (SBM) is a type of random graph model used to generate networks with a specified community structure. It divides nodes into blocks (or communities) and controls the probability of edges within and between these blocks.\n",
    "\n",
    "Let's create a simple SBM graph. First, we'll define two communities of size 10:"
   ]
  },
  {
   "cell_type": "code",
   "execution_count": null,
   "metadata": {},
   "outputs": [],
   "source": [
    "community_sizes = [10, 10]  "
   ]
  },
  {
   "cell_type": "markdown",
   "metadata": {},
   "source": [
    "Now, we need to define a probability matrix for the graph generation. This matrix will be of dimensions n * n, as each community will have a probability defined for generating edges between every community, including itself. Let's create an example below:"
   ]
  },
  {
   "cell_type": "code",
   "execution_count": null,
   "metadata": {},
   "outputs": [],
   "source": [
    "\n",
    "edge_probability_matrix = [\n",
    "        [0.6, 0.05],  # Probabilities within and between communities\n",
    "        [0.05, 0.5],\n",
    "\n",
    "    ]"
   ]
  },
  {
   "cell_type": "markdown",
   "metadata": {},
   "source": [
    "So above, the element at [0][0], 0.6 is the probability of a possible edge forming between a node in community 0 and another node in community 0 - in this case, an intracommunity edge! So for this graph, community 0 has each of its intracommunity edges exist with a 60% chance.\n",
    "\n",
    "The element at [0][1] however, 0.05, is the probability of a possible edge between a node in community 0 and a node in community 1 existing, being a 5% chance of this intercommunity edge existing!\n",
    "\n",
    "Now, lets plug this all into the graph generation and take a look at the resulting graph!"
   ]
  },
  {
   "cell_type": "code",
   "execution_count": null,
   "metadata": {},
   "outputs": [],
   "source": [
    "G_Stochastic = nx.stochastic_block_model(community_sizes, edge_probability_matrix, seed=42)\n",
    "\n",
    "# Draw the graph\n",
    "pos = nx.spring_layout(G_Stochastic, seed=42)  \n",
    "colors = ['lightblue' if G_Stochastic.nodes[node]['block'] == 0 else 'lightgreen' for node in G_Stochastic.nodes]\n",
    "nx.draw(G_Stochastic, pos, node_color=colors, with_labels=True, node_size=50, edge_color='gray')\n"
   ]
  },
  {
   "cell_type": "markdown",
   "metadata": {},
   "source": [
    "# The Configuration Model\n",
    "\n",
    "The last graph generation model we will examine is the Configuration Model. In this model, each node has a predefined number of edges coming out of it.\n",
    "\n",
    "Let's create an example graph. First, let's define the degree for each node:\n",
    "\n"
   ]
  },
  {
   "cell_type": "code",
   "execution_count": null,
   "metadata": {},
   "outputs": [],
   "source": [
    "#Node 0 will have a degree of 3, node 1 a degree of 2, etc.\n",
    "\n",
    "degree_sequence = [3, 2, 2, 1, 1, 1]"
   ]
  },
  {
   "cell_type": "markdown",
   "metadata": {},
   "source": [
    "Now, we can generate the graph. Take a look at the resulting graph, and we can see that the corresponding degrees are there."
   ]
  },
  {
   "cell_type": "code",
   "execution_count": null,
   "metadata": {},
   "outputs": [],
   "source": [
    "G_config = nx.configuration_model(degree_sequence, seed=42)\n",
    "\n",
    "pos = nx.spring_layout(G_config, seed=42)  # Layout for visualization\n",
    "nx.draw(G_config, pos, with_labels=True, node_size=500, node_color='lightblue', edge_color='gray')"
   ]
  }
 ],
 "metadata": {
  "kernelspec": {
   "display_name": "env",
   "language": "python",
   "name": "python3"
  },
  "language_info": {
   "codemirror_mode": {
    "name": "ipython",
    "version": 3
   },
   "file_extension": ".py",
   "mimetype": "text/x-python",
   "name": "python",
   "nbconvert_exporter": "python",
   "pygments_lexer": "ipython3",
   "version": "3.10.11"
  }
 },
 "nbformat": 4,
 "nbformat_minor": 4
}

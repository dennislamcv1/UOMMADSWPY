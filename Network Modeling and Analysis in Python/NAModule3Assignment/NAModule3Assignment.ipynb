{
 "cells": [
  {
   "cell_type": "code",
   "execution_count": null,
   "metadata": {
    "deletable": false,
    "editable": false,
    "nbgrader": {
     "cell_type": "code",
     "checksum": "eb5b4f0d40816ef6852a680a5605546c",
     "grade": false,
     "grade_id": "cell-6fcd1beaf041b062",
     "locked": true,
     "schema_version": 3,
     "solution": false,
     "task": false
    }
   },
   "outputs": [],
   "source": [
    "import networkx as nx\n",
    "import matplotlib.pyplot as plt\n",
    "import numpy as np\n",
    "from sklearn.metrics import adjusted_rand_score"
   ]
  },
  {
   "cell_type": "markdown",
   "metadata": {
    "deletable": false,
    "editable": false,
    "nbgrader": {
     "cell_type": "markdown",
     "checksum": "6bb2da3098bbe23fd9b40f1de92ed604",
     "grade": false,
     "grade_id": "cell-f2456cd36e833e91",
     "locked": true,
     "schema_version": 3,
     "solution": false,
     "task": false
    }
   },
   "source": [
    "# Module 3 Assignment:\n",
    "\n",
    "This week, you learned about several graph generation models. In this assignment, you will gain experience utilizing these models with the python networkx library."
   ]
  },
  {
   "cell_type": "markdown",
   "metadata": {
    "deletable": false,
    "editable": false,
    "nbgrader": {
     "cell_type": "markdown",
     "checksum": "51440e4ae4d21fb9c90f2e26ca04b928",
     "grade": false,
     "grade_id": "cell-e3a4dd79db6745e3",
     "locked": true,
     "schema_version": 3,
     "solution": false,
     "task": false
    }
   },
   "source": [
    "# Part 1: The Erdos Renyi model\n",
    "\n",
    "\n",
    "# Task 1a:\n",
    " Recall that the Erdos-Renyi model is made to generate a graph where every edge exists with probability p. Find the minimum value of p such that a graph with n=50 nodes has at least 100 edges. p should be an integer between 1 and 100. You will turn it into a float between 1 and 0 by dividing it by 100 when inputting the 'p' argument for graph generation. \n",
    "\n",
    "The function should return the value of p as an integer. For example, if 20/100 resulted in at least 100 edges, you would return '20' as an integer. You will assign `num_edges` to the resulting number of edges generated in the simulated graph. You will return `p` and `num_edges` in a tuple in the given format.\n",
    "\n",
    "Use seed = 42 when generating the graph.\n"
   ]
  },
  {
   "cell_type": "code",
   "execution_count": null,
   "metadata": {
    "deletable": false,
    "editable": false,
    "nbgrader": {
     "cell_type": "code",
     "checksum": "809d1814648d7721f222589c9835a088",
     "grade": true,
     "grade_id": "cell-6b75d31d1a08d557",
     "locked": true,
     "points": 0,
     "schema_version": 3,
     "solution": false,
     "task": false
    }
   },
   "outputs": [],
   "source": [
    "task_id = '1a'\n"
   ]
  },
  {
   "cell_type": "code",
   "execution_count": null,
   "metadata": {
    "deletable": false,
    "nbgrader": {
     "cell_type": "code",
     "checksum": "b4d51231886bc8bfe90e69208c179547",
     "grade": false,
     "grade_id": "cell-0cca655d0de51459",
     "locked": false,
     "schema_version": 3,
     "solution": true,
     "task": false
    }
   },
   "outputs": [],
   "source": [
    "\n",
    "def task_1a_solution():\n",
    "    p = 0\n",
    "    num_edges = 0\n",
    "\n",
    "    #generate the Erdős-Rényi graph\n",
    "    for p in range(0, 100):\n",
    "        # YOUR CODE HERE\n",
    "        raise NotImplementedError()\n",
    "    \n",
    "    return num_edges, p\n"
   ]
  },
  {
   "cell_type": "code",
   "execution_count": null,
   "metadata": {},
   "outputs": [],
   "source": [
    "# Use this cell to explore your solution.\n",
    "\n",
    "task_1a_solution()"
   ]
  },
  {
   "cell_type": "code",
   "execution_count": null,
   "metadata": {
    "deletable": false,
    "editable": false,
    "nbgrader": {
     "cell_type": "code",
     "checksum": "bac4794d918b95e2515cd74de6438d9e",
     "grade": true,
     "grade_id": "cell-ae88e63ffee8351f",
     "locked": true,
     "points": 5,
     "schema_version": 3,
     "solution": false,
     "task": false
    }
   },
   "outputs": [],
   "source": [
    "print(f\"Task {task_id} - AG tests\")\n",
    "stu_ans = task_1a_solution()\n",
    "\n",
    "print(f\"Task {task_id} - your answer:\\n{stu_ans}\")\n",
    "\n",
    "assert isinstance(\n",
    "    stu_ans, tuple\n",
    "), f\"Task {task_id}: Your function should return an tuple. \"\n",
    "\n",
    "assert isinstance(\n",
    "    stu_ans[0], int\n",
    "), f\"Task {task_id}: The first element of the tuple should represent the number of edges as an integer. \"\n",
    "\n",
    "assert isinstance(\n",
    "    stu_ans[1], int\n",
    "), f\"Task {task_id}: The second element of the tuple should represent a value of p between 1 and 100. \"\n"
   ]
  },
  {
   "cell_type": "markdown",
   "metadata": {
    "deletable": false,
    "editable": false,
    "nbgrader": {
     "cell_type": "markdown",
     "checksum": "21c4af615241a4c11d3b72e137b46a1d",
     "grade": false,
     "grade_id": "cell-c792b5f462fb5bb1",
     "locked": true,
     "schema_version": 3,
     "solution": false,
     "task": false
    }
   },
   "source": [
    "# Task 1b:\n",
    "\n",
    "We also learned the equation to calculate the expected number of edges when creating a graph with the Erdos-Renyi model:\n",
    "\n",
    "$$\n",
    "E = p \\cdot \\frac{n(n-1)}{2}\n",
    "$$\n",
    "\n",
    "Find the expected number of edges. Your function should return the difference between the simulated number of edges you obtained in 1a, and the predicted number of edges given the p you found in task_1a() along with n=100 nodes. The order of operations is given; Do not change it."
   ]
  },
  {
   "cell_type": "code",
   "execution_count": null,
   "metadata": {
    "deletable": false,
    "editable": false,
    "nbgrader": {
     "cell_type": "code",
     "checksum": "5b6bbd228eba9e5bb9e09aed73cc393a",
     "grade": true,
     "grade_id": "cell-a7fd0b07b7f710e2",
     "locked": true,
     "points": 0,
     "schema_version": 3,
     "solution": false,
     "task": false
    }
   },
   "outputs": [],
   "source": [
    "task_id = '1b'\n"
   ]
  },
  {
   "cell_type": "code",
   "execution_count": null,
   "metadata": {
    "deletable": false,
    "nbgrader": {
     "cell_type": "code",
     "checksum": "502d5656418bc85f8c9c87c5d665d8a4",
     "grade": false,
     "grade_id": "cell-393f46d8ba67bf69",
     "locked": false,
     "schema_version": 3,
     "solution": true,
     "task": false
    }
   },
   "outputs": [],
   "source": [
    "def task_1b_solution():\n",
    "    simulated_edges, p = task_1a_solution()\n",
    "    n = 100\n",
    "\n",
    "    predicted_edges = None\n",
    "\n",
    "    # YOUR CODE HERE\n",
    "    raise NotImplementedError()\n",
    "    \n",
    "    return predicted_edges - simulated_edges"
   ]
  },
  {
   "cell_type": "code",
   "execution_count": null,
   "metadata": {},
   "outputs": [],
   "source": [
    "# Use this cell to explore your solution.\n",
    "\n",
    "task_1b_solution()"
   ]
  },
  {
   "cell_type": "code",
   "execution_count": null,
   "metadata": {
    "deletable": false,
    "editable": false,
    "nbgrader": {
     "cell_type": "code",
     "checksum": "c22933ec49d87693a7ce8b4eb5e16c1f",
     "grade": true,
     "grade_id": "cell-823d3830dd6b3c96",
     "locked": true,
     "points": 5,
     "schema_version": 3,
     "solution": false,
     "task": false
    }
   },
   "outputs": [],
   "source": [
    "print(f\"Task {task_id} - AG tests\")\n",
    "stu_ans = task_1b_solution()\n",
    "\n",
    "print(f\"Task {task_id} - your answer:\\n{stu_ans}\")\n",
    "\n",
    "assert isinstance(\n",
    "    stu_ans, float\n",
    "), f\"Task {task_id}: Your function should return a float. \"\n",
    "\n"
   ]
  },
  {
   "cell_type": "markdown",
   "metadata": {
    "deletable": false,
    "editable": false,
    "nbgrader": {
     "cell_type": "markdown",
     "checksum": "f998c5036e172934081ab335f20b6a80",
     "grade": false,
     "grade_id": "cell-bfa9b6f1b41276db",
     "locked": true,
     "schema_version": 3,
     "solution": false,
     "task": false
    }
   },
   "source": [
    "# Task 1c:\n",
    "\n",
    "This task is similar to task 1a. Find p to where when we have p/100 as the p value when generating the Erdos-Renyi graph, at least 60% of nodes are in a connected component when simulating the generation of an Erdos-Renyi graph with 100 nodes.\n",
    "\n",
    "Use seed = 42 when generating your network.\n",
    "\n",
    "The function should return p, with p being a value between 1 and 100, and largest_cc_size, being an integer representing the size of the largest connected component. \n",
    "\n",
    "Hint(s):\n",
    "- You may find the python built-in `max()` and `nx.connected_components()` functions helpful.\n"
   ]
  },
  {
   "cell_type": "code",
   "execution_count": null,
   "metadata": {
    "deletable": false,
    "editable": false,
    "nbgrader": {
     "cell_type": "code",
     "checksum": "77eb8f36c9926ac9c280cfc102276cc1",
     "grade": true,
     "grade_id": "cell-3049030b70f60b65",
     "locked": true,
     "points": 0,
     "schema_version": 3,
     "solution": false,
     "task": false
    }
   },
   "outputs": [],
   "source": [
    "task_id = '1c'\n"
   ]
  },
  {
   "cell_type": "code",
   "execution_count": null,
   "metadata": {
    "deletable": false,
    "nbgrader": {
     "cell_type": "code",
     "checksum": "6657fb03bb5830500edecbaa48ad43b1",
     "grade": false,
     "grade_id": "cell-007f7958e2b34427",
     "locked": false,
     "schema_version": 3,
     "solution": true,
     "task": false
    }
   },
   "outputs": [],
   "source": [
    "def task_1c_solution():\n",
    "    num_nodes = 100  \n",
    "    target = 60\n",
    "    p = 0\n",
    "    largest_cc_size = 0\n",
    "\n",
    "    for p in range(0, 100):\n",
    "        p_value = p / 100  \n",
    "        # YOUR CODE HERE\n",
    "        raise NotImplementedError()\n",
    "\n",
    "    return p, largest_cc_size"
   ]
  },
  {
   "cell_type": "code",
   "execution_count": null,
   "metadata": {},
   "outputs": [],
   "source": [
    "# Use this cell to explore your solution.\n",
    "\n",
    "task_1c_solution()"
   ]
  },
  {
   "cell_type": "code",
   "execution_count": null,
   "metadata": {
    "deletable": false,
    "editable": false,
    "nbgrader": {
     "cell_type": "code",
     "checksum": "8dddfb653f6983ab1954850b4476f740",
     "grade": true,
     "grade_id": "cell-f3e5b0a88cb1e2dc",
     "locked": true,
     "points": 4,
     "schema_version": 3,
     "solution": false,
     "task": false
    }
   },
   "outputs": [],
   "source": [
    "print(f\"Task {task_id} - AG tests\")\n",
    "stu_ans = task_1c_solution()\n",
    "\n",
    "print(f\"Task {task_id} - your answer:\\n{stu_ans}\")\n",
    "\n",
    "assert isinstance(\n",
    "    stu_ans, tuple\n",
    "), f\"Task {task_id}: Your function should return a tuple.\"\n",
    "\n",
    "assert isinstance(\n",
    "    stu_ans[0], int\n",
    "), f\"Task {task_id}: The first element of the tuple should be p, an integer between 0 and 99.\"\n",
    "\n",
    "assert isinstance(\n",
    "    stu_ans[1], int\n",
    "), f\"Task {task_id}: The first element of the tuple should be largest_cc_size, an integer.\"\n",
    "\n"
   ]
  },
  {
   "cell_type": "markdown",
   "metadata": {
    "deletable": false,
    "editable": false,
    "nbgrader": {
     "cell_type": "markdown",
     "checksum": "4475397fc778a7b8b48ae29b20dfe157",
     "grade": false,
     "grade_id": "cell-102697c26880649f",
     "locked": true,
     "schema_version": 3,
     "solution": false,
     "task": false
    }
   },
   "source": [
    "# Part 2: Stochastic block model\n",
    "\n",
    "# Task 2a:\n",
    "\n",
    "Use networkx's stochastic block model function with a seed of 42 to generate a graph that has two communities of size n with p_intra probability of intra-community edges, and p_inter probability of inter-community edges. The function below should return the resulting graph. Refer to the tutorial for an example of how to accomplish this. "
   ]
  },
  {
   "cell_type": "code",
   "execution_count": null,
   "metadata": {
    "deletable": false,
    "editable": false,
    "nbgrader": {
     "cell_type": "code",
     "checksum": "82099242fe329423e59b462b21d8d949",
     "grade": true,
     "grade_id": "cell-34da0535305432ca",
     "locked": true,
     "points": 0,
     "schema_version": 3,
     "solution": false,
     "task": false
    }
   },
   "outputs": [],
   "source": [
    "task_id = '2a'\n"
   ]
  },
  {
   "cell_type": "code",
   "execution_count": null,
   "metadata": {
    "deletable": false,
    "nbgrader": {
     "cell_type": "code",
     "checksum": "603352c96548e99ed66e20547f460abc",
     "grade": false,
     "grade_id": "cell-bf17154fba040ec1",
     "locked": false,
     "schema_version": 3,
     "solution": true,
     "task": false
    }
   },
   "outputs": [],
   "source": [
    "def task_2a_solution(n: int, p_intra: float, p_inter: float):\n",
    "\n",
    "    G = None\n",
    "    sizes = []\n",
    "    p_matrix = []\n",
    "    \n",
    "    # YOUR CODE HERE\n",
    "    raise NotImplementedError()\n",
    "\n",
    "    return G\n"
   ]
  },
  {
   "cell_type": "code",
   "execution_count": null,
   "metadata": {},
   "outputs": [],
   "source": [
    "# Use this cell to explore your solution.\n",
    "\n",
    "task_2a_solution(n = 10, p_inter = 0.5, p_intra = 0.4)"
   ]
  },
  {
   "cell_type": "code",
   "execution_count": null,
   "metadata": {
    "deletable": false,
    "editable": false,
    "nbgrader": {
     "cell_type": "code",
     "checksum": "3166804ee57c084493e1640dec83a04d",
     "grade": true,
     "grade_id": "cell-5983427ba1223680",
     "locked": true,
     "points": 4,
     "schema_version": 3,
     "solution": false,
     "task": false
    }
   },
   "outputs": [],
   "source": [
    "print(f\"Task {task_id} - AG tests\")\n",
    "stu_ans = task_2a_solution(n = 10, p_inter = 0.5, p_intra = 0.4)\n",
    "\n",
    "print(f\"Task {task_id} - your answer:\\n{stu_ans}\")\n",
    "\n",
    "assert isinstance(\n",
    "    stu_ans, nx.classes.graph.Graph\n",
    "), f\"Task {task_id}: Your function should return a graph of type nx.classes.graph.Graph. \"\n",
    "\n",
    "\n"
   ]
  },
  {
   "cell_type": "markdown",
   "metadata": {
    "deletable": false,
    "editable": false,
    "nbgrader": {
     "cell_type": "markdown",
     "checksum": "072aa6ef0d263977c00015564142e86b",
     "grade": false,
     "grade_id": "cell-50ff710a2eee9549",
     "locked": true,
     "schema_version": 3,
     "solution": false,
     "task": false
    }
   },
   "source": [
    "# Task 2b:\n",
    "\n",
    "This task will involve bringing back community detection algorithms from a previous assignment to detect communities we've created using the Stochastic Block model, and returning the adjusted rand index score of the top-performing algorithm. \n",
    "\n",
    "To start you off, we've created a graph with the probabilities of 0.5 and 0.4 for the formation of inter-community and intra-community edges, respectively. \n",
    "\n",
    "You will now need to detect communities using the networkX greedy, fluid communities, or label propogation algorithms. Use the communities you obtain from their community detection functions as arguments to the `find_node_communities` function we've defined for you. \n",
    "\n",
    "The return of the `find_node_communities` alters the community assignment object you obtained with the community detection algorithm function to a format where we can compare it to `reference_labels`.\n",
    "\n",
    "The metric we will use to compare the communities detected by the algorithms and `reference_labels` is called Adjusted Rand Index (ARI), a commonly used statistical measure which quantifies the similarity between two partitions of a dataset. Higher values indicate a strong similarity in clusterings. \n",
    "\n",
    "To obtain the score, call `adjusted_rand_score(reference_labels, detected_labels)`. `detected_labels` should be the list returned by the `find_nodes_communities` function.\n",
    "\n",
    "\n",
    "Note: `p_inter` is passed in as an argument so we can use your code for a later question. Do not change this.\n"
   ]
  },
  {
   "cell_type": "code",
   "execution_count": null,
   "metadata": {
    "deletable": false,
    "editable": false,
    "nbgrader": {
     "cell_type": "code",
     "checksum": "3e48db04693f1c4ea4ebaf136d803c04",
     "grade": true,
     "grade_id": "cell-40b51223ba9fa243",
     "locked": true,
     "points": 0,
     "schema_version": 3,
     "solution": false,
     "task": false
    }
   },
   "outputs": [],
   "source": [
    "task_id = '2b'\n",
    "\n",
    "\n",
    "#This function takes in the communities you generated with the nx.**.communities function and returns a list representing the communities assigned to each\n",
    "# Node. \n",
    "\n",
    "#     Com. 1 Com. 2\n",
    "#Ex. [{0,1},{2,3}] turns into [0,0,1,1]\n",
    "def find_node_communities(num_nodes, communities):\n",
    "    #The list where each node will have an entry, where the value is it's community.\n",
    "    detected_communities = [-1] * num_nodes\n",
    "    for community_num, community_of_nodes in enumerate(communities):\n",
    "        for node in community_of_nodes:\n",
    "            detected_communities[node] = community_num\n",
    "\n",
    "    return detected_communities\n",
    "\n"
   ]
  },
  {
   "cell_type": "code",
   "execution_count": null,
   "metadata": {
    "deletable": false,
    "nbgrader": {
     "cell_type": "code",
     "checksum": "0eed1d1edfabf2dc658683d02f4f8bb5",
     "grade": false,
     "grade_id": "cell-f3198133574a743a",
     "locked": false,
     "schema_version": 3,
     "solution": true,
     "task": false
    }
   },
   "outputs": [],
   "source": [
    "\n",
    "\n",
    "def task_2b_solution(p_inter = 0.4):\n",
    "    \n",
    "    G = task_2a_solution(n = 50, p_intra = 0.5, p_inter = p_inter)\n",
    "    reference_labels = [0] * 50 + [1] * 50  # First 50 nodes are community 0, next 50 are community 1\n",
    "\n",
    "    ari = None\n",
    "\n",
    "    # YOUR CODE HERE\n",
    "    raise NotImplementedError()\n",
    "\n",
    "    return ari \n",
    "\n"
   ]
  },
  {
   "cell_type": "code",
   "execution_count": null,
   "metadata": {},
   "outputs": [],
   "source": [
    "task_2b_solution(p_inter = 0.4)"
   ]
  },
  {
   "cell_type": "code",
   "execution_count": null,
   "metadata": {
    "deletable": false,
    "editable": false,
    "nbgrader": {
     "cell_type": "code",
     "checksum": "f8491de6d55951109932f1c28f8fb9d6",
     "grade": true,
     "grade_id": "cell-3f844af0cc6820a2",
     "locked": true,
     "points": 5,
     "schema_version": 3,
     "solution": false,
     "task": false
    }
   },
   "outputs": [],
   "source": [
    "print(f\"Task {task_id} - AG tests\")\n",
    "stu_ans = task_2b_solution(p_inter = 0.45)\n",
    "\n",
    "print(f\"Task {task_id} - your answer:\\n{stu_ans}\")\n",
    "\n",
    "assert isinstance(\n",
    "    stu_ans, float\n",
    "), f\"Task {task_id}: Your function should return a float. \"\n",
    "\n"
   ]
  },
  {
   "cell_type": "markdown",
   "metadata": {},
   "source": [
    "# Task 2c:\n",
    "\n",
    "Let's see how adjusting p_intra changes ARI! Write a function returning the ari values where p_intra is 1 to 10, inclusive, out of 10 (0.1, 0.2, 0.3, ... 1.0). Using your task_2b solution is heavily encouraged."
   ]
  },
  {
   "cell_type": "code",
   "execution_count": null,
   "metadata": {
    "deletable": false,
    "editable": false,
    "nbgrader": {
     "cell_type": "code",
     "checksum": "422a8c1f553d113d1f18ef7500213136",
     "grade": true,
     "grade_id": "cell-02b317b334d45d4d",
     "locked": true,
     "points": 0,
     "schema_version": 3,
     "solution": false,
     "task": false
    }
   },
   "outputs": [],
   "source": [
    "task_id = '2c'\n"
   ]
  },
  {
   "cell_type": "code",
   "execution_count": null,
   "metadata": {
    "deletable": false,
    "nbgrader": {
     "cell_type": "code",
     "checksum": "1bab2216198d98bb7dd25c1428afff6b",
     "grade": false,
     "grade_id": "cell-e3ed66378131f1b4",
     "locked": false,
     "schema_version": 3,
     "solution": true,
     "task": false
    }
   },
   "outputs": [],
   "source": [
    "def task_2c_solution():\n",
    "    ari_vals = []\n",
    "    \n",
    "    # YOUR CODE HERE\n",
    "    raise NotImplementedError()\n",
    "\n",
    "    return ari_vals "
   ]
  },
  {
   "cell_type": "code",
   "execution_count": null,
   "metadata": {
    "deletable": false,
    "editable": false,
    "nbgrader": {
     "cell_type": "code",
     "checksum": "f4f42ff2618cf6492eec1eb5f3c097f8",
     "grade": false,
     "grade_id": "cell-aefc2b99e6688867",
     "locked": true,
     "schema_version": 3,
     "solution": false,
     "task": false
    }
   },
   "outputs": [],
   "source": [
    "# Use this cell to explore your solution.\n",
    "\n",
    "# Plot the ARI values\n",
    "plt.plot([p/10 for p in range(1, 11)], task_2c_solution(), marker='o')\n",
    "plt.xlabel('p_inter')\n",
    "plt.ylabel('Adjusted Rand Index (ARI)')\n",
    "plt.title('ARI vs. Inter-Community Probability (p_inter)')\n",
    "plt.grid(True)\n",
    "\n",
    "# Show the plot\n",
    "plt.show()"
   ]
  },
  {
   "cell_type": "code",
   "execution_count": null,
   "metadata": {
    "deletable": false,
    "editable": false,
    "nbgrader": {
     "cell_type": "code",
     "checksum": "38fb120974dc4afd38b9f115b35f1a6b",
     "grade": true,
     "grade_id": "cell-c536d2e68a5dd1e0",
     "locked": true,
     "points": 5,
     "schema_version": 3,
     "solution": false,
     "task": false
    }
   },
   "outputs": [],
   "source": [
    "print(f\"Task {task_id} - AG tests\")\n",
    "stu_ans = task_2c_solution()\n",
    "\n",
    "print(f\"Task {task_id} - your answer:\\n{stu_ans}\")\n",
    "\n",
    "assert isinstance(\n",
    "    stu_ans, list\n",
    "), f\"Task {task_id}: Your function should return a list. \"\n",
    "\n",
    "assert (\n",
    "    len(stu_ans) == 10\n",
    "), f\"Task {task_id}: Your returned ndarray has an incorrect number of elements. \"\n",
    "\n",
    "assert all(\n",
    "    isinstance(num, float) for num in stu_ans\n",
    "), (\n",
    "    f\"Task {task_id}: Your returned list should be a list of floats \"\n",
    ")\n",
    "\n"
   ]
  },
  {
   "cell_type": "markdown",
   "metadata": {
    "deletable": false,
    "editable": false,
    "nbgrader": {
     "cell_type": "markdown",
     "checksum": "8341f8836f9e50747e957656d3a5f272",
     "grade": false,
     "grade_id": "cell-6c9ac6e548c0685f",
     "locked": true,
     "schema_version": 3,
     "solution": false,
     "task": false
    }
   },
   "source": [
    "# Part 3: Configuration graph generation model\n",
    "\n",
    "# Task 3a:\n",
    "Zark Muckerberg just created a new social media network. There are 6 users on it. One with 4 friends, one with 3 friends, three with 2 friends, and one with 1 friend. Use the configuration graph generation model to create a graph that could represent this network with seed=42."
   ]
  },
  {
   "cell_type": "code",
   "execution_count": null,
   "metadata": {
    "deletable": false,
    "editable": false,
    "nbgrader": {
     "cell_type": "code",
     "checksum": "67e02fc2c44512dd0cdff088e4495a38",
     "grade": true,
     "grade_id": "cell-22a3e2e00893c960",
     "locked": true,
     "points": 0,
     "schema_version": 3,
     "solution": false,
     "task": false
    }
   },
   "outputs": [],
   "source": [
    "task_id = '3a'\n"
   ]
  },
  {
   "cell_type": "code",
   "execution_count": null,
   "metadata": {
    "deletable": false,
    "nbgrader": {
     "cell_type": "code",
     "checksum": "df2abd2a2dba6f94c0d5fa9b88b64cdf",
     "grade": false,
     "grade_id": "cell-f12b90a9cc817199",
     "locked": false,
     "schema_version": 3,
     "solution": true,
     "task": false
    }
   },
   "outputs": [],
   "source": [
    "\n",
    "def task_3a_solution():\n",
    "    G = None\n",
    "\n",
    "    # YOUR CODE HERE\n",
    "    raise NotImplementedError()\n",
    "\n",
    "    return G\n"
   ]
  },
  {
   "cell_type": "code",
   "execution_count": null,
   "metadata": {},
   "outputs": [],
   "source": [
    "# Use this cell to explore your solution.\n",
    "\n",
    "task_3a_solution()"
   ]
  },
  {
   "cell_type": "code",
   "execution_count": null,
   "metadata": {
    "deletable": false,
    "editable": false,
    "nbgrader": {
     "cell_type": "code",
     "checksum": "358cb5ffdeefa2787c4ea7c438d92595",
     "grade": true,
     "grade_id": "cell-e79ec52544ab6ed8",
     "locked": true,
     "points": 5,
     "schema_version": 3,
     "solution": false,
     "task": false
    }
   },
   "outputs": [],
   "source": [
    "print(f\"Task {task_id} - AG tests\")\n",
    "stu_ans = task_3a_solution()\n",
    "\n",
    "print(f\"Task {task_id} - your answer:\\n{stu_ans}\")\n",
    "\n",
    "assert isinstance(\n",
    "    stu_ans, nx.classes.graph.Graph\n",
    "), f\"Task {task_id}: Your function should return a graph of type nx.classes.graph.Graph. \"\n",
    "\n",
    "\n"
   ]
  },
  {
   "cell_type": "markdown",
   "metadata": {
    "deletable": false,
    "editable": false,
    "nbgrader": {
     "cell_type": "markdown",
     "checksum": "2bd58c942be3d57aec27aa6f1a587598",
     "grade": false,
     "grade_id": "cell-10d5bbb70cfa35a9",
     "locked": true,
     "schema_version": 3,
     "solution": false,
     "task": false
    }
   },
   "source": [
    "# Task 3b:\n",
    "\n",
    "We are going to use the football game network for this question. Calculate the degree distribution of the network, and use the nx configuration model to create a new graph from that degree distribution with seed=42. The function below should return the new graph. \n",
    "\n",
    "Hint: You may find the `.degree()` function useful."
   ]
  },
  {
   "cell_type": "code",
   "execution_count": null,
   "metadata": {
    "deletable": false,
    "editable": false,
    "nbgrader": {
     "cell_type": "code",
     "checksum": "1bbfe95fa9c139a3e9d5422ae0a75713",
     "grade": true,
     "grade_id": "cell-00f6c016cda54b1a",
     "locked": true,
     "points": 0,
     "schema_version": 3,
     "solution": false,
     "task": false
    }
   },
   "outputs": [],
   "source": [
    "task_id = '3b'\n",
    "\n",
    "import networkx as nx\n",
    "import pandas as pd\n",
    "from collections import Counter\n",
    "\n",
    "G_football = nx.read_gml('assets/football.gml', label='id')\n",
    "\n"
   ]
  },
  {
   "cell_type": "code",
   "execution_count": null,
   "metadata": {
    "deletable": false,
    "nbgrader": {
     "cell_type": "code",
     "checksum": "982113ddc70e66ea0fb24ce8aa615cfc",
     "grade": false,
     "grade_id": "cell-0924664145fa1a37",
     "locked": false,
     "schema_version": 3,
     "solution": true,
     "task": false
    }
   },
   "outputs": [],
   "source": [
    "def task_3b_solution():\n",
    "    new_G = None\n",
    "\n",
    "    # YOUR CODE HERE\n",
    "    raise NotImplementedError()\n",
    "\n",
    "    return new_G"
   ]
  },
  {
   "cell_type": "code",
   "execution_count": null,
   "metadata": {},
   "outputs": [],
   "source": [
    "# Use this cell to explore your solution.\n",
    "\n",
    "task_3b_solution()"
   ]
  },
  {
   "cell_type": "code",
   "execution_count": null,
   "metadata": {
    "deletable": false,
    "editable": false,
    "nbgrader": {
     "cell_type": "code",
     "checksum": "3fe2ecd4caf497506c9690cbae8511e4",
     "grade": true,
     "grade_id": "cell-b5044dbb1b0435e3",
     "locked": true,
     "points": 5,
     "schema_version": 3,
     "solution": false,
     "task": false
    }
   },
   "outputs": [],
   "source": [
    "print(f\"Task {task_id} - AG tests\")\n",
    "stu_ans = task_3b_solution()\n",
    "\n",
    "print(f\"Task {task_id} - your answer:\\n{stu_ans}\")\n",
    "\n",
    "assert isinstance(\n",
    "    stu_ans, nx.classes.multigraph.MultiGraph\n",
    "), f\"Task {task_id}: Your function should return an np.ndarray. \"\n",
    "\n",
    "\n"
   ]
  },
  {
   "cell_type": "markdown",
   "metadata": {
    "deletable": false,
    "editable": false,
    "nbgrader": {
     "cell_type": "markdown",
     "checksum": "185b178537dd4a3fa6c83599ab7782fb",
     "grade": false,
     "grade_id": "cell-bdf67d9b89a2b2c6",
     "locked": true,
     "schema_version": 3,
     "solution": false,
     "task": false
    }
   },
   "source": [
    "# Task 3c (Ungraded):\n",
    "\n",
    "In this question, we're going to compare the real-world network with the network you created based on the real-world network's degree distribution in the previous question. We're going to examine the following metrics:\n",
    "```m\n",
    "[\n",
    "    \"Clustering Coefficient\",\n",
    "    \"Average Shortest Path Length\",\n",
    "    \"Assortativity\",\n",
    "    \"Density\",\n",
    "    \"Number of Connected Components\" ,\n",
    "    \"Average Degree\",\n",
    "    \"Diameter\",\n",
    "    \"Fraction of Nodes in Largest CC\",\n",
    "]\n",
    "```\n",
    "\n",
    "Which do you think will have changed? \n",
    "\n",
    "Return the names of the Metrics that you believe will have remained similar as a list of strings.\n",
    "\n"
   ]
  },
  {
   "cell_type": "code",
   "execution_count": null,
   "metadata": {
    "deletable": false,
    "nbgrader": {
     "cell_type": "code",
     "checksum": "c3090fb295fd6ac802481e655175fa6d",
     "grade": false,
     "grade_id": "cell-9c8d33840934a791",
     "locked": false,
     "schema_version": 3,
     "solution": true,
     "task": false
    }
   },
   "outputs": [],
   "source": [
    "def task_3c():\n",
    "    sol = []\n",
    "\n",
    "    # YOUR CODE HERE\n",
    "    raise NotImplementedError()\n",
    "    \n",
    "    return sol"
   ]
  },
  {
   "cell_type": "markdown",
   "metadata": {
    "deletable": false,
    "editable": false,
    "nbgrader": {
     "cell_type": "markdown",
     "checksum": "af4bf7a9cac08b5fbcdada05f7f3b2c7",
     "grade": false,
     "grade_id": "cell-b218ad0000685114",
     "locked": true,
     "schema_version": 3,
     "solution": false,
     "task": false
    }
   },
   "source": [
    "Now take a look at the metrics that remained the same. Were your guesses accurate?"
   ]
  },
  {
   "cell_type": "code",
   "execution_count": null,
   "metadata": {
    "deletable": false,
    "editable": false,
    "nbgrader": {
     "cell_type": "code",
     "checksum": "30c1d96a6106421ad22bce7b572b1b48",
     "grade": false,
     "grade_id": "cell-0c16fff82050c9ff",
     "locked": true,
     "schema_version": 3,
     "solution": false,
     "task": false
    }
   },
   "outputs": [],
   "source": [
    "def calculate_metrics(G):\n",
    "    largest_cc = max(nx.connected_components(G), key=len)  # Find largest connected component\n",
    "    G_lcc = G.subgraph(largest_cc)  # Subgraph of the largest connected component\n",
    "\n",
    "    return {\n",
    "        \"Clustering Coefficient\": nx.average_clustering(G),\n",
    "        \"Average Shortest Path Length\": nx.average_shortest_path_length(G) if nx.is_connected(G) else float('inf'),\n",
    "        \"Assortativity\": nx.degree_assortativity_coefficient(G),\n",
    "        \"Density\": nx.density(G),\n",
    "        \"Number of Connected Components\": nx.number_connected_components(G),        \n",
    "        \"Average Degree\": sum(dict(G.degree()).values()) / G.number_of_nodes(),\n",
    "        \"Diameter\": nx.diameter(G_lcc) if nx.is_connected(G_lcc) else float('inf'),\n",
    "        \"Fraction of Nodes in Largest CC\": len(largest_cc) / G.number_of_nodes()\n",
    "    }\n",
    "\n",
    "def clean_graph(G):\n",
    "    # Convert to simple graph (remove parallel edges and self-loops)\n",
    "    G = nx.Graph(G)\n",
    "    G.remove_edges_from(nx.selfloop_edges(G))\n",
    "    return G\n",
    "\n",
    "def print_metrics():\n",
    "    G_football = nx.read_gml('assets/football.gml', label='id')\n",
    "    new_G = task_3b_solution()\n",
    "\n",
    "    # Clean both graphs in the same way to ensure fair comparison\n",
    "    G_football_clean = clean_graph(G_football)\n",
    "    new_G_clean = clean_graph(new_G)\n",
    "\n",
    "    # Calculate metrics\n",
    "    metrics_football = calculate_metrics(G_football_clean)\n",
    "    metrics_config_model = calculate_metrics(new_G_clean)\n",
    "\n",
    "    # Create DataFrame to compare metrics\n",
    "    df = pd.DataFrame({\n",
    "        \"Metric\": metrics_football.keys(),\n",
    "        \"G_football\": metrics_football.values(),\n",
    "        \"Configuration Model\": metrics_config_model.values()\n",
    "    })\n",
    "\n",
    "    return df\n",
    "\n",
    "print_metrics()\n"
   ]
  }
 ],
 "metadata": {
  "kernelspec": {
   "display_name": "Python 3",
   "language": "python",
   "name": "python3"
  },
  "language_info": {
   "codemirror_mode": {
    "name": "ipython",
    "version": 3
   },
   "file_extension": ".py",
   "mimetype": "text/x-python",
   "name": "python",
   "nbconvert_exporter": "python",
   "pygments_lexer": "ipython3",
   "version": "3.8.10"
  }
 },
 "nbformat": 4,
 "nbformat_minor": 4
}
